{
 "cells": [
  {
   "cell_type": "code",
   "execution_count": 80,
   "metadata": {},
   "outputs": [],
   "source": [
    "#Load dependencies\n",
    "import pandas as pd\n",
    "import numpy as np\n",
    "from sklearn.preprocessing import StandardScaler\n",
    "from matplotlib import *\n",
    "import matplotlib.pyplot as plt\n",
    "from scipy import stats\n",
    "from sklearn.decomposition import PCA as sklearnPCA\n",
    "import seaborn as sns"
   ]
  },
  {
   "cell_type": "code",
   "execution_count": 81,
   "metadata": {},
   "outputs": [
    {
     "data": {
      "text/html": [
       "<div>\n",
       "<style scoped>\n",
       "    .dataframe tbody tr th:only-of-type {\n",
       "        vertical-align: middle;\n",
       "    }\n",
       "\n",
       "    .dataframe tbody tr th {\n",
       "        vertical-align: top;\n",
       "    }\n",
       "\n",
       "    .dataframe thead th {\n",
       "        text-align: right;\n",
       "    }\n",
       "</style>\n",
       "<table border=\"1\" class=\"dataframe\">\n",
       "  <thead>\n",
       "    <tr style=\"text-align: right;\">\n",
       "      <th></th>\n",
       "      <th>ComponentAge</th>\n",
       "      <th>MonthlyRunTime</th>\n",
       "      <th>FlowRate</th>\n",
       "      <th>MaxOutputRate</th>\n",
       "      <th>Sensor1</th>\n",
       "      <th>Sensor2</th>\n",
       "      <th>Sensor3</th>\n",
       "      <th>Sensor4</th>\n",
       "      <th>Sensor5</th>\n",
       "      <th>Sensor5.1</th>\n",
       "      <th>DaysSinceMaintenance</th>\n",
       "      <th>Target</th>\n",
       "      <th>Location A</th>\n",
       "    </tr>\n",
       "  </thead>\n",
       "  <tbody>\n",
       "    <tr>\n",
       "      <th>0</th>\n",
       "      <td>0.55</td>\n",
       "      <td>9.5</td>\n",
       "      <td>0.99740</td>\n",
       "      <td>32.0</td>\n",
       "      <td>10.0</td>\n",
       "      <td>1.90</td>\n",
       "      <td>0.580</td>\n",
       "      <td>3.13</td>\n",
       "      <td>0.22</td>\n",
       "      <td>0.080</td>\n",
       "      <td>9.0</td>\n",
       "      <td>0</td>\n",
       "      <td>0</td>\n",
       "    </tr>\n",
       "    <tr>\n",
       "      <th>1</th>\n",
       "      <td>0.32</td>\n",
       "      <td>12.7</td>\n",
       "      <td>0.99184</td>\n",
       "      <td>28.0</td>\n",
       "      <td>6.9</td>\n",
       "      <td>10.55</td>\n",
       "      <td>0.300</td>\n",
       "      <td>3.07</td>\n",
       "      <td>0.30</td>\n",
       "      <td>0.037</td>\n",
       "      <td>4.0</td>\n",
       "      <td>0</td>\n",
       "      <td>1</td>\n",
       "    </tr>\n",
       "    <tr>\n",
       "      <th>2</th>\n",
       "      <td>0.57</td>\n",
       "      <td>9.7</td>\n",
       "      <td>0.99743</td>\n",
       "      <td>86.0</td>\n",
       "      <td>7.2</td>\n",
       "      <td>2.30</td>\n",
       "      <td>0.660</td>\n",
       "      <td>3.53</td>\n",
       "      <td>0.03</td>\n",
       "      <td>0.078</td>\n",
       "      <td>16.0</td>\n",
       "      <td>0</td>\n",
       "      <td>0</td>\n",
       "    </tr>\n",
       "    <tr>\n",
       "      <th>3</th>\n",
       "      <td>0.50</td>\n",
       "      <td>9.5</td>\n",
       "      <td>0.99593</td>\n",
       "      <td>84.0</td>\n",
       "      <td>7.1</td>\n",
       "      <td>1.80</td>\n",
       "      <td>0.755</td>\n",
       "      <td>3.19</td>\n",
       "      <td>0.15</td>\n",
       "      <td>0.107</td>\n",
       "      <td>20.0</td>\n",
       "      <td>0</td>\n",
       "      <td>0</td>\n",
       "    </tr>\n",
       "    <tr>\n",
       "      <th>4</th>\n",
       "      <td>0.44</td>\n",
       "      <td>10.8</td>\n",
       "      <td>0.99280</td>\n",
       "      <td>127.0</td>\n",
       "      <td>7.0</td>\n",
       "      <td>4.90</td>\n",
       "      <td>0.290</td>\n",
       "      <td>3.17</td>\n",
       "      <td>0.37</td>\n",
       "      <td>0.034</td>\n",
       "      <td>26.0</td>\n",
       "      <td>0</td>\n",
       "      <td>1</td>\n",
       "    </tr>\n",
       "    <tr>\n",
       "      <th>...</th>\n",
       "      <td>...</td>\n",
       "      <td>...</td>\n",
       "      <td>...</td>\n",
       "      <td>...</td>\n",
       "      <td>...</td>\n",
       "      <td>...</td>\n",
       "      <td>...</td>\n",
       "      <td>...</td>\n",
       "      <td>...</td>\n",
       "      <td>...</td>\n",
       "      <td>...</td>\n",
       "      <td>...</td>\n",
       "      <td>...</td>\n",
       "    </tr>\n",
       "    <tr>\n",
       "      <th>5290</th>\n",
       "      <td>0.31</td>\n",
       "      <td>9.4</td>\n",
       "      <td>0.99330</td>\n",
       "      <td>69.0</td>\n",
       "      <td>5.8</td>\n",
       "      <td>1.80</td>\n",
       "      <td>0.230</td>\n",
       "      <td>3.38</td>\n",
       "      <td>0.27</td>\n",
       "      <td>0.043</td>\n",
       "      <td>24.0</td>\n",
       "      <td>0</td>\n",
       "      <td>1</td>\n",
       "    </tr>\n",
       "    <tr>\n",
       "      <th>5291</th>\n",
       "      <td>0.35</td>\n",
       "      <td>9.2</td>\n",
       "      <td>0.99240</td>\n",
       "      <td>30.0</td>\n",
       "      <td>5.6</td>\n",
       "      <td>0.80</td>\n",
       "      <td>0.290</td>\n",
       "      <td>3.36</td>\n",
       "      <td>0.05</td>\n",
       "      <td>0.038</td>\n",
       "      <td>11.0</td>\n",
       "      <td>0</td>\n",
       "      <td>1</td>\n",
       "    </tr>\n",
       "    <tr>\n",
       "      <th>5292</th>\n",
       "      <td>0.74</td>\n",
       "      <td>11.5</td>\n",
       "      <td>0.99780</td>\n",
       "      <td>14.0</td>\n",
       "      <td>11.6</td>\n",
       "      <td>3.65</td>\n",
       "      <td>0.530</td>\n",
       "      <td>3.05</td>\n",
       "      <td>0.66</td>\n",
       "      <td>0.121</td>\n",
       "      <td>6.0</td>\n",
       "      <td>1</td>\n",
       "      <td>0</td>\n",
       "    </tr>\n",
       "    <tr>\n",
       "      <th>5293</th>\n",
       "      <td>0.53</td>\n",
       "      <td>10.5</td>\n",
       "      <td>0.99860</td>\n",
       "      <td>21.0</td>\n",
       "      <td>11.1</td>\n",
       "      <td>3.10</td>\n",
       "      <td>0.350</td>\n",
       "      <td>3.17</td>\n",
       "      <td>0.48</td>\n",
       "      <td>0.090</td>\n",
       "      <td>5.0</td>\n",
       "      <td>0</td>\n",
       "      <td>0</td>\n",
       "    </tr>\n",
       "    <tr>\n",
       "      <th>5294</th>\n",
       "      <td>0.36</td>\n",
       "      <td>10.0</td>\n",
       "      <td>0.99272</td>\n",
       "      <td>95.0</td>\n",
       "      <td>8.5</td>\n",
       "      <td>1.10</td>\n",
       "      <td>0.180</td>\n",
       "      <td>2.83</td>\n",
       "      <td>0.30</td>\n",
       "      <td>0.028</td>\n",
       "      <td>34.0</td>\n",
       "      <td>0</td>\n",
       "      <td>1</td>\n",
       "    </tr>\n",
       "  </tbody>\n",
       "</table>\n",
       "<p>5295 rows × 13 columns</p>\n",
       "</div>"
      ],
      "text/plain": [
       "      ComponentAge  MonthlyRunTime  FlowRate  MaxOutputRate  Sensor1  Sensor2  \\\n",
       "0             0.55             9.5   0.99740           32.0     10.0     1.90   \n",
       "1             0.32            12.7   0.99184           28.0      6.9    10.55   \n",
       "2             0.57             9.7   0.99743           86.0      7.2     2.30   \n",
       "3             0.50             9.5   0.99593           84.0      7.1     1.80   \n",
       "4             0.44            10.8   0.99280          127.0      7.0     4.90   \n",
       "...            ...             ...       ...            ...      ...      ...   \n",
       "5290          0.31             9.4   0.99330           69.0      5.8     1.80   \n",
       "5291          0.35             9.2   0.99240           30.0      5.6     0.80   \n",
       "5292          0.74            11.5   0.99780           14.0     11.6     3.65   \n",
       "5293          0.53            10.5   0.99860           21.0     11.1     3.10   \n",
       "5294          0.36            10.0   0.99272           95.0      8.5     1.10   \n",
       "\n",
       "      Sensor3  Sensor4  Sensor5  Sensor5.1  DaysSinceMaintenance  Target  \\\n",
       "0       0.580     3.13     0.22      0.080                   9.0       0   \n",
       "1       0.300     3.07     0.30      0.037                   4.0       0   \n",
       "2       0.660     3.53     0.03      0.078                  16.0       0   \n",
       "3       0.755     3.19     0.15      0.107                  20.0       0   \n",
       "4       0.290     3.17     0.37      0.034                  26.0       0   \n",
       "...       ...      ...      ...        ...                   ...     ...   \n",
       "5290    0.230     3.38     0.27      0.043                  24.0       0   \n",
       "5291    0.290     3.36     0.05      0.038                  11.0       0   \n",
       "5292    0.530     3.05     0.66      0.121                   6.0       1   \n",
       "5293    0.350     3.17     0.48      0.090                   5.0       0   \n",
       "5294    0.180     2.83     0.30      0.028                  34.0       0   \n",
       "\n",
       "      Location A  \n",
       "0              0  \n",
       "1              1  \n",
       "2              0  \n",
       "3              0  \n",
       "4              1  \n",
       "...          ...  \n",
       "5290           1  \n",
       "5291           1  \n",
       "5292           0  \n",
       "5293           0  \n",
       "5294           1  \n",
       "\n",
       "[5295 rows x 13 columns]"
      ]
     },
     "execution_count": 81,
     "metadata": {},
     "output_type": "execute_result"
    }
   ],
   "source": [
    "df = pd.read_csv('C:/Users/olowe_m/OneDrive/DA Material/Case Study 3/MPS_cleanv2.csv')\n",
    "df.drop(['Unnamed: 0', 'A', 'Location'], axis=1, inplace=True)\n",
    "#df.replace({'Location': {'A': 0, 'B': 1}}, inplace=True)\n",
    "\n",
    "X = df.drop('Target', axis=1)\n",
    "y = df.Target\n",
    "\n",
    "df"
   ]
  },
  {
   "cell_type": "markdown",
   "metadata": {},
   "source": [
    "Step 1: Standardization\n",
    "\n",
    "Un-standardized data is sensitive to the variances of the initial variables. The variables with larger ranges dominates over those with small ranges (a variable that ranges between 0 and 100 will dominate over a variable that ranges between 0 and 1), which leads to biased results. Transforming the data to comparable scales prevents this problem.\n",
    "\n",
    "Mathematically, this can be done by subtracting the mean (or emperical mean - sample mean of each column shifted to zero) and dividing by the standard deviation for each value of each variable."
   ]
  },
  {
   "cell_type": "code",
   "execution_count": 82,
   "metadata": {},
   "outputs": [],
   "source": [
    "X = StandardScaler().fit_transform(X)"
   ]
  },
  {
   "cell_type": "markdown",
   "metadata": {},
   "source": [
    "Step 2: Eigendecomposition - Computing Eigenvectors and Eigenvalues\n",
    "\n",
    "The eigenvectors and eigenvalues of a covariance (or correlation) matrix represent the “core” of a PCA: The eigenvectors (principal components) determine the directions of the new feature space, and the eigenvalues determine their magnitude. In other words, the eigenvalues explain the variance of the data along the new feature axes."
   ]
  },
  {
   "cell_type": "code",
   "execution_count": 83,
   "metadata": {},
   "outputs": [
    {
     "name": "stdout",
     "output_type": "stream",
     "text": [
      "Covariance matrix \n",
      "[[ 1.00018889 -0.01901135  0.28309555 -0.27544075  0.30710181 -0.17469636\n",
      "   0.22657968  0.16617036  0.06213262  0.40584754 -0.19904241 -0.48952165]\n",
      " [-0.01901135  1.00018889 -0.66907612 -0.24782613 -0.10367697 -0.30536825\n",
      "  -0.06679364  0.09663375 -0.00512536 -0.27024659 -0.1698856   0.06013648]\n",
      " [ 0.28309555 -0.66907612  1.00018889  0.00597503  0.47901051  0.5202925\n",
      "   0.30847434  0.03498585  0.09584239  0.37219668  0.0058279  -0.43003464]\n",
      " [-0.27544075 -0.24782613  0.00597503  1.00018889 -0.32869321  0.48762594\n",
      "  -0.40130643 -0.22204506  0.19426742 -0.27005976  0.72144388  0.6944606 ]\n",
      " [ 0.30710181 -0.10367697  0.47901051 -0.32869321  1.00018889 -0.10610422\n",
      "   0.21656444 -0.26967477  0.32931385  0.28995787 -0.28207801 -0.48830474]\n",
      " [-0.17469636 -0.30536825  0.5202925   0.48762594 -0.10610422  1.00018889\n",
      "  -0.16446951 -0.23336265  0.14655559 -0.12313831  0.39965482  0.32917265]\n",
      " [ 0.22657968 -0.06679364  0.30847434 -0.40130643  0.21656444 -0.16446951\n",
      "   1.00018889  0.24537583 -0.38282182  0.36833508 -0.3498497  -0.6453649 ]\n",
      " [ 0.16617036  0.09663375  0.03498585 -0.22204506 -0.26967477 -0.23336265\n",
      "   0.24537583  1.00018889 -0.34271315  0.02596771 -0.14139425 -0.31021664]\n",
      " [ 0.06213262 -0.00512536  0.09584239  0.19426742  0.32931385  0.14655559\n",
      "  -0.38282182 -0.34271315  1.00018889  0.05527619  0.13082668  0.18231054]\n",
      " [ 0.40584754 -0.27024659  0.37219668 -0.27005976  0.28995787 -0.12313831\n",
      "   0.36833508  0.02596771  0.05527619  1.00018889 -0.18734694 -0.4998178 ]\n",
      " [-0.19904241 -0.1698856   0.0058279   0.72144388 -0.28207801  0.39965482\n",
      "  -0.3498497  -0.14139425  0.13082668 -0.18734694  1.00018889  0.46653983]\n",
      " [-0.48952165  0.06013648 -0.43003464  0.6944606  -0.48830474  0.32917265\n",
      "  -0.6453649  -0.31021664  0.18231054 -0.4998178   0.46653983  1.00018889]]\n"
     ]
    }
   ],
   "source": [
    "X_mean = np.mean(X, axis=0)\n",
    "# cov_mat = np.cov(X)\n",
    "cov_mat = (X - X_mean).T.dot((X - X_mean)) / (X.shape[0]-1)\n",
    "print('Covariance matrix \\n%s' %cov_mat)"
   ]
  },
  {
   "cell_type": "markdown",
   "metadata": {},
   "source": [
    "Next, we perform an eigendecomposition on the covariance matrix:\n",
    "\n",
    "All the three approaches yield the same eigenvectors and eigenvalue pairs:\n",
    "\n",
    "Eigendecomposition of the covariance matrix after standardizing the data.\n",
    "\n",
    "Eigendecomposition of the correlation matrix.\n",
    "\n",
    "Eigendecomposition of the correlation matrix after standardizing the data."
   ]
  },
  {
   "cell_type": "code",
   "execution_count": 84,
   "metadata": {},
   "outputs": [
    {
     "name": "stdout",
     "output_type": "stream",
     "text": [
      "Eigenvectors \n",
      "[[-2.90495822e-01  1.10922708e-01 -9.56944744e-02 -6.30718649e-01\n",
      "  -4.49177930e-02  1.09468887e-01 -5.67086468e-02 -1.94706656e-01\n",
      "   1.39146899e-01  2.51433099e-01 -5.54680235e-01  2.25757968e-01]\n",
      " [ 1.88789506e-02 -4.65196506e-01 -2.60244259e-01 -9.58484396e-02\n",
      "   3.21393441e-01 -1.33516161e-01  2.29443575e-01  1.75294373e-01\n",
      "   3.04457972e-01  5.44825085e-01  2.98742287e-01  1.51832258e-01]\n",
      " [-1.89109814e-01  5.41180133e-01  1.70093074e-01  9.35179153e-02\n",
      "   7.31224670e-01 -5.50573482e-02  6.48225519e-02  6.91119791e-02\n",
      "   2.82467404e-01 -8.46268005e-02  7.04023722e-04 -5.91636413e-03]\n",
      " [ 4.03905479e-01  2.28398970e-01  1.33808303e-01 -1.99721172e-01\n",
      "  -5.37367007e-02 -5.42253086e-01  4.47528189e-01 -3.94663208e-01\n",
      "  -1.09675287e-01  1.62295021e-01 -2.42147195e-03 -1.88574362e-01]\n",
      " [-2.69884090e-01  2.61563330e-01 -4.37860630e-01  1.95995629e-01\n",
      "  -2.80262352e-01  2.15197709e-01  4.90036457e-01  1.39034514e-01\n",
      "   1.60285041e-01  1.05202905e-01 -8.19064807e-02 -4.48129448e-01]\n",
      " [ 2.19941069e-01  4.07293681e-01  1.81090159e-01  1.82898756e-01\n",
      "  -4.39475703e-01  5.33082992e-02 -1.34576592e-02  1.46008878e-01\n",
      "   3.96958440e-01  2.46429710e-01  1.43355925e-01  5.12988585e-01]\n",
      " [-3.57873229e-01  1.51067772e-02  2.91769575e-01  2.35572847e-01\n",
      "  -1.80431816e-02  2.39356671e-01 -1.39463636e-01 -5.68464540e-01\n",
      "  -1.18454942e-01  4.76926310e-01  2.64594205e-01 -1.39121898e-01]\n",
      " [-1.60722781e-01 -2.07233156e-01  4.59153686e-01 -3.99431544e-01\n",
      "  -1.62432550e-01  1.59300539e-01  2.51591845e-01 -1.66445777e-02\n",
      "   4.32981809e-01 -3.51872638e-01  3.16241946e-01 -1.84991565e-01]\n",
      " [ 1.04743574e-01  2.33141046e-01 -5.72344146e-01 -2.50599705e-01\n",
      "  -8.43658704e-03  1.10441668e-02 -3.41829854e-01 -3.53267479e-01\n",
      "   1.75474245e-01 -2.09539640e-01  4.76650241e-01 -2.37438216e-02]\n",
      " [-3.00917433e-01  2.24541004e-01 -1.39852677e-02 -2.84251411e-01\n",
      "  -1.76033943e-02  4.18050539e-02  2.92819536e-01  2.36210697e-01\n",
      "  -5.98585374e-01 -1.39698311e-02  4.04743653e-01  3.34846587e-01]\n",
      " [ 3.40207715e-01  2.04439904e-01  1.60066635e-01 -3.37265569e-01\n",
      "   3.46633817e-02  2.50490041e-01 -3.05648631e-01  4.05147109e-01\n",
      "  -1.19372186e-01  3.64959698e-01  9.67826221e-02 -4.74098505e-01]\n",
      " [ 4.73258113e-01 -4.69035300e-02 -4.91657529e-02  1.09274192e-02\n",
      "   2.39025358e-01  6.90423981e-01  3.47244750e-01 -2.49017948e-01\n",
      "  -8.94957187e-02 -7.79727181e-02 -7.36078573e-02  1.88083871e-01]]\n",
      "\n",
      "Eigenvalues \n",
      "[3.785945   2.48936283 1.59042511 0.95358007 0.02624107 0.11963464\n",
      " 0.25558402 0.35441983 0.74801321 0.62899134 0.51677589 0.53329371]\n"
     ]
    }
   ],
   "source": [
    "import numpy as np\n",
    "eig_vals, eig_vecs = np.linalg.eig(cov_mat)\n",
    "\n",
    "print('Eigenvectors \\n%s' %eig_vecs)\n",
    "print('\\nEigenvalues \\n%s' %eig_vals)"
   ]
  },
  {
   "cell_type": "markdown",
   "metadata": {},
   "source": [
    "Singular Value Decomposition \n",
    "\n",
    "While the eigendecomposition of the covariance or correlation matrix may be more intuitiuve, most PCA implementations perform a Singular Value Decomposition (SVD) to improve the computational efficiency. So, let us perform an SVD to confirm that the result are indeed the same:"
   ]
  },
  {
   "cell_type": "code",
   "execution_count": 85,
   "metadata": {},
   "outputs": [
    {
     "data": {
      "text/plain": [
       "array([[-2.90495822e-01, -1.10922708e-01,  9.56944744e-02,\n",
       "        -6.30718649e-01, -1.39146899e-01,  2.51433099e-01,\n",
       "        -2.25757968e-01, -5.54680235e-01,  1.94706656e-01,\n",
       "        -5.67086468e-02,  1.09468887e-01,  4.49177930e-02],\n",
       "       [ 1.88789506e-02,  4.65196506e-01,  2.60244259e-01,\n",
       "        -9.58484396e-02, -3.04457972e-01,  5.44825085e-01,\n",
       "        -1.51832258e-01,  2.98742287e-01, -1.75294373e-01,\n",
       "         2.29443575e-01, -1.33516161e-01, -3.21393441e-01],\n",
       "       [-1.89109814e-01, -5.41180133e-01, -1.70093074e-01,\n",
       "         9.35179153e-02, -2.82467404e-01, -8.46268005e-02,\n",
       "         5.91636413e-03,  7.04023722e-04, -6.91119791e-02,\n",
       "         6.48225519e-02, -5.50573482e-02, -7.31224670e-01],\n",
       "       [ 4.03905479e-01, -2.28398970e-01, -1.33808303e-01,\n",
       "        -1.99721172e-01,  1.09675287e-01,  1.62295021e-01,\n",
       "         1.88574362e-01, -2.42147195e-03,  3.94663208e-01,\n",
       "         4.47528189e-01, -5.42253086e-01,  5.37367007e-02],\n",
       "       [-2.69884090e-01, -2.61563330e-01,  4.37860630e-01,\n",
       "         1.95995629e-01, -1.60285041e-01,  1.05202905e-01,\n",
       "         4.48129448e-01, -8.19064807e-02, -1.39034514e-01,\n",
       "         4.90036457e-01,  2.15197709e-01,  2.80262352e-01],\n",
       "       [ 2.19941069e-01, -4.07293681e-01, -1.81090159e-01,\n",
       "         1.82898756e-01, -3.96958440e-01,  2.46429710e-01,\n",
       "        -5.12988585e-01,  1.43355925e-01, -1.46008878e-01,\n",
       "        -1.34576592e-02,  5.33082992e-02,  4.39475703e-01],\n",
       "       [-3.57873229e-01, -1.51067772e-02, -2.91769575e-01,\n",
       "         2.35572847e-01,  1.18454942e-01,  4.76926310e-01,\n",
       "         1.39121898e-01,  2.64594205e-01,  5.68464540e-01,\n",
       "        -1.39463636e-01,  2.39356671e-01,  1.80431816e-02],\n",
       "       [-1.60722781e-01,  2.07233156e-01, -4.59153686e-01,\n",
       "        -3.99431544e-01, -4.32981809e-01, -3.51872638e-01,\n",
       "         1.84991565e-01,  3.16241946e-01,  1.66445777e-02,\n",
       "         2.51591845e-01,  1.59300539e-01,  1.62432550e-01],\n",
       "       [ 1.04743574e-01, -2.33141046e-01,  5.72344146e-01,\n",
       "        -2.50599705e-01, -1.75474245e-01, -2.09539640e-01,\n",
       "         2.37438216e-02,  4.76650241e-01,  3.53267479e-01,\n",
       "        -3.41829854e-01,  1.10441668e-02,  8.43658704e-03],\n",
       "       [-3.00917433e-01, -2.24541004e-01,  1.39852677e-02,\n",
       "        -2.84251411e-01,  5.98585374e-01, -1.39698311e-02,\n",
       "        -3.34846587e-01,  4.04743653e-01, -2.36210697e-01,\n",
       "         2.92819536e-01,  4.18050539e-02,  1.76033943e-02],\n",
       "       [ 3.40207715e-01, -2.04439904e-01, -1.60066635e-01,\n",
       "        -3.37265569e-01,  1.19372186e-01,  3.64959698e-01,\n",
       "         4.74098505e-01,  9.67826221e-02, -4.05147109e-01,\n",
       "        -3.05648631e-01,  2.50490041e-01, -3.46633817e-02],\n",
       "       [ 4.73258113e-01,  4.69035300e-02,  4.91657529e-02,\n",
       "         1.09274192e-02,  8.94957187e-02, -7.79727181e-02,\n",
       "        -1.88083871e-01, -7.36078573e-02,  2.49017948e-01,\n",
       "         3.47244750e-01,  6.90423981e-01, -2.39025358e-01]])"
      ]
     },
     "execution_count": 85,
     "metadata": {},
     "output_type": "execute_result"
    }
   ],
   "source": [
    "u,s,v = np.linalg.svd(X.T)\n",
    "u"
   ]
  },
  {
   "cell_type": "markdown",
   "metadata": {},
   "source": [
    "Step 3: Selecting Principal Components\n",
    "\n",
    "Sorting Eigenpairs \n",
    "\n",
    "The goal of PCA is to reduce the dimensionality of the original feature space by projecting it onto a smaller subspace, where the eigenvectors will form the axes. However, the eigenvectors only define the directions of the new axis, since they all have the same unit length 1.\n",
    "\n",
    "In order to decide which eigenvector(s) can be dropped without losing too much information, we need to inspect the corresponding eigenvalues: The eigenvectors with the lowest eigenvalues bear the least information about the distribution of the data; those are the ones can be dropped.\n",
    "\n",
    "The common approach is to rank the eigenvalues from highest to lowest."
   ]
  },
  {
   "cell_type": "code",
   "execution_count": 86,
   "metadata": {},
   "outputs": [
    {
     "name": "stdout",
     "output_type": "stream",
     "text": [
      "Eigenvalues in descending order:\n",
      "3.785945004049297\n",
      "2.4893628338428724\n",
      "1.5904251114789179\n",
      "0.9535800661159175\n",
      "0.7480132110680487\n",
      "0.6289913429733289\n",
      "0.5332937073588345\n",
      "0.5167758855423911\n",
      "0.35441983029147767\n",
      "0.255584022996004\n",
      "0.11963463628926142\n",
      "0.026241065031811485\n"
     ]
    }
   ],
   "source": [
    "# Make a list of (eigenvalue, eigenvector) tuples\n",
    "eig_pairs = [(np.abs(eig_vals[i]), eig_vecs[:,i]) for i in range(len(eig_vals))]\n",
    "\n",
    "# Sort the (eigenvalue, eigenvector) tuples from high to low\n",
    "eig_pairs.sort(key=lambda x: x[0], reverse=True)\n",
    "\n",
    "# Visually confirm that the list is correctly sorted by decreasing eigenvalues\n",
    "print('Eigenvalues in descending order:')\n",
    "for i in eig_pairs:\n",
    "    print(i[0])"
   ]
  },
  {
   "cell_type": "markdown",
   "metadata": {},
   "source": [
    "Explained Variance \n",
    "\n",
    "After sorting the eigenpairs, the next question is “how many principal components are we going to choose for our new feature subspace?” A useful measure is the so-called “explained variance,” which can be calculated from the eigenvalues. The explained variance tells us how much information (variance) can be attributed to each of the principal components."
   ]
  },
  {
   "cell_type": "code",
   "execution_count": 87,
   "metadata": {},
   "outputs": [
    {
     "data": {
      "text/plain": [
       "array([ 31.54358334,  52.28435583,  65.53539539,  73.48039519,\n",
       "        79.71266138,  84.95326599,  89.39654092,  93.70219332,\n",
       "        96.65513412,  98.78459874,  99.78136576, 100.        ])"
      ]
     },
     "execution_count": 87,
     "metadata": {},
     "output_type": "execute_result"
    }
   ],
   "source": [
    "tot = sum(eig_vals)\n",
    "var_exp = [(i / tot)*100 for i in sorted(eig_vals, reverse=True)]\n",
    "cum_var_exp = np.cumsum(var_exp)\n",
    "cum_var_exp"
   ]
  },
  {
   "cell_type": "markdown",
   "metadata": {},
   "source": [
    "In the above array we see that the first feature explains roughly 31.54% of the variance within our data set while the first two explain 52.8 and so on."
   ]
  },
  {
   "cell_type": "markdown",
   "metadata": {},
   "source": [
    "Projection Matrix \n",
    "\n",
    "The projection matrix is used to transform the Input data(X) onto the new feature subspace. Projection Matrix is a matrix of concatenated top k eigenvectors.\n",
    "\n",
    "Here, we are reducing the 4-dimensional feature space to a 2-dimensional feature subspace, by choosing the “top 2” eigenvectors with the highest eigenvalues to construct our 2-dimensional eigenvector matrix ."
   ]
  },
  {
   "cell_type": "code",
   "execution_count": 88,
   "metadata": {},
   "outputs": [
    {
     "name": "stdout",
     "output_type": "stream",
     "text": [
      "Matrix W:\n",
      " [[-0.29049582  0.11092271]\n",
      " [ 0.01887895 -0.46519651]\n",
      " [-0.18910981  0.54118013]\n",
      " [ 0.40390548  0.22839897]\n",
      " [-0.26988409  0.26156333]\n",
      " [ 0.21994107  0.40729368]\n",
      " [-0.35787323  0.01510678]\n",
      " [-0.16072278 -0.20723316]\n",
      " [ 0.10474357  0.23314105]\n",
      " [-0.30091743  0.224541  ]\n",
      " [ 0.34020771  0.2044399 ]\n",
      " [ 0.47325811 -0.04690353]]\n"
     ]
    }
   ],
   "source": [
    "matrix_w = np.hstack((eig_pairs[0][1].reshape(12,1),\n",
    "                      eig_pairs[1][1].reshape(12,1)))\n",
    "\n",
    "print('Matrix W:\\n', matrix_w)"
   ]
  },
  {
   "cell_type": "markdown",
   "metadata": {},
   "source": [
    "Step 4: Projection Onto the New Feature Space\n"
   ]
  },
  {
   "cell_type": "code",
   "execution_count": 89,
   "metadata": {},
   "outputs": [],
   "source": [
    "Y = X.dot(matrix_w)"
   ]
  },
  {
   "cell_type": "code",
   "execution_count": 90,
   "metadata": {},
   "outputs": [
    {
     "data": {
      "image/png": "[encoded data removed]",
      "text/plain": [
       "<Figure size 432x288 with 1 Axes>"
      ]
     },
     "metadata": {},
     "output_type": "display_data"
    }
   ],
   "source": [
    "import matplotlib.pyplot as plt\n",
    "\n",
    "with plt.style.context('seaborn-whitegrid'):\n",
    "    plt.figure(figsize=(6, 4))\n",
    "    for lab, col in zip(('Iris-setosa', 'Iris-versicolor', 'Iris-virginica'), ('blue', 'red', 'green')):\n",
    "        plt.scatter(Y[y==lab, 0], Y[y==lab, 1], label=lab, c=col)\n",
    "    plt.xlabel('Principal Component 1')\n",
    "    plt.ylabel('Principal Component 2')\n",
    "    plt.legend(loc='lower center')\n",
    "    plt.tight_layout()\n",
    "    plt.show()"
   ]
  },
  {
   "cell_type": "markdown",
   "metadata": {},
   "source": [
    "Shortcut - PCA in scikit-learn\n"
   ]
  },
  {
   "cell_type": "code",
   "execution_count": 91,
   "metadata": {},
   "outputs": [
    {
     "data": {
      "text/plain": [
       "array([0.31543583, 0.20740772])"
      ]
     },
     "execution_count": 91,
     "metadata": {},
     "output_type": "execute_result"
    }
   ],
   "source": [
    "from sklearn.decomposition import PCA as sklearnPCA\n",
    "sklearn_pca = sklearnPCA(n_components=2)\n",
    "Y_sklearn = sklearn_pca.fit_transform(X)\n",
    "\n",
    "sklearn_pca.explained_variance_ratio_"
   ]
  },
  {
   "cell_type": "code",
   "execution_count": 92,
   "metadata": {},
   "outputs": [
    {
     "data": {
      "image/png": "[encoded data removed]",
      "text/plain": [
       "<Figure size 432x288 with 1 Axes>"
      ]
     },
     "metadata": {},
     "output_type": "display_data"
    }
   ],
   "source": [
    "with plt.style.context('seaborn-whitegrid'):\n",
    "    plt.figure(figsize=(6, 4))\n",
    "    for lab, col in zip(('Iris-setosa', 'Iris-versicolor', 'Iris-virginica'),\n",
    "                        ('blue', 'red', 'green')):\n",
    "        plt.scatter(Y_sklearn[y==lab, 0],\n",
    "                    Y_sklearn[y==lab, 1],\n",
    "                    label=lab,\n",
    "                    c=col)\n",
    "    plt.xlabel('Principal Component 1')\n",
    "    plt.ylabel('Principal Component 2')\n",
    "    plt.legend(loc='lower center')\n",
    "    plt.tight_layout()\n",
    "    plt.show()"
   ]
  },
  {
   "cell_type": "markdown",
   "metadata": {},
   "source": [
    "Application 2 - PCA to Speed-up Machine Learning Algorithms \n"
   ]
  },
  {
   "cell_type": "code",
   "execution_count": 93,
   "metadata": {},
   "outputs": [],
   "source": [
    "from sklearn.datasets import fetch_openml\n",
    "X, y = fetch_openml('mnist_784', version=1, return_X_y=True)"
   ]
  },
  {
   "cell_type": "code",
   "execution_count": 94,
   "metadata": {},
   "outputs": [],
   "source": [
    "from sklearn.model_selection import train_test_split\n",
    "train_img, test_img, train_lbl, test_lbl = train_test_split( X, y, test_size=0.2, random_state=0)"
   ]
  },
  {
   "cell_type": "code",
   "execution_count": 95,
   "metadata": {},
   "outputs": [
    {
     "name": "stdout",
     "output_type": "stream",
     "text": [
      "154\n"
     ]
    }
   ],
   "source": [
    "from sklearn.decomposition import PCA\n",
    "\n",
    "# scikit-learn choose the minimum number of principal components such that 95% of the variance is retained.\n",
    "pca = PCA(0.95)\n",
    "pca.fit(train_img)\n",
    "print(pca.n_components_)\n",
    "train_img = pca.transform(train_img)\n",
    "test_img = pca.transform(test_img)"
   ]
  },
  {
   "cell_type": "markdown",
   "metadata": {},
   "source": [
    "Incremental PCA \n",
    "\n",
    "PCA requires the whole training set to fit in memory. Incremental PCA splits the training set into mini-batches. This is useful for large training sets, and also to apply PCA online (i.e., on the fly, as new instances arrive)."
   ]
  },
  {
   "cell_type": "code",
   "execution_count": 96,
   "metadata": {},
   "outputs": [],
   "source": [
    "from sklearn.decomposition import IncrementalPCA\n",
    "n_batches = 100\n",
    "\n",
    "inc_pca = IncrementalPCA(n_components=154)\n",
    "\n",
    "for X_batch in np.array_split(train_img, n_batches):\n",
    "        inc_pca.partial_fit(X_batch)\n",
    "        \n",
    "X_mnist_reduced = inc_pca.transform(train_img)"
   ]
  },
  {
   "cell_type": "markdown",
   "metadata": {},
   "source": [
    "PCA_2"
   ]
  },
  {
   "cell_type": "code",
   "execution_count": 97,
   "metadata": {},
   "outputs": [
    {
     "name": "stdout",
     "output_type": "stream",
     "text": [
      "Covariance matrix \n",
      "[[ 1.00018889 -0.01901135  0.28309555 -0.27544075  0.30710181 -0.17469636\n",
      "   0.22657968  0.16617036  0.06213262  0.40584754 -0.19904241  0.03756408\n",
      "  -0.48952165]\n",
      " [-0.01901135  1.00018889 -0.66907612 -0.24782613 -0.10367697 -0.30536825\n",
      "  -0.06679364  0.09663375 -0.00512536 -0.27024659 -0.1698856   0.41868414\n",
      "   0.06013648]\n",
      " [ 0.28309555 -0.66907612  1.00018889  0.00597503  0.47901051  0.5202925\n",
      "   0.30847434  0.03498585  0.09584239  0.37219668  0.0058279  -0.29440549\n",
      "  -0.43003464]\n",
      " [-0.27544075 -0.24782613  0.00597503  1.00018889 -0.32869321  0.48762594\n",
      "  -0.40130643 -0.22204506  0.19426742 -0.27005976  0.72144388 -0.06776244\n",
      "   0.6944606 ]\n",
      " [ 0.30710181 -0.10367697  0.47901051 -0.32869321  1.00018889 -0.10610422\n",
      "   0.21656444 -0.26967477  0.32931385  0.28995787 -0.28207801 -0.04988043\n",
      "  -0.48830474]\n",
      " [-0.17469636 -0.30536825  0.5202925   0.48762594 -0.10610422  1.00018889\n",
      "  -0.16446951 -0.23336265  0.14655559 -0.12313831  0.39965482 -0.0839855\n",
      "   0.32917265]\n",
      " [ 0.22657968 -0.06679364  0.30847434 -0.40130643  0.21656444 -0.16446951\n",
      "   1.00018889  0.24537583 -0.38282182  0.36833508 -0.3498497  -0.14369058\n",
      "  -0.6453649 ]\n",
      " [ 0.16617036  0.09663375  0.03498585 -0.22204506 -0.26967477 -0.23336265\n",
      "   0.24537583  1.00018889 -0.34271315  0.02596771 -0.14139425  0.04816584\n",
      "  -0.31021664]\n",
      " [ 0.06213262 -0.00512536  0.09584239  0.19426742  0.32931385  0.14655559\n",
      "  -0.38282182 -0.34271315  1.00018889  0.05527619  0.13082668  0.06007068\n",
      "   0.18231054]\n",
      " [ 0.40584754 -0.27024659  0.37219668 -0.27005976  0.28995787 -0.12313831\n",
      "   0.36833508  0.02596771  0.05527619  1.00018889 -0.18734694 -0.16074673\n",
      "  -0.4998178 ]\n",
      " [-0.19904241 -0.1698856   0.0058279   0.72144388 -0.28207801  0.39965482\n",
      "  -0.3498497  -0.14139425  0.13082668 -0.18734694  1.00018889  0.01184756\n",
      "   0.46653983]\n",
      " [ 0.03756408  0.41868414 -0.29440549 -0.06776244 -0.04988043 -0.0839855\n",
      "  -0.14369058  0.04816584  0.06007068 -0.16074673  0.01184756  1.00018889\n",
      "   0.0804027 ]\n",
      " [-0.48952165  0.06013648 -0.43003464  0.6944606  -0.48830474  0.32917265\n",
      "  -0.6453649  -0.31021664  0.18231054 -0.4998178   0.46653983  0.0804027\n",
      "   1.00018889]]\n"
     ]
    }
   ],
   "source": [
    "X_std = StandardScaler().fit_transform(df)\n",
    "mean_vec = np.mean(X_std, axis=0)\n",
    "cov_mat = (X_std - mean_vec).T.dot((X_std - mean_vec)) / (X_std.shape[0]-1)\n",
    "print('Covariance matrix \\n%s' %cov_mat)"
   ]
  },
  {
   "cell_type": "code",
   "execution_count": 98,
   "metadata": {},
   "outputs": [
    {
     "name": "stdout",
     "output_type": "stream",
     "text": [
      "Eigenvectors \n",
      "[[ 0.28920981 -0.07140354 -0.15069872 -0.5181007  -0.04643236  0.11101397\n",
      "   0.30240814 -0.05551496 -0.15697551 -0.05021185 -0.33159978 -0.1634426\n",
      "   0.58929932]\n",
      " [-0.03324901  0.48161349 -0.22519178 -0.12552456  0.31595021 -0.12471501\n",
      "  -0.15784555  0.24306524  0.26744253  0.08919401 -0.30211551  0.56132388\n",
      "   0.12353764]\n",
      " [ 0.20086256 -0.51889123  0.08160692 -0.1321418   0.73250073 -0.05493761\n",
      "  -0.2836981   0.06429029  0.05440176 -0.18729445  0.04403358 -0.03888915\n",
      "  -0.0245271 ]\n",
      " [-0.39745095 -0.24108161  0.10104617 -0.17048831 -0.05174566 -0.5437301\n",
      "   0.14656868  0.44278308 -0.39229206  0.13904399 -0.21234222  0.01626811\n",
      "  -0.10097718]\n",
      " [ 0.27193246 -0.21342027 -0.45925097  0.12756158 -0.28127488  0.2158065\n",
      "  -0.21224345  0.4908843   0.12184505 -0.04670861 -0.33056078 -0.1889143\n",
      "  -0.2821905 ]\n",
      " [-0.21169249 -0.39551243  0.09903718 -0.15343654 -0.44079104  0.05453444\n",
      "  -0.49209495 -0.00884409  0.17669883 -0.01977173  0.13507575  0.3667622\n",
      "   0.37619849]\n",
      " [ 0.35954588 -0.0206748   0.27631386  0.06410045 -0.01677785  0.236551\n",
      "  -0.2277837  -0.14671767 -0.54453977  0.41459395 -0.25609067  0.31680678\n",
      "  -0.16072047]\n",
      " [ 0.15706578  0.19078258  0.43569779 -0.42543498 -0.16351756  0.16013393\n",
      "   0.0678865   0.25219469 -0.01143857 -0.55035924  0.0728622   0.16817734\n",
      "  -0.33300841]\n",
      " [-0.10364695 -0.18925203 -0.58722502 -0.09708094 -0.00874833  0.01095121\n",
      "   0.17259042 -0.34340626 -0.31337347 -0.30819649  0.11679624  0.42153849\n",
      "  -0.2583548 ]\n",
      " [ 0.30525421 -0.20526358 -0.04533364 -0.12001495 -0.01711982  0.04143609\n",
      "   0.43554894  0.29341097  0.20990543  0.45096028  0.49777413  0.27012706\n",
      "  -0.0474542 ]\n",
      " [-0.33585038 -0.20587884  0.10770082 -0.33472318  0.03286275  0.25266242\n",
      "   0.16314933 -0.29930258  0.41271852  0.28197546 -0.3858803  -0.02841111\n",
      "  -0.37483839]\n",
      " [-0.06168268  0.27526117 -0.25244175 -0.54937589  0.0146415  -0.01797493\n",
      "  -0.42999023 -0.02207878 -0.16031717  0.28264438  0.3594761  -0.32573008\n",
      "  -0.16750134]\n",
      " [-0.47298229  0.02595228 -0.02433387  0.08177556  0.23809415  0.69015761\n",
      "   0.08347915  0.34261651 -0.25681918  0.00253969  0.11741075 -0.00105933\n",
      "   0.17670517]]\n",
      "\n",
      "Eigenvalues \n",
      "[3.79587977 2.61814192 1.64831477 1.05237533 0.02607779 0.11942508\n",
      " 0.87046985 0.25536174 0.34464564 0.68752069 0.5545352  0.50314666\n",
      " 0.5265612 ]\n"
     ]
    }
   ],
   "source": [
    "#Perform eigendecomposition on covariance matrix\n",
    "cov_mat = np.cov(X_std.T)\n",
    "eig_vals, eig_vecs = np.linalg.eig(cov_mat)\n",
    "\n",
    "print('Eigenvectors \\n%s' %eig_vecs)\n",
    "print('\\nEigenvalues \\n%s' %eig_vals)"
   ]
  },
  {
   "cell_type": "code",
   "execution_count": 99,
   "metadata": {},
   "outputs": [
    {
     "name": "stdout",
     "output_type": "stream",
     "text": [
      "Eigenvalues in descending order:\n",
      "3.795879768915108\n",
      "2.618141916266158\n",
      "1.6483147699507266\n",
      "1.0523753255612263\n",
      "0.870469848492168\n",
      "0.687520687691836\n",
      "0.5545352000805721\n",
      "0.5265611979111834\n",
      "0.5031466556321748\n",
      "0.3446456377443816\n",
      "0.2553617355275442\n",
      "0.1194250783686473\n",
      "0.02607778798294577\n"
     ]
    }
   ],
   "source": [
    "#Visually confirm that the list is correctly sorted by decreasing eigenvalues\n",
    "\n",
    "# Make a list of (eigenvalue, eigenvector) tuples\n",
    "eig_pairs = [(np.abs(eig_vals[i]), eig_vecs[:,i]) for i in range(len(eig_vals))]\n",
    "\n",
    "# Sort the (eigenvalue, eigenvector) tuples from high to low\n",
    "eig_pairs.sort(key=lambda x: x[0], reverse=True)\n",
    "\n",
    "# Visually confirm that the list is correctly sorted by decreasing eigenvalues\n",
    "print('Eigenvalues in descending order:')\n",
    "for i in eig_pairs:\n",
    "    print(i[0])"
   ]
  },
  {
   "cell_type": "code",
   "execution_count": 100,
   "metadata": {},
   "outputs": [
    {
     "name": "stdout",
     "output_type": "stream",
     "text": [
      "[0.95422017 0.04058487]\n"
     ]
    }
   ],
   "source": [
    "pca = PCA(n_components=2)\n",
    "pca.fit_transform(df)\n",
    "print(pca.explained_variance_ratio_)"
   ]
  },
  {
   "cell_type": "code",
   "execution_count": 101,
   "metadata": {},
   "outputs": [
    {
     "data": {
      "image/png": "[encoded data removed]",
      "text/plain": [
       "<Figure size 432x288 with 1 Axes>"
      ]
     },
     "metadata": {
      "needs_background": "light"
     },
     "output_type": "display_data"
    }
   ],
   "source": [
    "#Explaines variance\n",
    "pca = PCA().fit(X_std)\n",
    "plt.plot(np.cumsum(pca.explained_variance_ratio_))\n",
    "plt.xlabel('Number of Components')\n",
    "plt.ylabel('Cumulative explained variance')\n",
    "plt.show()"
   ]
  },
  {
   "cell_type": "markdown",
   "metadata": {},
   "source": [
    "The above plot shows almost 90% variance by the first 8 components. Therfore we can drop 4th component."
   ]
  },
  {
   "cell_type": "markdown",
   "metadata": {},
   "source": [
    "Things to consider when using PCA:-\n",
    "\n",
    "1) Scale feature before applying PCA\n",
    "\n",
    "2) Accuracy might drop\n",
    "\n",
    "3) Not the best option for categorial/binary target variable\n",
    "\n",
    "4) Data set should be int or flat data type"
   ]
  },
  {
   "cell_type": "code",
   "execution_count": 102,
   "metadata": {},
   "outputs": [],
   "source": [
    "tot = sum(eig_vals)\n",
    "var_exp = [(i / tot)*100 for i in sorted(eig_vals, reverse=True)]"
   ]
  },
  {
   "cell_type": "code",
   "execution_count": 104,
   "metadata": {},
   "outputs": [
    {
     "data": {
      "image/png": "[encoded data removed]",
      "text/plain": [
       "<Figure size 432x288 with 1 Axes>"
      ]
     },
     "metadata": {},
     "output_type": "display_data"
    }
   ],
   "source": [
    "with plt.style.context('dark_background'):\n",
    "    plt.figure(figsize=(6, 4))\n",
    "\n",
    "    plt.bar(range(13), var_exp, alpha=0.5, align='center',\n",
    "            label='individual explained variance')\n",
    "    plt.ylabel('Explained variance ratio')\n",
    "    plt.xlabel('Principal components')\n",
    "    plt.legend(loc='best')\n",
    "    plt.tight_layout()"
   ]
  },
  {
   "cell_type": "markdown",
   "metadata": {},
   "source": [
    "The plot above clearly shows that maximum variance is ~ 28% based on the first principal component alone. The second,third,fourth and fifth principal component share drop significantly from 20% to 8%. 6th to 9th components share equal amounts which could contribute to the predictive power of the final model. But we can drop the last 4 component as it has less than 10% of the variance."
   ]
  },
  {
   "cell_type": "code",
   "execution_count": null,
   "metadata": {},
   "outputs": [],
   "source": []
  }
 ],
 "metadata": {
  "interpreter": {
   "hash": "6a22721d4c9fa5e000d4c0747d20bdcc2c031421878bc0f8ab9597cef4e6fcc9"
  },
  "kernelspec": {
   "display_name": "Python 3.9.7 ('base')",
   "language": "python",
   "name": "python3"
  },
  "language_info": {
   "codemirror_mode": {
    "name": "ipython",
    "version": 3
   },
   "file_extension": ".py",
   "mimetype": "text/x-python",
   "name": "python",
   "nbconvert_exporter": "python",
   "pygments_lexer": "ipython3",
   "version": "3.9.7"
  },
  "orig_nbformat": 4
 },
 "nbformat": 4,
 "nbformat_minor": 2
}
