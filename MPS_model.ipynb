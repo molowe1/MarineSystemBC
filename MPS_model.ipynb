{
 "cells": [
  {
   "cell_type": "code",
   "execution_count": 1,
   "metadata": {},
   "outputs": [],
   "source": [
    "import csv\n",
    "import pandas as pd\n",
    "import numpy as np\n",
    "import matplotlib.pyplot as plt\n",
    "import plotly.express as px\n",
    "import seaborn as sns\n",
    "from collections import Counter\n"
   ]
  },
  {
   "cell_type": "code",
   "execution_count": 2,
   "metadata": {},
   "outputs": [
    {
     "data": {
      "text/html": [
       "<div>\n",
       "<style scoped>\n",
       "    .dataframe tbody tr th:only-of-type {\n",
       "        vertical-align: middle;\n",
       "    }\n",
       "\n",
       "    .dataframe tbody tr th {\n",
       "        vertical-align: top;\n",
       "    }\n",
       "\n",
       "    .dataframe thead th {\n",
       "        text-align: right;\n",
       "    }\n",
       "</style>\n",
       "<table border=\"1\" class=\"dataframe\">\n",
       "  <thead>\n",
       "    <tr style=\"text-align: right;\">\n",
       "      <th></th>\n",
       "      <th>ComponentAge</th>\n",
       "      <th>MonthlyRunTime</th>\n",
       "      <th>FlowRate</th>\n",
       "      <th>MaxOutputRate</th>\n",
       "      <th>Sensor1</th>\n",
       "      <th>Sensor2</th>\n",
       "      <th>Sensor3</th>\n",
       "      <th>Sensor4</th>\n",
       "      <th>Sensor5</th>\n",
       "      <th>Sensor5.1</th>\n",
       "      <th>DaysSinceMaintenance</th>\n",
       "      <th>Target</th>\n",
       "      <th>Location A</th>\n",
       "    </tr>\n",
       "  </thead>\n",
       "  <tbody>\n",
       "    <tr>\n",
       "      <th>0</th>\n",
       "      <td>0.55</td>\n",
       "      <td>9.5</td>\n",
       "      <td>0.99740</td>\n",
       "      <td>32.0</td>\n",
       "      <td>10.0</td>\n",
       "      <td>1.90</td>\n",
       "      <td>0.580</td>\n",
       "      <td>3.13</td>\n",
       "      <td>0.22</td>\n",
       "      <td>0.080</td>\n",
       "      <td>9.0</td>\n",
       "      <td>0</td>\n",
       "      <td>0</td>\n",
       "    </tr>\n",
       "    <tr>\n",
       "      <th>1</th>\n",
       "      <td>0.32</td>\n",
       "      <td>12.7</td>\n",
       "      <td>0.99184</td>\n",
       "      <td>28.0</td>\n",
       "      <td>6.9</td>\n",
       "      <td>10.55</td>\n",
       "      <td>0.300</td>\n",
       "      <td>3.07</td>\n",
       "      <td>0.30</td>\n",
       "      <td>0.037</td>\n",
       "      <td>4.0</td>\n",
       "      <td>0</td>\n",
       "      <td>1</td>\n",
       "    </tr>\n",
       "    <tr>\n",
       "      <th>2</th>\n",
       "      <td>0.57</td>\n",
       "      <td>9.7</td>\n",
       "      <td>0.99743</td>\n",
       "      <td>86.0</td>\n",
       "      <td>7.2</td>\n",
       "      <td>2.30</td>\n",
       "      <td>0.660</td>\n",
       "      <td>3.53</td>\n",
       "      <td>0.03</td>\n",
       "      <td>0.078</td>\n",
       "      <td>16.0</td>\n",
       "      <td>0</td>\n",
       "      <td>0</td>\n",
       "    </tr>\n",
       "    <tr>\n",
       "      <th>3</th>\n",
       "      <td>0.50</td>\n",
       "      <td>9.5</td>\n",
       "      <td>0.99593</td>\n",
       "      <td>84.0</td>\n",
       "      <td>7.1</td>\n",
       "      <td>1.80</td>\n",
       "      <td>0.755</td>\n",
       "      <td>3.19</td>\n",
       "      <td>0.15</td>\n",
       "      <td>0.107</td>\n",
       "      <td>20.0</td>\n",
       "      <td>0</td>\n",
       "      <td>0</td>\n",
       "    </tr>\n",
       "    <tr>\n",
       "      <th>4</th>\n",
       "      <td>0.44</td>\n",
       "      <td>10.8</td>\n",
       "      <td>0.99280</td>\n",
       "      <td>127.0</td>\n",
       "      <td>7.0</td>\n",
       "      <td>4.90</td>\n",
       "      <td>0.290</td>\n",
       "      <td>3.17</td>\n",
       "      <td>0.37</td>\n",
       "      <td>0.034</td>\n",
       "      <td>26.0</td>\n",
       "      <td>0</td>\n",
       "      <td>1</td>\n",
       "    </tr>\n",
       "  </tbody>\n",
       "</table>\n",
       "</div>"
      ],
      "text/plain": [
       "   ComponentAge  MonthlyRunTime  FlowRate  MaxOutputRate  Sensor1  Sensor2  \\\n",
       "0          0.55             9.5   0.99740           32.0     10.0     1.90   \n",
       "1          0.32            12.7   0.99184           28.0      6.9    10.55   \n",
       "2          0.57             9.7   0.99743           86.0      7.2     2.30   \n",
       "3          0.50             9.5   0.99593           84.0      7.1     1.80   \n",
       "4          0.44            10.8   0.99280          127.0      7.0     4.90   \n",
       "\n",
       "   Sensor3  Sensor4  Sensor5  Sensor5.1  DaysSinceMaintenance  Target  \\\n",
       "0    0.580     3.13     0.22      0.080                   9.0       0   \n",
       "1    0.300     3.07     0.30      0.037                   4.0       0   \n",
       "2    0.660     3.53     0.03      0.078                  16.0       0   \n",
       "3    0.755     3.19     0.15      0.107                  20.0       0   \n",
       "4    0.290     3.17     0.37      0.034                  26.0       0   \n",
       "\n",
       "   Location A  \n",
       "0           0  \n",
       "1           1  \n",
       "2           0  \n",
       "3           0  \n",
       "4           1  "
      ]
     },
     "execution_count": 2,
     "metadata": {},
     "output_type": "execute_result"
    }
   ],
   "source": [
    "data = pd.read_csv(\"C:/Users/olowe_m/OneDrive/DA Material/DS Exercise 3/MPS_cleanv1.csv\")\n",
    "data.head(10)\n",
    "data = data.loc[:, ~data.columns.str.contains('^Unnamed')]\n",
    "data.drop(columns=['Location', 'A'], axis = 1, inplace = True)\n",
    "data.head(5)"
   ]
  },
  {
   "cell_type": "code",
   "execution_count": 3,
   "metadata": {},
   "outputs": [
    {
     "data": {
      "text/html": [
       "<div>\n",
       "<style scoped>\n",
       "    .dataframe tbody tr th:only-of-type {\n",
       "        vertical-align: middle;\n",
       "    }\n",
       "\n",
       "    .dataframe tbody tr th {\n",
       "        vertical-align: top;\n",
       "    }\n",
       "\n",
       "    .dataframe thead th {\n",
       "        text-align: right;\n",
       "    }\n",
       "</style>\n",
       "<table border=\"1\" class=\"dataframe\">\n",
       "  <thead>\n",
       "    <tr style=\"text-align: right;\">\n",
       "      <th></th>\n",
       "      <th>ComponentAge</th>\n",
       "      <th>MonthlyRunTime</th>\n",
       "      <th>FlowRate</th>\n",
       "      <th>MaxOutputRate</th>\n",
       "      <th>Sensor1</th>\n",
       "      <th>Sensor2</th>\n",
       "      <th>Sensor3</th>\n",
       "      <th>Sensor4</th>\n",
       "      <th>Sensor5</th>\n",
       "      <th>Sensor5.1</th>\n",
       "      <th>DaysSinceMaintenance</th>\n",
       "      <th>Location A</th>\n",
       "    </tr>\n",
       "  </thead>\n",
       "  <tbody>\n",
       "    <tr>\n",
       "      <th>0</th>\n",
       "      <td>0.55</td>\n",
       "      <td>9.5</td>\n",
       "      <td>0.99740</td>\n",
       "      <td>32.0</td>\n",
       "      <td>10.0</td>\n",
       "      <td>1.90</td>\n",
       "      <td>0.580</td>\n",
       "      <td>3.13</td>\n",
       "      <td>0.22</td>\n",
       "      <td>0.080</td>\n",
       "      <td>9.0</td>\n",
       "      <td>0</td>\n",
       "    </tr>\n",
       "    <tr>\n",
       "      <th>1</th>\n",
       "      <td>0.32</td>\n",
       "      <td>12.7</td>\n",
       "      <td>0.99184</td>\n",
       "      <td>28.0</td>\n",
       "      <td>6.9</td>\n",
       "      <td>10.55</td>\n",
       "      <td>0.300</td>\n",
       "      <td>3.07</td>\n",
       "      <td>0.30</td>\n",
       "      <td>0.037</td>\n",
       "      <td>4.0</td>\n",
       "      <td>1</td>\n",
       "    </tr>\n",
       "    <tr>\n",
       "      <th>2</th>\n",
       "      <td>0.57</td>\n",
       "      <td>9.7</td>\n",
       "      <td>0.99743</td>\n",
       "      <td>86.0</td>\n",
       "      <td>7.2</td>\n",
       "      <td>2.30</td>\n",
       "      <td>0.660</td>\n",
       "      <td>3.53</td>\n",
       "      <td>0.03</td>\n",
       "      <td>0.078</td>\n",
       "      <td>16.0</td>\n",
       "      <td>0</td>\n",
       "    </tr>\n",
       "    <tr>\n",
       "      <th>3</th>\n",
       "      <td>0.50</td>\n",
       "      <td>9.5</td>\n",
       "      <td>0.99593</td>\n",
       "      <td>84.0</td>\n",
       "      <td>7.1</td>\n",
       "      <td>1.80</td>\n",
       "      <td>0.755</td>\n",
       "      <td>3.19</td>\n",
       "      <td>0.15</td>\n",
       "      <td>0.107</td>\n",
       "      <td>20.0</td>\n",
       "      <td>0</td>\n",
       "    </tr>\n",
       "    <tr>\n",
       "      <th>4</th>\n",
       "      <td>0.44</td>\n",
       "      <td>10.8</td>\n",
       "      <td>0.99280</td>\n",
       "      <td>127.0</td>\n",
       "      <td>7.0</td>\n",
       "      <td>4.90</td>\n",
       "      <td>0.290</td>\n",
       "      <td>3.17</td>\n",
       "      <td>0.37</td>\n",
       "      <td>0.034</td>\n",
       "      <td>26.0</td>\n",
       "      <td>1</td>\n",
       "    </tr>\n",
       "  </tbody>\n",
       "</table>\n",
       "</div>"
      ],
      "text/plain": [
       "   ComponentAge  MonthlyRunTime  FlowRate  MaxOutputRate  Sensor1  Sensor2  \\\n",
       "0          0.55             9.5   0.99740           32.0     10.0     1.90   \n",
       "1          0.32            12.7   0.99184           28.0      6.9    10.55   \n",
       "2          0.57             9.7   0.99743           86.0      7.2     2.30   \n",
       "3          0.50             9.5   0.99593           84.0      7.1     1.80   \n",
       "4          0.44            10.8   0.99280          127.0      7.0     4.90   \n",
       "\n",
       "   Sensor3  Sensor4  Sensor5  Sensor5.1  DaysSinceMaintenance  Location A  \n",
       "0    0.580     3.13     0.22      0.080                   9.0           0  \n",
       "1    0.300     3.07     0.30      0.037                   4.0           1  \n",
       "2    0.660     3.53     0.03      0.078                  16.0           0  \n",
       "3    0.755     3.19     0.15      0.107                  20.0           0  \n",
       "4    0.290     3.17     0.37      0.034                  26.0           1  "
      ]
     },
     "execution_count": 3,
     "metadata": {},
     "output_type": "execute_result"
    }
   ],
   "source": [
    "#Model Building\n",
    "\n",
    "# Defining regressand(Y) and regressors(X)\n",
    "\n",
    "from sklearn.model_selection import train_test_split\n",
    "X = data.drop('Target', axis=1)\n",
    "y = data['Target']\n",
    "\n",
    "X.head()"
   ]
  },
  {
   "cell_type": "code",
   "execution_count": 4,
   "metadata": {},
   "outputs": [
    {
     "data": {
      "text/html": [
       "<div>\n",
       "<style scoped>\n",
       "    .dataframe tbody tr th:only-of-type {\n",
       "        vertical-align: middle;\n",
       "    }\n",
       "\n",
       "    .dataframe tbody tr th {\n",
       "        vertical-align: top;\n",
       "    }\n",
       "\n",
       "    .dataframe thead th {\n",
       "        text-align: right;\n",
       "    }\n",
       "</style>\n",
       "<table border=\"1\" class=\"dataframe\">\n",
       "  <thead>\n",
       "    <tr style=\"text-align: right;\">\n",
       "      <th></th>\n",
       "      <th>ComponentAge</th>\n",
       "      <th>MonthlyRunTime</th>\n",
       "      <th>FlowRate</th>\n",
       "      <th>MaxOutputRate</th>\n",
       "      <th>Sensor1</th>\n",
       "      <th>Sensor2</th>\n",
       "      <th>Sensor3</th>\n",
       "      <th>Sensor4</th>\n",
       "      <th>Sensor5</th>\n",
       "      <th>Sensor5.1</th>\n",
       "      <th>DaysSinceMaintenance</th>\n",
       "      <th>Target</th>\n",
       "      <th>Location A</th>\n",
       "    </tr>\n",
       "  </thead>\n",
       "  <tbody>\n",
       "    <tr>\n",
       "      <th>count</th>\n",
       "      <td>6463.000000</td>\n",
       "      <td>6463.000000</td>\n",
       "      <td>6463.000000</td>\n",
       "      <td>6463.000000</td>\n",
       "      <td>6463.000000</td>\n",
       "      <td>6463.000000</td>\n",
       "      <td>6463.000000</td>\n",
       "      <td>6463.000000</td>\n",
       "      <td>6463.000000</td>\n",
       "      <td>6463.000000</td>\n",
       "      <td>6463.000000</td>\n",
       "      <td>6463.000000</td>\n",
       "      <td>6463.000000</td>\n",
       "    </tr>\n",
       "    <tr>\n",
       "      <th>mean</th>\n",
       "      <td>0.531150</td>\n",
       "      <td>10.492825</td>\n",
       "      <td>0.994698</td>\n",
       "      <td>115.694492</td>\n",
       "      <td>7.217755</td>\n",
       "      <td>5.443958</td>\n",
       "      <td>0.339589</td>\n",
       "      <td>3.218332</td>\n",
       "      <td>0.318758</td>\n",
       "      <td>0.056056</td>\n",
       "      <td>30.516865</td>\n",
       "      <td>0.196658</td>\n",
       "      <td>0.753520</td>\n",
       "    </tr>\n",
       "    <tr>\n",
       "      <th>std</th>\n",
       "      <td>0.148913</td>\n",
       "      <td>1.193128</td>\n",
       "      <td>0.003001</td>\n",
       "      <td>56.526736</td>\n",
       "      <td>1.297913</td>\n",
       "      <td>4.756852</td>\n",
       "      <td>0.164639</td>\n",
       "      <td>0.160650</td>\n",
       "      <td>0.145252</td>\n",
       "      <td>0.035076</td>\n",
       "      <td>17.758815</td>\n",
       "      <td>0.397502</td>\n",
       "      <td>0.430995</td>\n",
       "    </tr>\n",
       "    <tr>\n",
       "      <th>min</th>\n",
       "      <td>0.220000</td>\n",
       "      <td>8.000000</td>\n",
       "      <td>0.987110</td>\n",
       "      <td>6.000000</td>\n",
       "      <td>3.800000</td>\n",
       "      <td>0.600000</td>\n",
       "      <td>0.080000</td>\n",
       "      <td>2.720000</td>\n",
       "      <td>0.000000</td>\n",
       "      <td>0.009000</td>\n",
       "      <td>1.000000</td>\n",
       "      <td>0.000000</td>\n",
       "      <td>0.000000</td>\n",
       "    </tr>\n",
       "    <tr>\n",
       "      <th>25%</th>\n",
       "      <td>0.430000</td>\n",
       "      <td>9.500000</td>\n",
       "      <td>0.992330</td>\n",
       "      <td>77.000000</td>\n",
       "      <td>6.400000</td>\n",
       "      <td>1.800000</td>\n",
       "      <td>0.230000</td>\n",
       "      <td>3.110000</td>\n",
       "      <td>0.250000</td>\n",
       "      <td>0.038000</td>\n",
       "      <td>17.000000</td>\n",
       "      <td>0.000000</td>\n",
       "      <td>1.000000</td>\n",
       "    </tr>\n",
       "    <tr>\n",
       "      <th>50%</th>\n",
       "      <td>0.510000</td>\n",
       "      <td>10.300000</td>\n",
       "      <td>0.994890</td>\n",
       "      <td>118.000000</td>\n",
       "      <td>7.000000</td>\n",
       "      <td>3.000000</td>\n",
       "      <td>0.290000</td>\n",
       "      <td>3.210000</td>\n",
       "      <td>0.310000</td>\n",
       "      <td>0.047000</td>\n",
       "      <td>29.000000</td>\n",
       "      <td>0.000000</td>\n",
       "      <td>1.000000</td>\n",
       "    </tr>\n",
       "    <tr>\n",
       "      <th>75%</th>\n",
       "      <td>0.600000</td>\n",
       "      <td>11.300000</td>\n",
       "      <td>0.997000</td>\n",
       "      <td>156.000000</td>\n",
       "      <td>7.700000</td>\n",
       "      <td>8.100000</td>\n",
       "      <td>0.400000</td>\n",
       "      <td>3.320000</td>\n",
       "      <td>0.390000</td>\n",
       "      <td>0.065000</td>\n",
       "      <td>41.000000</td>\n",
       "      <td>0.000000</td>\n",
       "      <td>1.000000</td>\n",
       "    </tr>\n",
       "    <tr>\n",
       "      <th>max</th>\n",
       "      <td>2.000000</td>\n",
       "      <td>14.900000</td>\n",
       "      <td>1.038980</td>\n",
       "      <td>440.000000</td>\n",
       "      <td>15.900000</td>\n",
       "      <td>65.800000</td>\n",
       "      <td>1.580000</td>\n",
       "      <td>4.010000</td>\n",
       "      <td>1.660000</td>\n",
       "      <td>0.611000</td>\n",
       "      <td>289.000000</td>\n",
       "      <td>1.000000</td>\n",
       "      <td>1.000000</td>\n",
       "    </tr>\n",
       "  </tbody>\n",
       "</table>\n",
       "</div>"
      ],
      "text/plain": [
       "       ComponentAge  MonthlyRunTime     FlowRate  MaxOutputRate      Sensor1  \\\n",
       "count   6463.000000     6463.000000  6463.000000    6463.000000  6463.000000   \n",
       "mean       0.531150       10.492825     0.994698     115.694492     7.217755   \n",
       "std        0.148913        1.193128     0.003001      56.526736     1.297913   \n",
       "min        0.220000        8.000000     0.987110       6.000000     3.800000   \n",
       "25%        0.430000        9.500000     0.992330      77.000000     6.400000   \n",
       "50%        0.510000       10.300000     0.994890     118.000000     7.000000   \n",
       "75%        0.600000       11.300000     0.997000     156.000000     7.700000   \n",
       "max        2.000000       14.900000     1.038980     440.000000    15.900000   \n",
       "\n",
       "           Sensor2      Sensor3      Sensor4      Sensor5    Sensor5.1  \\\n",
       "count  6463.000000  6463.000000  6463.000000  6463.000000  6463.000000   \n",
       "mean      5.443958     0.339589     3.218332     0.318758     0.056056   \n",
       "std       4.756852     0.164639     0.160650     0.145252     0.035076   \n",
       "min       0.600000     0.080000     2.720000     0.000000     0.009000   \n",
       "25%       1.800000     0.230000     3.110000     0.250000     0.038000   \n",
       "50%       3.000000     0.290000     3.210000     0.310000     0.047000   \n",
       "75%       8.100000     0.400000     3.320000     0.390000     0.065000   \n",
       "max      65.800000     1.580000     4.010000     1.660000     0.611000   \n",
       "\n",
       "       DaysSinceMaintenance       Target   Location A  \n",
       "count           6463.000000  6463.000000  6463.000000  \n",
       "mean              30.516865     0.196658     0.753520  \n",
       "std               17.758815     0.397502     0.430995  \n",
       "min                1.000000     0.000000     0.000000  \n",
       "25%               17.000000     0.000000     1.000000  \n",
       "50%               29.000000     0.000000     1.000000  \n",
       "75%               41.000000     0.000000     1.000000  \n",
       "max              289.000000     1.000000     1.000000  "
      ]
     },
     "execution_count": 4,
     "metadata": {},
     "output_type": "execute_result"
    }
   ],
   "source": [
    "# All discrete features should now have integer dtypes (double-check this before using MI!)\n",
    "discrete_features = X.dtypes == int\n",
    "data.describe()"
   ]
  },
  {
   "cell_type": "code",
   "execution_count": 5,
   "metadata": {},
   "outputs": [
    {
     "data": {
      "text/plain": [
       "FlowRate                0.088123\n",
       "Sensor2                 0.043307\n",
       "Sensor5.1               0.042905\n",
       "MaxOutputRate           0.040553\n",
       "Sensor5                 0.022181\n",
       "Sensor1                 0.018011\n",
       "Sensor3                 0.017857\n",
       "ComponentAge            0.015537\n",
       "DaysSinceMaintenance    0.012088\n",
       "Sensor4                 0.008891\n",
       "Location A              0.000000\n",
       "Name: MI Scores, dtype: float64"
      ]
     },
     "execution_count": 5,
     "metadata": {},
     "output_type": "execute_result"
    }
   ],
   "source": [
    "from sklearn.feature_selection import mutual_info_classif\n",
    "\n",
    "def make_mi_scores(X, Y, discrete_features):\n",
    "    mi_scores = mutual_info_classif(X, Y, discrete_features=discrete_features)\n",
    "    mi_scores = pd.Series(mi_scores, name=\"MI Scores\", index=X.columns)\n",
    "    mi_scores = mi_scores.sort_values(ascending=False)\n",
    "    return mi_scores\n",
    "\n",
    "mi_scores = make_mi_scores(X, y, discrete_features)\n",
    "mi_scores[1:12]"
   ]
  },
  {
   "cell_type": "code",
   "execution_count": 6,
   "metadata": {},
   "outputs": [
    {
     "data": {
      "image/png": "[encoded data removed]",
      "text/plain": [
       "<Figure size 700x400 with 1 Axes>"
      ]
     },
     "metadata": {
      "needs_background": "light"
     },
     "output_type": "display_data"
    }
   ],
   "source": [
    "def plot_mi_scores(scores):\n",
    "    scores = scores.sort_values(ascending=True)\n",
    "    width = np.arange(len(scores))\n",
    "    ticks = list(scores.index)\n",
    "    plt.barh(width, scores)\n",
    "    plt.yticks(width, ticks)\n",
    "    plt.title(\"Mutual Information Scores\")\n",
    "\n",
    "plt.figure(dpi=100, figsize=(7, 4))\n",
    "plot_mi_scores(mi_scores)"
   ]
  },
  {
   "cell_type": "markdown",
   "metadata": {},
   "source": [
    "The results suggest perhaps four of the 10 features as being important to prediction.\n",
    "MonthlyRunTime\t\n",
    "FlowRate\t\n",
    "MaxOutputRate\t\n",
    "Sensor2\t\n",
    "Sensor3\t\n",
    "Sensor5\t\n",
    "Sensor5.1"
   ]
  },
  {
   "cell_type": "code",
   "execution_count": 7,
   "metadata": {},
   "outputs": [
    {
     "data": {
      "image/png": "[encoded data removed]",
      "text/plain": [
       "<Figure size 360x360 with 1 Axes>"
      ]
     },
     "metadata": {
      "needs_background": "light"
     },
     "output_type": "display_data"
    }
   ],
   "source": [
    "sns.relplot(x=\"MonthlyRunTime\",y=\"FlowRate\", data=data);"
   ]
  },
  {
   "cell_type": "code",
   "execution_count": 8,
   "metadata": {},
   "outputs": [
    {
     "data": {
      "image/png": "[encoded data removed]",
      "text/plain": [
       "<Figure size 420.125x360 with 1 Axes>"
      ]
     },
     "metadata": {
      "needs_background": "light"
     },
     "output_type": "display_data"
    }
   ],
   "source": [
    "sns.lmplot(x=\"MonthlyRunTime\", y=\"FlowRate\", hue=\"Location A\", data=data);"
   ]
  },
  {
   "cell_type": "code",
   "execution_count": 9,
   "metadata": {},
   "outputs": [
    {
     "data": {
      "image/png": "[encoded data removed]",
      "text/plain": [
       "<Figure size 420.125x360 with 1 Axes>"
      ]
     },
     "metadata": {
      "needs_background": "light"
     },
     "output_type": "display_data"
    }
   ],
   "source": [
    "sns.lmplot(x=\"MonthlyRunTime\", y=\"Sensor5.1\", hue=\"Location A\", data=data);"
   ]
  },
  {
   "cell_type": "code",
   "execution_count": 10,
   "metadata": {},
   "outputs": [
    {
     "data": {
      "text/plain": [
       "<mpl_toolkits.mplot3d.art3d.Path3DCollection at 0x1f4df17fd30>"
      ]
     },
     "execution_count": 10,
     "metadata": {},
     "output_type": "execute_result"
    },
    {
     "data": {
      "image/png": "[encoded data removed]",
      "text/plain": [
       "<Figure size 432x288 with 1 Axes>"
      ]
     },
     "metadata": {
      "needs_background": "light"
     },
     "output_type": "display_data"
    }
   ],
   "source": [
    "from mpl_toolkits.mplot3d import Axes3D\n",
    "fig = plt.figure()\n",
    "ax = fig.add_subplot(111, projection='3d')\n",
    "ax.scatter(data['MonthlyRunTime'], data['Target'], data['ComponentAge'])"
   ]
  },
  {
   "cell_type": "code",
   "execution_count": 11,
   "metadata": {},
   "outputs": [
    {
     "data": {
      "image/png": "[encoded data removed]",
      "text/plain": [
       "<Figure size 360x360 with 1 Axes>"
      ]
     },
     "metadata": {
      "needs_background": "light"
     },
     "output_type": "display_data"
    }
   ],
   "source": [
    "sns.relplot(x=\"MonthlyRunTime\",y=\"Location A\", data=data);"
   ]
  },
  {
   "cell_type": "code",
   "execution_count": 12,
   "metadata": {},
   "outputs": [
    {
     "name": "stdout",
     "output_type": "stream",
     "text": [
      "(5170, 12)\n",
      "(1293, 12)\n",
      "(5170,)\n",
      "(1293,)\n"
     ]
    }
   ],
   "source": [
    "#Splitting the dataset for training(80%) and testing(20%)\n",
    "\n",
    "from sklearn.model_selection import train_test_split\n",
    "X_train, X_test, y_train, y_test = train_test_split(X, y, test_size=0.2, random_state=1)\n",
    "print(X_train.shape)\n",
    "print(X_test.shape)\n",
    "print(y_train.shape)\n",
    "print(y_test.shape)"
   ]
  },
  {
   "cell_type": "code",
   "execution_count": 13,
   "metadata": {},
   "outputs": [
    {
     "name": "stdout",
     "output_type": "stream",
     "text": [
      "              precision    recall  f1-score   support\n",
      "\n",
      "           0       0.90      0.90      0.90      1037\n",
      "           1       0.58      0.59      0.58       256\n",
      "\n",
      "    accuracy                           0.83      1293\n",
      "   macro avg       0.74      0.74      0.74      1293\n",
      "weighted avg       0.83      0.83      0.83      1293\n",
      "\n",
      "0.16550657385924208\n"
     ]
    }
   ],
   "source": [
    "from sklearn.tree import DecisionTreeClassifier\n",
    "from sklearn.metrics import mean_absolute_error\n",
    "model = DecisionTreeClassifier()\n",
    "model.fit(X_train,y_train)\n",
    "base_preds = model.predict(X_test)\n",
    "from sklearn.metrics import classification_report,plot_confusion_matrix\n",
    "print(classification_report(y_test,base_preds))\n",
    "#Calculate Feature Importance\n",
    "pd.DataFrame(index=X.columns,data=model.feature_importances_,columns=['Feature Importance']).sort_values('Feature Importance',ascending=False)\n",
    "# get predicted prices on validation data using training data\n",
    "print(mean_absolute_error(y_test, base_preds))"
   ]
  },
  {
   "cell_type": "code",
   "execution_count": 14,
   "metadata": {},
   "outputs": [
    {
     "name": "stderr",
     "output_type": "stream",
     "text": [
      "C:\\Users\\olowe_m\\Anaconda3\\lib\\site-packages\\sklearn\\utils\\deprecation.py:87: FutureWarning: Function plot_roc_curve is deprecated; Function :func:`plot_roc_curve` is deprecated in 1.0 and will be removed in 1.2. Use one of the class methods: :meth:`sklearn.metric.RocCurveDisplay.from_predictions` or :meth:`sklearn.metric.RocCurveDisplay.from_estimator`.\n",
      "  warnings.warn(msg, category=FutureWarning)\n"
     ]
    },
    {
     "data": {
      "text/plain": [
       "<sklearn.metrics._plot.roc_curve.RocCurveDisplay at 0x1f4df26c160>"
      ]
     },
     "execution_count": 14,
     "metadata": {},
     "output_type": "execute_result"
    },
    {
     "data": {
      "image/png": "[encoded data removed]",
      "text/plain": [
       "<Figure size 432x288 with 1 Axes>"
      ]
     },
     "metadata": {
      "needs_background": "light"
     },
     "output_type": "display_data"
    }
   ],
   "source": [
    "from sklearn.metrics import plot_precision_recall_curve,plot_roc_curve\n",
    "plot_roc_curve(model, X_test,y_test)"
   ]
  },
  {
   "cell_type": "markdown",
   "metadata": {},
   "source": [
    "UnderSample Method"
   ]
  },
  {
   "cell_type": "code",
   "execution_count": 15,
   "metadata": {},
   "outputs": [
    {
     "data": {
      "text/plain": [
       "0    5192\n",
       "1    1271\n",
       "Name: Target, dtype: int64"
      ]
     },
     "execution_count": 15,
     "metadata": {},
     "output_type": "execute_result"
    }
   ],
   "source": [
    "data['Target'].value_counts()"
   ]
  },
  {
   "cell_type": "code",
   "execution_count": 16,
   "metadata": {},
   "outputs": [],
   "source": [
    "#class count\n",
    "count_class_0, count_class_1 = data.Target.value_counts()\n",
    "\n",
    "#divide by class\n",
    "data_class_0 = data[data['Target']==0]\n",
    "data_class_1 = data[data['Target']==1]"
   ]
  },
  {
   "cell_type": "code",
   "execution_count": 17,
   "metadata": {},
   "outputs": [
    {
     "data": {
      "text/plain": [
       "(5192, 13)"
      ]
     },
     "execution_count": 17,
     "metadata": {},
     "output_type": "execute_result"
    }
   ],
   "source": [
    "data_class_0.shape"
   ]
  },
  {
   "cell_type": "code",
   "execution_count": 18,
   "metadata": {},
   "outputs": [
    {
     "data": {
      "text/plain": [
       "(1271, 13)"
      ]
     },
     "execution_count": 18,
     "metadata": {},
     "output_type": "execute_result"
    }
   ],
   "source": [
    "data_class_1.shape"
   ]
  },
  {
   "cell_type": "code",
   "execution_count": 19,
   "metadata": {},
   "outputs": [
    {
     "data": {
      "text/html": [
       "<div>\n",
       "<style scoped>\n",
       "    .dataframe tbody tr th:only-of-type {\n",
       "        vertical-align: middle;\n",
       "    }\n",
       "\n",
       "    .dataframe tbody tr th {\n",
       "        vertical-align: top;\n",
       "    }\n",
       "\n",
       "    .dataframe thead th {\n",
       "        text-align: right;\n",
       "    }\n",
       "</style>\n",
       "<table border=\"1\" class=\"dataframe\">\n",
       "  <thead>\n",
       "    <tr style=\"text-align: right;\">\n",
       "      <th></th>\n",
       "      <th>ComponentAge</th>\n",
       "      <th>MonthlyRunTime</th>\n",
       "      <th>FlowRate</th>\n",
       "      <th>MaxOutputRate</th>\n",
       "      <th>Sensor1</th>\n",
       "      <th>Sensor2</th>\n",
       "      <th>Sensor3</th>\n",
       "      <th>Sensor4</th>\n",
       "      <th>Sensor5</th>\n",
       "      <th>Sensor5.1</th>\n",
       "      <th>DaysSinceMaintenance</th>\n",
       "      <th>Target</th>\n",
       "      <th>Location A</th>\n",
       "    </tr>\n",
       "  </thead>\n",
       "  <tbody>\n",
       "    <tr>\n",
       "      <th>3400</th>\n",
       "      <td>0.35</td>\n",
       "      <td>12.00</td>\n",
       "      <td>0.99044</td>\n",
       "      <td>87.0</td>\n",
       "      <td>7.3</td>\n",
       "      <td>2.3</td>\n",
       "      <td>0.200</td>\n",
       "      <td>2.94</td>\n",
       "      <td>0.39</td>\n",
       "      <td>0.048</td>\n",
       "      <td>24.0</td>\n",
       "      <td>0</td>\n",
       "      <td>1</td>\n",
       "    </tr>\n",
       "    <tr>\n",
       "      <th>4485</th>\n",
       "      <td>0.48</td>\n",
       "      <td>9.50</td>\n",
       "      <td>0.99542</td>\n",
       "      <td>215.0</td>\n",
       "      <td>6.3</td>\n",
       "      <td>7.9</td>\n",
       "      <td>0.270</td>\n",
       "      <td>3.19</td>\n",
       "      <td>0.37</td>\n",
       "      <td>0.047</td>\n",
       "      <td>58.0</td>\n",
       "      <td>0</td>\n",
       "      <td>1</td>\n",
       "    </tr>\n",
       "    <tr>\n",
       "      <th>5667</th>\n",
       "      <td>0.44</td>\n",
       "      <td>10.15</td>\n",
       "      <td>0.99218</td>\n",
       "      <td>123.0</td>\n",
       "      <td>5.2</td>\n",
       "      <td>1.0</td>\n",
       "      <td>0.185</td>\n",
       "      <td>3.55</td>\n",
       "      <td>0.22</td>\n",
       "      <td>0.030</td>\n",
       "      <td>47.0</td>\n",
       "      <td>0</td>\n",
       "      <td>1</td>\n",
       "    </tr>\n",
       "    <tr>\n",
       "      <th>3953</th>\n",
       "      <td>0.75</td>\n",
       "      <td>10.20</td>\n",
       "      <td>0.99551</td>\n",
       "      <td>21.0</td>\n",
       "      <td>8.8</td>\n",
       "      <td>1.4</td>\n",
       "      <td>0.450</td>\n",
       "      <td>3.21</td>\n",
       "      <td>0.43</td>\n",
       "      <td>0.076</td>\n",
       "      <td>12.0</td>\n",
       "      <td>0</td>\n",
       "      <td>0</td>\n",
       "    </tr>\n",
       "    <tr>\n",
       "      <th>5431</th>\n",
       "      <td>0.50</td>\n",
       "      <td>10.60</td>\n",
       "      <td>0.99519</td>\n",
       "      <td>185.0</td>\n",
       "      <td>6.7</td>\n",
       "      <td>10.3</td>\n",
       "      <td>0.180</td>\n",
       "      <td>3.12</td>\n",
       "      <td>0.24</td>\n",
       "      <td>0.057</td>\n",
       "      <td>64.0</td>\n",
       "      <td>0</td>\n",
       "      <td>1</td>\n",
       "    </tr>\n",
       "  </tbody>\n",
       "</table>\n",
       "</div>"
      ],
      "text/plain": [
       "      ComponentAge  MonthlyRunTime  FlowRate  MaxOutputRate  Sensor1  Sensor2  \\\n",
       "3400          0.35           12.00   0.99044           87.0      7.3      2.3   \n",
       "4485          0.48            9.50   0.99542          215.0      6.3      7.9   \n",
       "5667          0.44           10.15   0.99218          123.0      5.2      1.0   \n",
       "3953          0.75           10.20   0.99551           21.0      8.8      1.4   \n",
       "5431          0.50           10.60   0.99519          185.0      6.7     10.3   \n",
       "\n",
       "      Sensor3  Sensor4  Sensor5  Sensor5.1  DaysSinceMaintenance  Target  \\\n",
       "3400    0.200     2.94     0.39      0.048                  24.0       0   \n",
       "4485    0.270     3.19     0.37      0.047                  58.0       0   \n",
       "5667    0.185     3.55     0.22      0.030                  47.0       0   \n",
       "3953    0.450     3.21     0.43      0.076                  12.0       0   \n",
       "5431    0.180     3.12     0.24      0.057                  64.0       0   \n",
       "\n",
       "      Location A  \n",
       "3400           1  \n",
       "4485           1  \n",
       "5667           1  \n",
       "3953           0  \n",
       "5431           1  "
      ]
     },
     "execution_count": 19,
     "metadata": {},
     "output_type": "execute_result"
    }
   ],
   "source": [
    "data_class_0_under = data_class_0.sample(count_class_1)\n",
    "\n",
    "data_concate_under = pd.concat([data_class_0_under, data_class_1], axis=0)\n",
    "\n",
    "data_concate_under['Target'].value_counts()\n",
    "\n",
    "data_concate_under.head()"
   ]
  },
  {
   "cell_type": "code",
   "execution_count": 20,
   "metadata": {},
   "outputs": [
    {
     "data": {
      "text/html": [
       "<div>\n",
       "<style scoped>\n",
       "    .dataframe tbody tr th:only-of-type {\n",
       "        vertical-align: middle;\n",
       "    }\n",
       "\n",
       "    .dataframe tbody tr th {\n",
       "        vertical-align: top;\n",
       "    }\n",
       "\n",
       "    .dataframe thead th {\n",
       "        text-align: right;\n",
       "    }\n",
       "</style>\n",
       "<table border=\"1\" class=\"dataframe\">\n",
       "  <thead>\n",
       "    <tr style=\"text-align: right;\">\n",
       "      <th></th>\n",
       "      <th>ComponentAge</th>\n",
       "      <th>MonthlyRunTime</th>\n",
       "      <th>FlowRate</th>\n",
       "      <th>MaxOutputRate</th>\n",
       "      <th>Sensor1</th>\n",
       "      <th>Sensor2</th>\n",
       "      <th>Sensor3</th>\n",
       "      <th>Sensor4</th>\n",
       "      <th>Sensor5</th>\n",
       "      <th>Sensor5.1</th>\n",
       "      <th>DaysSinceMaintenance</th>\n",
       "      <th>Target</th>\n",
       "      <th>Location A</th>\n",
       "    </tr>\n",
       "  </thead>\n",
       "  <tbody>\n",
       "    <tr>\n",
       "      <th>count</th>\n",
       "      <td>2542.000000</td>\n",
       "      <td>2542.000000</td>\n",
       "      <td>2542.000000</td>\n",
       "      <td>2542.000000</td>\n",
       "      <td>2542.000000</td>\n",
       "      <td>2542.000000</td>\n",
       "      <td>2542.000000</td>\n",
       "      <td>2542.000000</td>\n",
       "      <td>2542.000000</td>\n",
       "      <td>2542.000000</td>\n",
       "      <td>2542.000000</td>\n",
       "      <td>2542.000000</td>\n",
       "      <td>2542.000000</td>\n",
       "    </tr>\n",
       "    <tr>\n",
       "      <th>mean</th>\n",
       "      <td>0.534555</td>\n",
       "      <td>10.833746</td>\n",
       "      <td>0.994131</td>\n",
       "      <td>114.309205</td>\n",
       "      <td>7.175020</td>\n",
       "      <td>5.319788</td>\n",
       "      <td>0.319955</td>\n",
       "      <td>3.220885</td>\n",
       "      <td>0.323344</td>\n",
       "      <td>0.051714</td>\n",
       "      <td>30.660700</td>\n",
       "      <td>0.500000</td>\n",
       "      <td>0.786389</td>\n",
       "    </tr>\n",
       "    <tr>\n",
       "      <th>std</th>\n",
       "      <td>0.149297</td>\n",
       "      <td>1.273794</td>\n",
       "      <td>0.003086</td>\n",
       "      <td>52.925032</td>\n",
       "      <td>1.317023</td>\n",
       "      <td>4.563954</td>\n",
       "      <td>0.148941</td>\n",
       "      <td>0.160912</td>\n",
       "      <td>0.132428</td>\n",
       "      <td>0.028815</td>\n",
       "      <td>16.399253</td>\n",
       "      <td>0.500098</td>\n",
       "      <td>0.409936</td>\n",
       "    </tr>\n",
       "    <tr>\n",
       "      <th>min</th>\n",
       "      <td>0.220000</td>\n",
       "      <td>8.000000</td>\n",
       "      <td>0.987110</td>\n",
       "      <td>7.000000</td>\n",
       "      <td>3.800000</td>\n",
       "      <td>0.600000</td>\n",
       "      <td>0.080000</td>\n",
       "      <td>2.740000</td>\n",
       "      <td>0.000000</td>\n",
       "      <td>0.012000</td>\n",
       "      <td>1.000000</td>\n",
       "      <td>0.000000</td>\n",
       "      <td>0.000000</td>\n",
       "    </tr>\n",
       "    <tr>\n",
       "      <th>25%</th>\n",
       "      <td>0.430000</td>\n",
       "      <td>9.700000</td>\n",
       "      <td>0.991600</td>\n",
       "      <td>84.000000</td>\n",
       "      <td>6.400000</td>\n",
       "      <td>1.800000</td>\n",
       "      <td>0.220000</td>\n",
       "      <td>3.110000</td>\n",
       "      <td>0.260000</td>\n",
       "      <td>0.035000</td>\n",
       "      <td>18.000000</td>\n",
       "      <td>0.000000</td>\n",
       "      <td>1.000000</td>\n",
       "    </tr>\n",
       "    <tr>\n",
       "      <th>50%</th>\n",
       "      <td>0.510000</td>\n",
       "      <td>10.800000</td>\n",
       "      <td>0.994000</td>\n",
       "      <td>117.000000</td>\n",
       "      <td>7.000000</td>\n",
       "      <td>3.200000</td>\n",
       "      <td>0.280000</td>\n",
       "      <td>3.210000</td>\n",
       "      <td>0.310000</td>\n",
       "      <td>0.044000</td>\n",
       "      <td>29.000000</td>\n",
       "      <td>0.500000</td>\n",
       "      <td>1.000000</td>\n",
       "    </tr>\n",
       "    <tr>\n",
       "      <th>75%</th>\n",
       "      <td>0.610000</td>\n",
       "      <td>11.900000</td>\n",
       "      <td>0.996567</td>\n",
       "      <td>150.000000</td>\n",
       "      <td>7.600000</td>\n",
       "      <td>7.900000</td>\n",
       "      <td>0.380000</td>\n",
       "      <td>3.330000</td>\n",
       "      <td>0.390000</td>\n",
       "      <td>0.058000</td>\n",
       "      <td>41.000000</td>\n",
       "      <td>1.000000</td>\n",
       "      <td>1.000000</td>\n",
       "    </tr>\n",
       "    <tr>\n",
       "      <th>max</th>\n",
       "      <td>1.620000</td>\n",
       "      <td>14.200000</td>\n",
       "      <td>1.010300</td>\n",
       "      <td>303.000000</td>\n",
       "      <td>15.600000</td>\n",
       "      <td>31.600000</td>\n",
       "      <td>1.330000</td>\n",
       "      <td>4.010000</td>\n",
       "      <td>1.000000</td>\n",
       "      <td>0.414000</td>\n",
       "      <td>108.000000</td>\n",
       "      <td>1.000000</td>\n",
       "      <td>1.000000</td>\n",
       "    </tr>\n",
       "  </tbody>\n",
       "</table>\n",
       "</div>"
      ],
      "text/plain": [
       "       ComponentAge  MonthlyRunTime     FlowRate  MaxOutputRate      Sensor1  \\\n",
       "count   2542.000000     2542.000000  2542.000000    2542.000000  2542.000000   \n",
       "mean       0.534555       10.833746     0.994131     114.309205     7.175020   \n",
       "std        0.149297        1.273794     0.003086      52.925032     1.317023   \n",
       "min        0.220000        8.000000     0.987110       7.000000     3.800000   \n",
       "25%        0.430000        9.700000     0.991600      84.000000     6.400000   \n",
       "50%        0.510000       10.800000     0.994000     117.000000     7.000000   \n",
       "75%        0.610000       11.900000     0.996567     150.000000     7.600000   \n",
       "max        1.620000       14.200000     1.010300     303.000000    15.600000   \n",
       "\n",
       "           Sensor2      Sensor3      Sensor4      Sensor5    Sensor5.1  \\\n",
       "count  2542.000000  2542.000000  2542.000000  2542.000000  2542.000000   \n",
       "mean      5.319788     0.319955     3.220885     0.323344     0.051714   \n",
       "std       4.563954     0.148941     0.160912     0.132428     0.028815   \n",
       "min       0.600000     0.080000     2.740000     0.000000     0.012000   \n",
       "25%       1.800000     0.220000     3.110000     0.260000     0.035000   \n",
       "50%       3.200000     0.280000     3.210000     0.310000     0.044000   \n",
       "75%       7.900000     0.380000     3.330000     0.390000     0.058000   \n",
       "max      31.600000     1.330000     4.010000     1.000000     0.414000   \n",
       "\n",
       "       DaysSinceMaintenance       Target   Location A  \n",
       "count           2542.000000  2542.000000  2542.000000  \n",
       "mean              30.660700     0.500000     0.786389  \n",
       "std               16.399253     0.500098     0.409936  \n",
       "min                1.000000     0.000000     0.000000  \n",
       "25%               18.000000     0.000000     1.000000  \n",
       "50%               29.000000     0.500000     1.000000  \n",
       "75%               41.000000     1.000000     1.000000  \n",
       "max              108.000000     1.000000     1.000000  "
      ]
     },
     "execution_count": 20,
     "metadata": {},
     "output_type": "execute_result"
    }
   ],
   "source": [
    "data_concate_under.describe()"
   ]
  },
  {
   "cell_type": "code",
   "execution_count": 21,
   "metadata": {},
   "outputs": [
    {
     "name": "stdout",
     "output_type": "stream",
     "text": [
      "(2033, 12)\n",
      "(509, 12)\n",
      "(2033,)\n",
      "(509,)\n"
     ]
    }
   ],
   "source": [
    "X = data_concate_under.drop('Target', axis=1)\n",
    "y = data_concate_under['Target']\n",
    "\n",
    "from sklearn.model_selection import train_test_split\n",
    "\n",
    "X_train, X_test, y_train, y_test = train_test_split(X, y, test_size=0.2, random_state=1)\n",
    "print(X_train.shape)\n",
    "print(X_test.shape)\n",
    "print(y_train.shape)\n",
    "print(y_test.shape)"
   ]
  },
  {
   "cell_type": "code",
   "execution_count": 22,
   "metadata": {},
   "outputs": [
    {
     "name": "stdout",
     "output_type": "stream",
     "text": [
      "              precision    recall  f1-score   support\n",
      "\n",
      "           0       0.77      0.71      0.74       258\n",
      "           1       0.72      0.78      0.75       251\n",
      "\n",
      "    accuracy                           0.74       509\n",
      "   macro avg       0.75      0.75      0.74       509\n",
      "weighted avg       0.75      0.74      0.74       509\n",
      "\n",
      "0.2554027504911591\n"
     ]
    }
   ],
   "source": [
    "from sklearn.tree import DecisionTreeClassifier\n",
    "model = DecisionTreeClassifier()\n",
    "model.fit(X_train,y_train)\n",
    "base_preds = model.predict(X_test)\n",
    "from sklearn.metrics import classification_report,plot_confusion_matrix\n",
    "print(classification_report(y_test,base_preds))\n",
    "# get predicted prices on validation data using training data\n",
    "print(mean_absolute_error(y_test, base_preds))"
   ]
  },
  {
   "cell_type": "code",
   "execution_count": 23,
   "metadata": {},
   "outputs": [
    {
     "data": {
      "text/html": [
       "<div>\n",
       "<style scoped>\n",
       "    .dataframe tbody tr th:only-of-type {\n",
       "        vertical-align: middle;\n",
       "    }\n",
       "\n",
       "    .dataframe tbody tr th {\n",
       "        vertical-align: top;\n",
       "    }\n",
       "\n",
       "    .dataframe thead th {\n",
       "        text-align: right;\n",
       "    }\n",
       "</style>\n",
       "<table border=\"1\" class=\"dataframe\">\n",
       "  <thead>\n",
       "    <tr style=\"text-align: right;\">\n",
       "      <th></th>\n",
       "      <th>Feature Importance</th>\n",
       "    </tr>\n",
       "  </thead>\n",
       "  <tbody>\n",
       "    <tr>\n",
       "      <th>MonthlyRunTime</th>\n",
       "      <td>0.284172</td>\n",
       "    </tr>\n",
       "    <tr>\n",
       "      <th>Sensor3</th>\n",
       "      <td>0.124910</td>\n",
       "    </tr>\n",
       "    <tr>\n",
       "      <th>Sensor2</th>\n",
       "      <td>0.096862</td>\n",
       "    </tr>\n",
       "    <tr>\n",
       "      <th>MaxOutputRate</th>\n",
       "      <td>0.079534</td>\n",
       "    </tr>\n",
       "    <tr>\n",
       "      <th>Sensor5.1</th>\n",
       "      <td>0.073012</td>\n",
       "    </tr>\n",
       "    <tr>\n",
       "      <th>Sensor4</th>\n",
       "      <td>0.061206</td>\n",
       "    </tr>\n",
       "    <tr>\n",
       "      <th>FlowRate</th>\n",
       "      <td>0.060933</td>\n",
       "    </tr>\n",
       "    <tr>\n",
       "      <th>DaysSinceMaintenance</th>\n",
       "      <td>0.055089</td>\n",
       "    </tr>\n",
       "    <tr>\n",
       "      <th>Sensor1</th>\n",
       "      <td>0.054901</td>\n",
       "    </tr>\n",
       "    <tr>\n",
       "      <th>Sensor5</th>\n",
       "      <td>0.054624</td>\n",
       "    </tr>\n",
       "    <tr>\n",
       "      <th>ComponentAge</th>\n",
       "      <td>0.053184</td>\n",
       "    </tr>\n",
       "    <tr>\n",
       "      <th>Location A</th>\n",
       "      <td>0.001574</td>\n",
       "    </tr>\n",
       "  </tbody>\n",
       "</table>\n",
       "</div>"
      ],
      "text/plain": [
       "                      Feature Importance\n",
       "MonthlyRunTime                  0.284172\n",
       "Sensor3                         0.124910\n",
       "Sensor2                         0.096862\n",
       "MaxOutputRate                   0.079534\n",
       "Sensor5.1                       0.073012\n",
       "Sensor4                         0.061206\n",
       "FlowRate                        0.060933\n",
       "DaysSinceMaintenance            0.055089\n",
       "Sensor1                         0.054901\n",
       "Sensor5                         0.054624\n",
       "ComponentAge                    0.053184\n",
       "Location A                      0.001574"
      ]
     },
     "execution_count": 23,
     "metadata": {},
     "output_type": "execute_result"
    }
   ],
   "source": [
    "#Calculate Feature Importance\n",
    "pd.DataFrame(index=X.columns,data=model.feature_importances_,columns=['Feature Importance']).sort_values('Feature Importance',ascending=False)"
   ]
  },
  {
   "cell_type": "code",
   "execution_count": 24,
   "metadata": {},
   "outputs": [
    {
     "name": "stderr",
     "output_type": "stream",
     "text": [
      "C:\\Users\\olowe_m\\Anaconda3\\lib\\site-packages\\sklearn\\utils\\deprecation.py:87: FutureWarning: Function plot_roc_curve is deprecated; Function :func:`plot_roc_curve` is deprecated in 1.0 and will be removed in 1.2. Use one of the class methods: :meth:`sklearn.metric.RocCurveDisplay.from_predictions` or :meth:`sklearn.metric.RocCurveDisplay.from_estimator`.\n",
      "  warnings.warn(msg, category=FutureWarning)\n"
     ]
    },
    {
     "data": {
      "text/plain": [
       "<sklearn.metrics._plot.roc_curve.RocCurveDisplay at 0x1f4df266520>"
      ]
     },
     "execution_count": 24,
     "metadata": {},
     "output_type": "execute_result"
    },
    {
     "data": {
      "image/png": "[encoded data removed]",
      "text/plain": [
       "<Figure size 432x288 with 1 Axes>"
      ]
     },
     "metadata": {
      "needs_background": "light"
     },
     "output_type": "display_data"
    }
   ],
   "source": [
    "from sklearn.metrics import plot_precision_recall_curve,plot_roc_curve\n",
    "plot_roc_curve(model, X_test,y_test)"
   ]
  },
  {
   "cell_type": "markdown",
   "metadata": {},
   "source": [
    "Method 2: Oversample"
   ]
  },
  {
   "cell_type": "code",
   "execution_count": 25,
   "metadata": {},
   "outputs": [
    {
     "data": {
      "text/plain": [
       "(5192, 1271)"
      ]
     },
     "execution_count": 25,
     "metadata": {},
     "output_type": "execute_result"
    }
   ],
   "source": [
    "count_class_0, count_class_1"
   ]
  },
  {
   "cell_type": "code",
   "execution_count": 26,
   "metadata": {},
   "outputs": [],
   "source": [
    "data_class_1_over = data_class_1.sample(count_class_0, replace=True)\n",
    "\n",
    "data_class_over = pd.concat([data_class_1_over, data_class_0],axis=0)"
   ]
  },
  {
   "cell_type": "code",
   "execution_count": 27,
   "metadata": {},
   "outputs": [
    {
     "name": "stdout",
     "output_type": "stream",
     "text": [
      "(8307, 12)\n",
      "(2077, 12)\n",
      "(8307,)\n",
      "(2077,)\n"
     ]
    }
   ],
   "source": [
    "X = data_class_over.drop('Target', axis=1)\n",
    "y = data_class_over['Target']\n",
    "\n",
    "from sklearn.model_selection import train_test_split\n",
    "\n",
    "X_train, X_test, y_train, y_test = train_test_split(X, y, test_size=0.2, random_state=1)\n",
    "print(X_train.shape)\n",
    "print(X_test.shape)\n",
    "print(y_train.shape)\n",
    "print(y_test.shape)"
   ]
  },
  {
   "cell_type": "code",
   "execution_count": 28,
   "metadata": {},
   "outputs": [
    {
     "data": {
      "text/html": [
       "<div>\n",
       "<style scoped>\n",
       "    .dataframe tbody tr th:only-of-type {\n",
       "        vertical-align: middle;\n",
       "    }\n",
       "\n",
       "    .dataframe tbody tr th {\n",
       "        vertical-align: top;\n",
       "    }\n",
       "\n",
       "    .dataframe thead th {\n",
       "        text-align: right;\n",
       "    }\n",
       "</style>\n",
       "<table border=\"1\" class=\"dataframe\">\n",
       "  <thead>\n",
       "    <tr style=\"text-align: right;\">\n",
       "      <th></th>\n",
       "      <th>ComponentAge</th>\n",
       "      <th>MonthlyRunTime</th>\n",
       "      <th>FlowRate</th>\n",
       "      <th>MaxOutputRate</th>\n",
       "      <th>Sensor1</th>\n",
       "      <th>Sensor2</th>\n",
       "      <th>Sensor3</th>\n",
       "      <th>Sensor4</th>\n",
       "      <th>Sensor5</th>\n",
       "      <th>Sensor5.1</th>\n",
       "      <th>DaysSinceMaintenance</th>\n",
       "      <th>Target</th>\n",
       "      <th>Location A</th>\n",
       "    </tr>\n",
       "  </thead>\n",
       "  <tbody>\n",
       "    <tr>\n",
       "      <th>count</th>\n",
       "      <td>10384.000000</td>\n",
       "      <td>10384.000000</td>\n",
       "      <td>10384.000000</td>\n",
       "      <td>10384.000000</td>\n",
       "      <td>10384.000000</td>\n",
       "      <td>10384.000000</td>\n",
       "      <td>10384.000000</td>\n",
       "      <td>10384.000000</td>\n",
       "      <td>10384.000000</td>\n",
       "      <td>10384.000000</td>\n",
       "      <td>10384.000000</td>\n",
       "      <td>10384.000000</td>\n",
       "      <td>10384.000000</td>\n",
       "    </tr>\n",
       "    <tr>\n",
       "      <th>mean</th>\n",
       "      <td>0.535949</td>\n",
       "      <td>10.842785</td>\n",
       "      <td>0.994094</td>\n",
       "      <td>113.233677</td>\n",
       "      <td>7.180980</td>\n",
       "      <td>5.249730</td>\n",
       "      <td>0.320091</td>\n",
       "      <td>3.222053</td>\n",
       "      <td>0.324348</td>\n",
       "      <td>0.051681</td>\n",
       "      <td>30.564811</td>\n",
       "      <td>0.500000</td>\n",
       "      <td>0.781780</td>\n",
       "    </tr>\n",
       "    <tr>\n",
       "      <th>std</th>\n",
       "      <td>0.153648</td>\n",
       "      <td>1.287144</td>\n",
       "      <td>0.003114</td>\n",
       "      <td>53.237604</td>\n",
       "      <td>1.318033</td>\n",
       "      <td>4.542709</td>\n",
       "      <td>0.149116</td>\n",
       "      <td>0.160431</td>\n",
       "      <td>0.133100</td>\n",
       "      <td>0.030684</td>\n",
       "      <td>16.755282</td>\n",
       "      <td>0.500024</td>\n",
       "      <td>0.413058</td>\n",
       "    </tr>\n",
       "    <tr>\n",
       "      <th>min</th>\n",
       "      <td>0.220000</td>\n",
       "      <td>8.000000</td>\n",
       "      <td>0.987110</td>\n",
       "      <td>6.000000</td>\n",
       "      <td>3.800000</td>\n",
       "      <td>0.600000</td>\n",
       "      <td>0.080000</td>\n",
       "      <td>2.720000</td>\n",
       "      <td>0.000000</td>\n",
       "      <td>0.009000</td>\n",
       "      <td>1.000000</td>\n",
       "      <td>0.000000</td>\n",
       "      <td>0.000000</td>\n",
       "    </tr>\n",
       "    <tr>\n",
       "      <th>25%</th>\n",
       "      <td>0.430000</td>\n",
       "      <td>9.700000</td>\n",
       "      <td>0.991580</td>\n",
       "      <td>82.000000</td>\n",
       "      <td>6.400000</td>\n",
       "      <td>1.800000</td>\n",
       "      <td>0.220000</td>\n",
       "      <td>3.110000</td>\n",
       "      <td>0.260000</td>\n",
       "      <td>0.035000</td>\n",
       "      <td>18.000000</td>\n",
       "      <td>0.000000</td>\n",
       "      <td>1.000000</td>\n",
       "    </tr>\n",
       "    <tr>\n",
       "      <th>50%</th>\n",
       "      <td>0.510000</td>\n",
       "      <td>10.800000</td>\n",
       "      <td>0.993900</td>\n",
       "      <td>116.000000</td>\n",
       "      <td>6.900000</td>\n",
       "      <td>3.000000</td>\n",
       "      <td>0.280000</td>\n",
       "      <td>3.210000</td>\n",
       "      <td>0.310000</td>\n",
       "      <td>0.044000</td>\n",
       "      <td>29.000000</td>\n",
       "      <td>0.500000</td>\n",
       "      <td>1.000000</td>\n",
       "    </tr>\n",
       "    <tr>\n",
       "      <th>75%</th>\n",
       "      <td>0.620000</td>\n",
       "      <td>11.900000</td>\n",
       "      <td>0.996560</td>\n",
       "      <td>149.000000</td>\n",
       "      <td>7.600000</td>\n",
       "      <td>7.700000</td>\n",
       "      <td>0.380000</td>\n",
       "      <td>3.330000</td>\n",
       "      <td>0.390000</td>\n",
       "      <td>0.058000</td>\n",
       "      <td>41.000000</td>\n",
       "      <td>1.000000</td>\n",
       "      <td>1.000000</td>\n",
       "    </tr>\n",
       "    <tr>\n",
       "      <th>max</th>\n",
       "      <td>2.000000</td>\n",
       "      <td>14.900000</td>\n",
       "      <td>1.038980</td>\n",
       "      <td>440.000000</td>\n",
       "      <td>15.900000</td>\n",
       "      <td>65.800000</td>\n",
       "      <td>1.580000</td>\n",
       "      <td>4.010000</td>\n",
       "      <td>1.660000</td>\n",
       "      <td>0.611000</td>\n",
       "      <td>289.000000</td>\n",
       "      <td>1.000000</td>\n",
       "      <td>1.000000</td>\n",
       "    </tr>\n",
       "  </tbody>\n",
       "</table>\n",
       "</div>"
      ],
      "text/plain": [
       "       ComponentAge  MonthlyRunTime      FlowRate  MaxOutputRate  \\\n",
       "count  10384.000000    10384.000000  10384.000000   10384.000000   \n",
       "mean       0.535949       10.842785      0.994094     113.233677   \n",
       "std        0.153648        1.287144      0.003114      53.237604   \n",
       "min        0.220000        8.000000      0.987110       6.000000   \n",
       "25%        0.430000        9.700000      0.991580      82.000000   \n",
       "50%        0.510000       10.800000      0.993900     116.000000   \n",
       "75%        0.620000       11.900000      0.996560     149.000000   \n",
       "max        2.000000       14.900000      1.038980     440.000000   \n",
       "\n",
       "            Sensor1       Sensor2       Sensor3       Sensor4       Sensor5  \\\n",
       "count  10384.000000  10384.000000  10384.000000  10384.000000  10384.000000   \n",
       "mean       7.180980      5.249730      0.320091      3.222053      0.324348   \n",
       "std        1.318033      4.542709      0.149116      0.160431      0.133100   \n",
       "min        3.800000      0.600000      0.080000      2.720000      0.000000   \n",
       "25%        6.400000      1.800000      0.220000      3.110000      0.260000   \n",
       "50%        6.900000      3.000000      0.280000      3.210000      0.310000   \n",
       "75%        7.600000      7.700000      0.380000      3.330000      0.390000   \n",
       "max       15.900000     65.800000      1.580000      4.010000      1.660000   \n",
       "\n",
       "          Sensor5.1  DaysSinceMaintenance        Target    Location A  \n",
       "count  10384.000000          10384.000000  10384.000000  10384.000000  \n",
       "mean       0.051681             30.564811      0.500000      0.781780  \n",
       "std        0.030684             16.755282      0.500024      0.413058  \n",
       "min        0.009000              1.000000      0.000000      0.000000  \n",
       "25%        0.035000             18.000000      0.000000      1.000000  \n",
       "50%        0.044000             29.000000      0.500000      1.000000  \n",
       "75%        0.058000             41.000000      1.000000      1.000000  \n",
       "max        0.611000            289.000000      1.000000      1.000000  "
      ]
     },
     "execution_count": 28,
     "metadata": {},
     "output_type": "execute_result"
    }
   ],
   "source": [
    "data_class_over.describe()"
   ]
  },
  {
   "cell_type": "code",
   "execution_count": 29,
   "metadata": {},
   "outputs": [
    {
     "name": "stdout",
     "output_type": "stream",
     "text": [
      "              precision    recall  f1-score   support\n",
      "\n",
      "           0       0.98      0.90      0.94      1010\n",
      "           1       0.91      0.98      0.94      1067\n",
      "\n",
      "    accuracy                           0.94      2077\n",
      "   macro avg       0.94      0.94      0.94      2077\n",
      "weighted avg       0.94      0.94      0.94      2077\n",
      "\n",
      "0.05970149253731343\n"
     ]
    }
   ],
   "source": [
    "from sklearn.tree import DecisionTreeClassifier\n",
    "model = DecisionTreeClassifier()\n",
    "model.fit(X_train,y_train)\n",
    "base_preds = model.predict(X_test)\n",
    "from sklearn.metrics import classification_report,plot_confusion_matrix\n",
    "print(classification_report(y_test,base_preds))\n",
    "# get predicted prices on validation data using training data\n",
    "print(mean_absolute_error(y_test, base_preds))"
   ]
  },
  {
   "cell_type": "code",
   "execution_count": 30,
   "metadata": {},
   "outputs": [
    {
     "data": {
      "text/html": [
       "<div>\n",
       "<style scoped>\n",
       "    .dataframe tbody tr th:only-of-type {\n",
       "        vertical-align: middle;\n",
       "    }\n",
       "\n",
       "    .dataframe tbody tr th {\n",
       "        vertical-align: top;\n",
       "    }\n",
       "\n",
       "    .dataframe thead th {\n",
       "        text-align: right;\n",
       "    }\n",
       "</style>\n",
       "<table border=\"1\" class=\"dataframe\">\n",
       "  <thead>\n",
       "    <tr style=\"text-align: right;\">\n",
       "      <th></th>\n",
       "      <th>Feature Importance</th>\n",
       "    </tr>\n",
       "  </thead>\n",
       "  <tbody>\n",
       "    <tr>\n",
       "      <th>MonthlyRunTime</th>\n",
       "      <td>0.274446</td>\n",
       "    </tr>\n",
       "    <tr>\n",
       "      <th>Sensor3</th>\n",
       "      <td>0.115284</td>\n",
       "    </tr>\n",
       "    <tr>\n",
       "      <th>Sensor2</th>\n",
       "      <td>0.085893</td>\n",
       "    </tr>\n",
       "    <tr>\n",
       "      <th>DaysSinceMaintenance</th>\n",
       "      <td>0.080450</td>\n",
       "    </tr>\n",
       "    <tr>\n",
       "      <th>MaxOutputRate</th>\n",
       "      <td>0.077889</td>\n",
       "    </tr>\n",
       "    <tr>\n",
       "      <th>Sensor5</th>\n",
       "      <td>0.070330</td>\n",
       "    </tr>\n",
       "    <tr>\n",
       "      <th>Sensor5.1</th>\n",
       "      <td>0.065020</td>\n",
       "    </tr>\n",
       "    <tr>\n",
       "      <th>ComponentAge</th>\n",
       "      <td>0.063862</td>\n",
       "    </tr>\n",
       "    <tr>\n",
       "      <th>Sensor4</th>\n",
       "      <td>0.058840</td>\n",
       "    </tr>\n",
       "    <tr>\n",
       "      <th>FlowRate</th>\n",
       "      <td>0.054297</td>\n",
       "    </tr>\n",
       "    <tr>\n",
       "      <th>Sensor1</th>\n",
       "      <td>0.053689</td>\n",
       "    </tr>\n",
       "    <tr>\n",
       "      <th>Location A</th>\n",
       "      <td>0.000000</td>\n",
       "    </tr>\n",
       "  </tbody>\n",
       "</table>\n",
       "</div>"
      ],
      "text/plain": [
       "                      Feature Importance\n",
       "MonthlyRunTime                  0.274446\n",
       "Sensor3                         0.115284\n",
       "Sensor2                         0.085893\n",
       "DaysSinceMaintenance            0.080450\n",
       "MaxOutputRate                   0.077889\n",
       "Sensor5                         0.070330\n",
       "Sensor5.1                       0.065020\n",
       "ComponentAge                    0.063862\n",
       "Sensor4                         0.058840\n",
       "FlowRate                        0.054297\n",
       "Sensor1                         0.053689\n",
       "Location A                      0.000000"
      ]
     },
     "execution_count": 30,
     "metadata": {},
     "output_type": "execute_result"
    }
   ],
   "source": [
    "#Calculate Feature Importance\n",
    "pd.DataFrame(index=X.columns,data=model.feature_importances_,columns=['Feature Importance']).sort_values('Feature Importance',ascending=False)"
   ]
  },
  {
   "cell_type": "code",
   "execution_count": 31,
   "metadata": {},
   "outputs": [
    {
     "name": "stderr",
     "output_type": "stream",
     "text": [
      "C:\\Users\\olowe_m\\Anaconda3\\lib\\site-packages\\sklearn\\utils\\deprecation.py:87: FutureWarning: Function plot_roc_curve is deprecated; Function :func:`plot_roc_curve` is deprecated in 1.0 and will be removed in 1.2. Use one of the class methods: :meth:`sklearn.metric.RocCurveDisplay.from_predictions` or :meth:`sklearn.metric.RocCurveDisplay.from_estimator`.\n",
      "  warnings.warn(msg, category=FutureWarning)\n"
     ]
    },
    {
     "data": {
      "text/plain": [
       "<sklearn.metrics._plot.roc_curve.RocCurveDisplay at 0x1f4dbe8d8e0>"
      ]
     },
     "execution_count": 31,
     "metadata": {},
     "output_type": "execute_result"
    },
    {
     "data": {
      "image/png": "[encoded data removed]",
      "text/plain": [
       "<Figure size 432x288 with 1 Axes>"
      ]
     },
     "metadata": {
      "needs_background": "light"
     },
     "output_type": "display_data"
    }
   ],
   "source": [
    "from sklearn.metrics import plot_precision_recall_curve,plot_roc_curve\n",
    "plot_roc_curve(model, X_test,y_test)"
   ]
  },
  {
   "cell_type": "markdown",
   "metadata": {},
   "source": [
    "method3: SMOTE"
   ]
  },
  {
   "cell_type": "code",
   "execution_count": 32,
   "metadata": {},
   "outputs": [],
   "source": [
    "X = data.drop('Target', axis=1)\n",
    "y = data['Target']"
   ]
  },
  {
   "cell_type": "code",
   "execution_count": 33,
   "metadata": {},
   "outputs": [],
   "source": [
    "from imblearn.over_sampling import SMOTE\n",
    "\n",
    "smote = SMOTE(sampling_strategy = 'minority')\n",
    "X_sm, y_sm = smote.fit_resample(X,y)"
   ]
  },
  {
   "cell_type": "code",
   "execution_count": 34,
   "metadata": {},
   "outputs": [
    {
     "name": "stdout",
     "output_type": "stream",
     "text": [
      "(8307, 12)\n",
      "(2077, 12)\n",
      "(8307,)\n",
      "(2077,)\n"
     ]
    }
   ],
   "source": [
    "from sklearn.model_selection import train_test_split\n",
    "\n",
    "X_train, X_test, y_train, y_test = train_test_split(X_sm, y_sm, test_size=0.2, random_state=1)\n",
    "print(X_train.shape)\n",
    "print(X_test.shape)\n",
    "print(y_train.shape)\n",
    "print(y_test.shape)"
   ]
  },
  {
   "cell_type": "code",
   "execution_count": 35,
   "metadata": {},
   "outputs": [
    {
     "name": "stdout",
     "output_type": "stream",
     "text": [
      "              precision    recall  f1-score   support\n",
      "\n",
      "           0       0.86      0.86      0.86      1046\n",
      "           1       0.86      0.85      0.86      1031\n",
      "\n",
      "    accuracy                           0.86      2077\n",
      "   macro avg       0.86      0.86      0.86      2077\n",
      "weighted avg       0.86      0.86      0.86      2077\n",
      "\n",
      "0.14347616754935003\n"
     ]
    }
   ],
   "source": [
    "from sklearn.tree import DecisionTreeClassifier\n",
    "model = DecisionTreeClassifier()\n",
    "model.fit(X_train,y_train)\n",
    "base_preds = model.predict(X_test)\n",
    "from sklearn.metrics import classification_report,plot_confusion_matrix\n",
    "print(classification_report(y_test,base_preds))\n",
    "# get predicted prices on validation data using training data\n",
    "print(mean_absolute_error(y_test, base_preds))"
   ]
  },
  {
   "cell_type": "code",
   "execution_count": 36,
   "metadata": {},
   "outputs": [
    {
     "data": {
      "text/html": [
       "<div>\n",
       "<style scoped>\n",
       "    .dataframe tbody tr th:only-of-type {\n",
       "        vertical-align: middle;\n",
       "    }\n",
       "\n",
       "    .dataframe tbody tr th {\n",
       "        vertical-align: top;\n",
       "    }\n",
       "\n",
       "    .dataframe thead th {\n",
       "        text-align: right;\n",
       "    }\n",
       "</style>\n",
       "<table border=\"1\" class=\"dataframe\">\n",
       "  <thead>\n",
       "    <tr style=\"text-align: right;\">\n",
       "      <th></th>\n",
       "      <th>Feature Importance</th>\n",
       "    </tr>\n",
       "  </thead>\n",
       "  <tbody>\n",
       "    <tr>\n",
       "      <th>MonthlyRunTime</th>\n",
       "      <td>0.312132</td>\n",
       "    </tr>\n",
       "    <tr>\n",
       "      <th>Sensor3</th>\n",
       "      <td>0.121033</td>\n",
       "    </tr>\n",
       "    <tr>\n",
       "      <th>Sensor2</th>\n",
       "      <td>0.077593</td>\n",
       "    </tr>\n",
       "    <tr>\n",
       "      <th>Sensor1</th>\n",
       "      <td>0.071319</td>\n",
       "    </tr>\n",
       "    <tr>\n",
       "      <th>ComponentAge</th>\n",
       "      <td>0.069299</td>\n",
       "    </tr>\n",
       "    <tr>\n",
       "      <th>DaysSinceMaintenance</th>\n",
       "      <td>0.067593</td>\n",
       "    </tr>\n",
       "    <tr>\n",
       "      <th>MaxOutputRate</th>\n",
       "      <td>0.065415</td>\n",
       "    </tr>\n",
       "    <tr>\n",
       "      <th>Sensor4</th>\n",
       "      <td>0.062777</td>\n",
       "    </tr>\n",
       "    <tr>\n",
       "      <th>Sensor5.1</th>\n",
       "      <td>0.053360</td>\n",
       "    </tr>\n",
       "    <tr>\n",
       "      <th>FlowRate</th>\n",
       "      <td>0.050687</td>\n",
       "    </tr>\n",
       "    <tr>\n",
       "      <th>Sensor5</th>\n",
       "      <td>0.046728</td>\n",
       "    </tr>\n",
       "    <tr>\n",
       "      <th>Location A</th>\n",
       "      <td>0.002064</td>\n",
       "    </tr>\n",
       "  </tbody>\n",
       "</table>\n",
       "</div>"
      ],
      "text/plain": [
       "                      Feature Importance\n",
       "MonthlyRunTime                  0.312132\n",
       "Sensor3                         0.121033\n",
       "Sensor2                         0.077593\n",
       "Sensor1                         0.071319\n",
       "ComponentAge                    0.069299\n",
       "DaysSinceMaintenance            0.067593\n",
       "MaxOutputRate                   0.065415\n",
       "Sensor4                         0.062777\n",
       "Sensor5.1                       0.053360\n",
       "FlowRate                        0.050687\n",
       "Sensor5                         0.046728\n",
       "Location A                      0.002064"
      ]
     },
     "execution_count": 36,
     "metadata": {},
     "output_type": "execute_result"
    }
   ],
   "source": [
    "#Calculate Feature Importance\n",
    "pd.DataFrame(index=X_sm.columns,data=model.feature_importances_,columns=['Feature Importance']).sort_values('Feature Importance',ascending=False)"
   ]
  },
  {
   "cell_type": "code",
   "execution_count": 37,
   "metadata": {},
   "outputs": [
    {
     "name": "stderr",
     "output_type": "stream",
     "text": [
      "C:\\Users\\olowe_m\\Anaconda3\\lib\\site-packages\\sklearn\\utils\\deprecation.py:87: FutureWarning: Function plot_roc_curve is deprecated; Function :func:`plot_roc_curve` is deprecated in 1.0 and will be removed in 1.2. Use one of the class methods: :meth:`sklearn.metric.RocCurveDisplay.from_predictions` or :meth:`sklearn.metric.RocCurveDisplay.from_estimator`.\n",
      "  warnings.warn(msg, category=FutureWarning)\n"
     ]
    },
    {
     "data": {
      "text/plain": [
       "<sklearn.metrics._plot.roc_curve.RocCurveDisplay at 0x1f4df298850>"
      ]
     },
     "execution_count": 37,
     "metadata": {},
     "output_type": "execute_result"
    },
    {
     "data": {
      "image/png": "[encoded data removed]",
      "text/plain": [
       "<Figure size 432x288 with 1 Axes>"
      ]
     },
     "metadata": {
      "needs_background": "light"
     },
     "output_type": "display_data"
    }
   ],
   "source": [
    "from sklearn.metrics import plot_precision_recall_curve,plot_roc_curve\n",
    "plot_roc_curve(model, X_test,y_test)"
   ]
  }
 ],
 "metadata": {
  "interpreter": {
   "hash": "6a22721d4c9fa5e000d4c0747d20bdcc2c031421878bc0f8ab9597cef4e6fcc9"
  },
  "kernelspec": {
   "display_name": "Python 3.8.8 64-bit ('base': conda)",
   "language": "python",
   "name": "python3"
  },
  "language_info": {
   "codemirror_mode": {
    "name": "ipython",
    "version": 3
   },
   "file_extension": ".py",
   "mimetype": "text/x-python",
   "name": "python",
   "nbconvert_exporter": "python",
   "pygments_lexer": "ipython3",
   "version": "3.8.8"
  },
  "orig_nbformat": 4
 },
 "nbformat": 4,
 "nbformat_minor": 2
}
