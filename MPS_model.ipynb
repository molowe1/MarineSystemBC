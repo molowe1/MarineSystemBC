{
 "cells": [
  {
   "cell_type": "code",
   "execution_count": 2,
   "metadata": {},
   "outputs": [],
   "source": [
    "import csv\n",
    "import pandas as pd\n",
    "import numpy as np\n",
    "import matplotlib.pyplot as plt\n",
    "import plotly.express as px\n",
    "import seaborn as sns\n",
    "from collections import Counter\n"
   ]
  },
  {
   "cell_type": "code",
   "execution_count": 69,
   "metadata": {},
   "outputs": [
    {
     "data": {
      "text/html": [
       "<div>\n",
       "<style scoped>\n",
       "    .dataframe tbody tr th:only-of-type {\n",
       "        vertical-align: middle;\n",
       "    }\n",
       "\n",
       "    .dataframe tbody tr th {\n",
       "        vertical-align: top;\n",
       "    }\n",
       "\n",
       "    .dataframe thead th {\n",
       "        text-align: right;\n",
       "    }\n",
       "</style>\n",
       "<table border=\"1\" class=\"dataframe\">\n",
       "  <thead>\n",
       "    <tr style=\"text-align: right;\">\n",
       "      <th></th>\n",
       "      <th>ComponentAge</th>\n",
       "      <th>MonthlyRunTime</th>\n",
       "      <th>FlowRate</th>\n",
       "      <th>MaxOutputRate</th>\n",
       "      <th>Sensor1</th>\n",
       "      <th>Sensor2</th>\n",
       "      <th>Sensor3</th>\n",
       "      <th>Sensor4</th>\n",
       "      <th>Sensor5</th>\n",
       "      <th>Sensor5.1</th>\n",
       "      <th>DaysSinceMaintenance</th>\n",
       "      <th>Target</th>\n",
       "      <th>Location A</th>\n",
       "    </tr>\n",
       "  </thead>\n",
       "  <tbody>\n",
       "    <tr>\n",
       "      <th>0</th>\n",
       "      <td>0.55</td>\n",
       "      <td>9.50</td>\n",
       "      <td>0.99740</td>\n",
       "      <td>32.0</td>\n",
       "      <td>10.0</td>\n",
       "      <td>1.90</td>\n",
       "      <td>0.580</td>\n",
       "      <td>3.13</td>\n",
       "      <td>0.22</td>\n",
       "      <td>0.080</td>\n",
       "      <td>9.0</td>\n",
       "      <td>0</td>\n",
       "      <td>0</td>\n",
       "    </tr>\n",
       "    <tr>\n",
       "      <th>1</th>\n",
       "      <td>0.32</td>\n",
       "      <td>12.70</td>\n",
       "      <td>0.99184</td>\n",
       "      <td>28.0</td>\n",
       "      <td>6.9</td>\n",
       "      <td>10.55</td>\n",
       "      <td>0.300</td>\n",
       "      <td>3.07</td>\n",
       "      <td>0.30</td>\n",
       "      <td>0.037</td>\n",
       "      <td>4.0</td>\n",
       "      <td>0</td>\n",
       "      <td>1</td>\n",
       "    </tr>\n",
       "    <tr>\n",
       "      <th>2</th>\n",
       "      <td>0.57</td>\n",
       "      <td>9.70</td>\n",
       "      <td>0.99743</td>\n",
       "      <td>86.0</td>\n",
       "      <td>7.2</td>\n",
       "      <td>2.30</td>\n",
       "      <td>0.660</td>\n",
       "      <td>3.53</td>\n",
       "      <td>0.03</td>\n",
       "      <td>0.078</td>\n",
       "      <td>16.0</td>\n",
       "      <td>0</td>\n",
       "      <td>0</td>\n",
       "    </tr>\n",
       "    <tr>\n",
       "      <th>3</th>\n",
       "      <td>0.50</td>\n",
       "      <td>9.50</td>\n",
       "      <td>0.99593</td>\n",
       "      <td>84.0</td>\n",
       "      <td>7.1</td>\n",
       "      <td>1.80</td>\n",
       "      <td>0.755</td>\n",
       "      <td>3.19</td>\n",
       "      <td>0.15</td>\n",
       "      <td>0.107</td>\n",
       "      <td>20.0</td>\n",
       "      <td>0</td>\n",
       "      <td>0</td>\n",
       "    </tr>\n",
       "    <tr>\n",
       "      <th>4</th>\n",
       "      <td>0.44</td>\n",
       "      <td>10.80</td>\n",
       "      <td>0.99280</td>\n",
       "      <td>127.0</td>\n",
       "      <td>7.0</td>\n",
       "      <td>4.90</td>\n",
       "      <td>0.290</td>\n",
       "      <td>3.17</td>\n",
       "      <td>0.37</td>\n",
       "      <td>0.034</td>\n",
       "      <td>26.0</td>\n",
       "      <td>0</td>\n",
       "      <td>1</td>\n",
       "    </tr>\n",
       "    <tr>\n",
       "      <th>5</th>\n",
       "      <td>0.41</td>\n",
       "      <td>10.60</td>\n",
       "      <td>0.99300</td>\n",
       "      <td>76.0</td>\n",
       "      <td>7.0</td>\n",
       "      <td>2.10</td>\n",
       "      <td>0.220</td>\n",
       "      <td>3.20</td>\n",
       "      <td>0.33</td>\n",
       "      <td>0.052</td>\n",
       "      <td>15.0</td>\n",
       "      <td>0</td>\n",
       "      <td>1</td>\n",
       "    </tr>\n",
       "    <tr>\n",
       "      <th>6</th>\n",
       "      <td>0.76</td>\n",
       "      <td>10.00</td>\n",
       "      <td>0.99660</td>\n",
       "      <td>110.0</td>\n",
       "      <td>7.7</td>\n",
       "      <td>7.70</td>\n",
       "      <td>0.390</td>\n",
       "      <td>3.33</td>\n",
       "      <td>0.49</td>\n",
       "      <td>0.036</td>\n",
       "      <td>11.0</td>\n",
       "      <td>0</td>\n",
       "      <td>1</td>\n",
       "    </tr>\n",
       "    <tr>\n",
       "      <th>7</th>\n",
       "      <td>0.50</td>\n",
       "      <td>9.55</td>\n",
       "      <td>0.99494</td>\n",
       "      <td>170.0</td>\n",
       "      <td>6.6</td>\n",
       "      <td>8.10</td>\n",
       "      <td>0.340</td>\n",
       "      <td>3.15</td>\n",
       "      <td>0.40</td>\n",
       "      <td>0.046</td>\n",
       "      <td>68.0</td>\n",
       "      <td>0</td>\n",
       "      <td>1</td>\n",
       "    </tr>\n",
       "    <tr>\n",
       "      <th>8</th>\n",
       "      <td>0.30</td>\n",
       "      <td>11.90</td>\n",
       "      <td>0.99200</td>\n",
       "      <td>138.0</td>\n",
       "      <td>7.3</td>\n",
       "      <td>6.85</td>\n",
       "      <td>0.330</td>\n",
       "      <td>3.03</td>\n",
       "      <td>0.40</td>\n",
       "      <td>0.038</td>\n",
       "      <td>32.0</td>\n",
       "      <td>1</td>\n",
       "      <td>1</td>\n",
       "    </tr>\n",
       "    <tr>\n",
       "      <th>9</th>\n",
       "      <td>0.50</td>\n",
       "      <td>9.80</td>\n",
       "      <td>0.99345</td>\n",
       "      <td>109.0</td>\n",
       "      <td>6.4</td>\n",
       "      <td>1.50</td>\n",
       "      <td>0.160</td>\n",
       "      <td>3.38</td>\n",
       "      <td>0.37</td>\n",
       "      <td>0.037</td>\n",
       "      <td>27.0</td>\n",
       "      <td>0</td>\n",
       "      <td>1</td>\n",
       "    </tr>\n",
       "  </tbody>\n",
       "</table>\n",
       "</div>"
      ],
      "text/plain": [
       "   ComponentAge  MonthlyRunTime  FlowRate  MaxOutputRate  Sensor1  Sensor2  \\\n",
       "0          0.55            9.50   0.99740           32.0     10.0     1.90   \n",
       "1          0.32           12.70   0.99184           28.0      6.9    10.55   \n",
       "2          0.57            9.70   0.99743           86.0      7.2     2.30   \n",
       "3          0.50            9.50   0.99593           84.0      7.1     1.80   \n",
       "4          0.44           10.80   0.99280          127.0      7.0     4.90   \n",
       "5          0.41           10.60   0.99300           76.0      7.0     2.10   \n",
       "6          0.76           10.00   0.99660          110.0      7.7     7.70   \n",
       "7          0.50            9.55   0.99494          170.0      6.6     8.10   \n",
       "8          0.30           11.90   0.99200          138.0      7.3     6.85   \n",
       "9          0.50            9.80   0.99345          109.0      6.4     1.50   \n",
       "\n",
       "   Sensor3  Sensor4  Sensor5  Sensor5.1  DaysSinceMaintenance  Target  \\\n",
       "0    0.580     3.13     0.22      0.080                   9.0       0   \n",
       "1    0.300     3.07     0.30      0.037                   4.0       0   \n",
       "2    0.660     3.53     0.03      0.078                  16.0       0   \n",
       "3    0.755     3.19     0.15      0.107                  20.0       0   \n",
       "4    0.290     3.17     0.37      0.034                  26.0       0   \n",
       "5    0.220     3.20     0.33      0.052                  15.0       0   \n",
       "6    0.390     3.33     0.49      0.036                  11.0       0   \n",
       "7    0.340     3.15     0.40      0.046                  68.0       0   \n",
       "8    0.330     3.03     0.40      0.038                  32.0       1   \n",
       "9    0.160     3.38     0.37      0.037                  27.0       0   \n",
       "\n",
       "   Location A  \n",
       "0           0  \n",
       "1           1  \n",
       "2           0  \n",
       "3           0  \n",
       "4           1  \n",
       "5           1  \n",
       "6           1  \n",
       "7           1  \n",
       "8           1  \n",
       "9           1  "
      ]
     },
     "execution_count": 69,
     "metadata": {},
     "output_type": "execute_result"
    }
   ],
   "source": [
    "data = pd.read_csv(\"C:/Users/olowe_m/OneDrive/DA Material/DS Exercise 3/MPS_cleanv1.csv\")\n",
    "data.head(10)\n",
    "data = data.loc[:, ~data.columns.str.contains('^Unnamed')]\n",
    "data.drop(columns=['Location', 'A'], axis = 1, inplace = True)\n",
    "#data.rename({'Location A' : 'Location'}, axis=1, inplace=True)\n",
    "data.head(10)"
   ]
  },
  {
   "cell_type": "code",
   "execution_count": 4,
   "metadata": {},
   "outputs": [
    {
     "data": {
      "text/html": [
       "<div>\n",
       "<style scoped>\n",
       "    .dataframe tbody tr th:only-of-type {\n",
       "        vertical-align: middle;\n",
       "    }\n",
       "\n",
       "    .dataframe tbody tr th {\n",
       "        vertical-align: top;\n",
       "    }\n",
       "\n",
       "    .dataframe thead th {\n",
       "        text-align: right;\n",
       "    }\n",
       "</style>\n",
       "<table border=\"1\" class=\"dataframe\">\n",
       "  <thead>\n",
       "    <tr style=\"text-align: right;\">\n",
       "      <th></th>\n",
       "      <th>ComponentAge</th>\n",
       "      <th>MonthlyRunTime</th>\n",
       "      <th>FlowRate</th>\n",
       "      <th>MaxOutputRate</th>\n",
       "      <th>Sensor1</th>\n",
       "      <th>Sensor2</th>\n",
       "      <th>Sensor3</th>\n",
       "      <th>Sensor4</th>\n",
       "      <th>Sensor5</th>\n",
       "      <th>Sensor5.1</th>\n",
       "      <th>DaysSinceMaintenance</th>\n",
       "      <th>Location A</th>\n",
       "    </tr>\n",
       "  </thead>\n",
       "  <tbody>\n",
       "    <tr>\n",
       "      <th>0</th>\n",
       "      <td>0.55</td>\n",
       "      <td>9.5</td>\n",
       "      <td>0.99740</td>\n",
       "      <td>32.0</td>\n",
       "      <td>10.0</td>\n",
       "      <td>1.90</td>\n",
       "      <td>0.580</td>\n",
       "      <td>3.13</td>\n",
       "      <td>0.22</td>\n",
       "      <td>0.080</td>\n",
       "      <td>9.0</td>\n",
       "      <td>0</td>\n",
       "    </tr>\n",
       "    <tr>\n",
       "      <th>1</th>\n",
       "      <td>0.32</td>\n",
       "      <td>12.7</td>\n",
       "      <td>0.99184</td>\n",
       "      <td>28.0</td>\n",
       "      <td>6.9</td>\n",
       "      <td>10.55</td>\n",
       "      <td>0.300</td>\n",
       "      <td>3.07</td>\n",
       "      <td>0.30</td>\n",
       "      <td>0.037</td>\n",
       "      <td>4.0</td>\n",
       "      <td>1</td>\n",
       "    </tr>\n",
       "    <tr>\n",
       "      <th>2</th>\n",
       "      <td>0.57</td>\n",
       "      <td>9.7</td>\n",
       "      <td>0.99743</td>\n",
       "      <td>86.0</td>\n",
       "      <td>7.2</td>\n",
       "      <td>2.30</td>\n",
       "      <td>0.660</td>\n",
       "      <td>3.53</td>\n",
       "      <td>0.03</td>\n",
       "      <td>0.078</td>\n",
       "      <td>16.0</td>\n",
       "      <td>0</td>\n",
       "    </tr>\n",
       "    <tr>\n",
       "      <th>3</th>\n",
       "      <td>0.50</td>\n",
       "      <td>9.5</td>\n",
       "      <td>0.99593</td>\n",
       "      <td>84.0</td>\n",
       "      <td>7.1</td>\n",
       "      <td>1.80</td>\n",
       "      <td>0.755</td>\n",
       "      <td>3.19</td>\n",
       "      <td>0.15</td>\n",
       "      <td>0.107</td>\n",
       "      <td>20.0</td>\n",
       "      <td>0</td>\n",
       "    </tr>\n",
       "    <tr>\n",
       "      <th>4</th>\n",
       "      <td>0.44</td>\n",
       "      <td>10.8</td>\n",
       "      <td>0.99280</td>\n",
       "      <td>127.0</td>\n",
       "      <td>7.0</td>\n",
       "      <td>4.90</td>\n",
       "      <td>0.290</td>\n",
       "      <td>3.17</td>\n",
       "      <td>0.37</td>\n",
       "      <td>0.034</td>\n",
       "      <td>26.0</td>\n",
       "      <td>1</td>\n",
       "    </tr>\n",
       "  </tbody>\n",
       "</table>\n",
       "</div>"
      ],
      "text/plain": [
       "   ComponentAge  MonthlyRunTime  FlowRate  MaxOutputRate  Sensor1  Sensor2  \\\n",
       "0          0.55             9.5   0.99740           32.0     10.0     1.90   \n",
       "1          0.32            12.7   0.99184           28.0      6.9    10.55   \n",
       "2          0.57             9.7   0.99743           86.0      7.2     2.30   \n",
       "3          0.50             9.5   0.99593           84.0      7.1     1.80   \n",
       "4          0.44            10.8   0.99280          127.0      7.0     4.90   \n",
       "\n",
       "   Sensor3  Sensor4  Sensor5  Sensor5.1  DaysSinceMaintenance  Location A  \n",
       "0    0.580     3.13     0.22      0.080                   9.0           0  \n",
       "1    0.300     3.07     0.30      0.037                   4.0           1  \n",
       "2    0.660     3.53     0.03      0.078                  16.0           0  \n",
       "3    0.755     3.19     0.15      0.107                  20.0           0  \n",
       "4    0.290     3.17     0.37      0.034                  26.0           1  "
      ]
     },
     "execution_count": 4,
     "metadata": {},
     "output_type": "execute_result"
    }
   ],
   "source": [
    "#Model Building\n",
    "\n",
    "# Defining regressand(Y) and regressors(X)\n",
    "\n",
    "from sklearn.model_selection import train_test_split\n",
    "X = data.drop('Target', axis=1)\n",
    "y = data['Target']\n",
    "\n",
    "X.head()"
   ]
  },
  {
   "cell_type": "code",
   "execution_count": 5,
   "metadata": {},
   "outputs": [
    {
     "data": {
      "text/html": [
       "<div>\n",
       "<style scoped>\n",
       "    .dataframe tbody tr th:only-of-type {\n",
       "        vertical-align: middle;\n",
       "    }\n",
       "\n",
       "    .dataframe tbody tr th {\n",
       "        vertical-align: top;\n",
       "    }\n",
       "\n",
       "    .dataframe thead th {\n",
       "        text-align: right;\n",
       "    }\n",
       "</style>\n",
       "<table border=\"1\" class=\"dataframe\">\n",
       "  <thead>\n",
       "    <tr style=\"text-align: right;\">\n",
       "      <th></th>\n",
       "      <th>ComponentAge</th>\n",
       "      <th>MonthlyRunTime</th>\n",
       "      <th>FlowRate</th>\n",
       "      <th>MaxOutputRate</th>\n",
       "      <th>Sensor1</th>\n",
       "      <th>Sensor2</th>\n",
       "      <th>Sensor3</th>\n",
       "      <th>Sensor4</th>\n",
       "      <th>Sensor5</th>\n",
       "      <th>Sensor5.1</th>\n",
       "      <th>DaysSinceMaintenance</th>\n",
       "      <th>Target</th>\n",
       "      <th>Location A</th>\n",
       "    </tr>\n",
       "  </thead>\n",
       "  <tbody>\n",
       "    <tr>\n",
       "      <th>count</th>\n",
       "      <td>6463.000000</td>\n",
       "      <td>6463.000000</td>\n",
       "      <td>6463.000000</td>\n",
       "      <td>6463.000000</td>\n",
       "      <td>6463.000000</td>\n",
       "      <td>6463.000000</td>\n",
       "      <td>6463.000000</td>\n",
       "      <td>6463.000000</td>\n",
       "      <td>6463.000000</td>\n",
       "      <td>6463.000000</td>\n",
       "      <td>6463.000000</td>\n",
       "      <td>6463.000000</td>\n",
       "      <td>6463.000000</td>\n",
       "    </tr>\n",
       "    <tr>\n",
       "      <th>mean</th>\n",
       "      <td>0.531150</td>\n",
       "      <td>10.492825</td>\n",
       "      <td>0.994698</td>\n",
       "      <td>115.694492</td>\n",
       "      <td>7.217755</td>\n",
       "      <td>5.443958</td>\n",
       "      <td>0.339589</td>\n",
       "      <td>3.218332</td>\n",
       "      <td>0.318758</td>\n",
       "      <td>0.056056</td>\n",
       "      <td>30.516865</td>\n",
       "      <td>0.196658</td>\n",
       "      <td>0.753520</td>\n",
       "    </tr>\n",
       "    <tr>\n",
       "      <th>std</th>\n",
       "      <td>0.148913</td>\n",
       "      <td>1.193128</td>\n",
       "      <td>0.003001</td>\n",
       "      <td>56.526736</td>\n",
       "      <td>1.297913</td>\n",
       "      <td>4.756852</td>\n",
       "      <td>0.164639</td>\n",
       "      <td>0.160650</td>\n",
       "      <td>0.145252</td>\n",
       "      <td>0.035076</td>\n",
       "      <td>17.758815</td>\n",
       "      <td>0.397502</td>\n",
       "      <td>0.430995</td>\n",
       "    </tr>\n",
       "    <tr>\n",
       "      <th>min</th>\n",
       "      <td>0.220000</td>\n",
       "      <td>8.000000</td>\n",
       "      <td>0.987110</td>\n",
       "      <td>6.000000</td>\n",
       "      <td>3.800000</td>\n",
       "      <td>0.600000</td>\n",
       "      <td>0.080000</td>\n",
       "      <td>2.720000</td>\n",
       "      <td>0.000000</td>\n",
       "      <td>0.009000</td>\n",
       "      <td>1.000000</td>\n",
       "      <td>0.000000</td>\n",
       "      <td>0.000000</td>\n",
       "    </tr>\n",
       "    <tr>\n",
       "      <th>25%</th>\n",
       "      <td>0.430000</td>\n",
       "      <td>9.500000</td>\n",
       "      <td>0.992330</td>\n",
       "      <td>77.000000</td>\n",
       "      <td>6.400000</td>\n",
       "      <td>1.800000</td>\n",
       "      <td>0.230000</td>\n",
       "      <td>3.110000</td>\n",
       "      <td>0.250000</td>\n",
       "      <td>0.038000</td>\n",
       "      <td>17.000000</td>\n",
       "      <td>0.000000</td>\n",
       "      <td>1.000000</td>\n",
       "    </tr>\n",
       "    <tr>\n",
       "      <th>50%</th>\n",
       "      <td>0.510000</td>\n",
       "      <td>10.300000</td>\n",
       "      <td>0.994890</td>\n",
       "      <td>118.000000</td>\n",
       "      <td>7.000000</td>\n",
       "      <td>3.000000</td>\n",
       "      <td>0.290000</td>\n",
       "      <td>3.210000</td>\n",
       "      <td>0.310000</td>\n",
       "      <td>0.047000</td>\n",
       "      <td>29.000000</td>\n",
       "      <td>0.000000</td>\n",
       "      <td>1.000000</td>\n",
       "    </tr>\n",
       "    <tr>\n",
       "      <th>75%</th>\n",
       "      <td>0.600000</td>\n",
       "      <td>11.300000</td>\n",
       "      <td>0.997000</td>\n",
       "      <td>156.000000</td>\n",
       "      <td>7.700000</td>\n",
       "      <td>8.100000</td>\n",
       "      <td>0.400000</td>\n",
       "      <td>3.320000</td>\n",
       "      <td>0.390000</td>\n",
       "      <td>0.065000</td>\n",
       "      <td>41.000000</td>\n",
       "      <td>0.000000</td>\n",
       "      <td>1.000000</td>\n",
       "    </tr>\n",
       "    <tr>\n",
       "      <th>max</th>\n",
       "      <td>2.000000</td>\n",
       "      <td>14.900000</td>\n",
       "      <td>1.038980</td>\n",
       "      <td>440.000000</td>\n",
       "      <td>15.900000</td>\n",
       "      <td>65.800000</td>\n",
       "      <td>1.580000</td>\n",
       "      <td>4.010000</td>\n",
       "      <td>1.660000</td>\n",
       "      <td>0.611000</td>\n",
       "      <td>289.000000</td>\n",
       "      <td>1.000000</td>\n",
       "      <td>1.000000</td>\n",
       "    </tr>\n",
       "  </tbody>\n",
       "</table>\n",
       "</div>"
      ],
      "text/plain": [
       "       ComponentAge  MonthlyRunTime     FlowRate  MaxOutputRate      Sensor1  \\\n",
       "count   6463.000000     6463.000000  6463.000000    6463.000000  6463.000000   \n",
       "mean       0.531150       10.492825     0.994698     115.694492     7.217755   \n",
       "std        0.148913        1.193128     0.003001      56.526736     1.297913   \n",
       "min        0.220000        8.000000     0.987110       6.000000     3.800000   \n",
       "25%        0.430000        9.500000     0.992330      77.000000     6.400000   \n",
       "50%        0.510000       10.300000     0.994890     118.000000     7.000000   \n",
       "75%        0.600000       11.300000     0.997000     156.000000     7.700000   \n",
       "max        2.000000       14.900000     1.038980     440.000000    15.900000   \n",
       "\n",
       "           Sensor2      Sensor3      Sensor4      Sensor5    Sensor5.1  \\\n",
       "count  6463.000000  6463.000000  6463.000000  6463.000000  6463.000000   \n",
       "mean      5.443958     0.339589     3.218332     0.318758     0.056056   \n",
       "std       4.756852     0.164639     0.160650     0.145252     0.035076   \n",
       "min       0.600000     0.080000     2.720000     0.000000     0.009000   \n",
       "25%       1.800000     0.230000     3.110000     0.250000     0.038000   \n",
       "50%       3.000000     0.290000     3.210000     0.310000     0.047000   \n",
       "75%       8.100000     0.400000     3.320000     0.390000     0.065000   \n",
       "max      65.800000     1.580000     4.010000     1.660000     0.611000   \n",
       "\n",
       "       DaysSinceMaintenance       Target   Location A  \n",
       "count           6463.000000  6463.000000  6463.000000  \n",
       "mean              30.516865     0.196658     0.753520  \n",
       "std               17.758815     0.397502     0.430995  \n",
       "min                1.000000     0.000000     0.000000  \n",
       "25%               17.000000     0.000000     1.000000  \n",
       "50%               29.000000     0.000000     1.000000  \n",
       "75%               41.000000     0.000000     1.000000  \n",
       "max              289.000000     1.000000     1.000000  "
      ]
     },
     "execution_count": 5,
     "metadata": {},
     "output_type": "execute_result"
    }
   ],
   "source": [
    "# All discrete features should now have integer dtypes (double-check this before using MI!)\n",
    "discrete_features = X.dtypes == int\n",
    "data.describe()"
   ]
  },
  {
   "cell_type": "code",
   "execution_count": 6,
   "metadata": {},
   "outputs": [
    {
     "data": {
      "text/plain": [
       "FlowRate                0.082111\n",
       "Sensor2                 0.041143\n",
       "Sensor5.1               0.038788\n",
       "MaxOutputRate           0.036369\n",
       "Sensor5                 0.022805\n",
       "ComponentAge            0.016007\n",
       "Sensor3                 0.011527\n",
       "Sensor1                 0.009266\n",
       "DaysSinceMaintenance    0.009094\n",
       "Sensor4                 0.006793\n",
       "Location A              0.003067\n",
       "Name: MI Scores, dtype: float64"
      ]
     },
     "execution_count": 6,
     "metadata": {},
     "output_type": "execute_result"
    }
   ],
   "source": [
    "from sklearn.feature_selection import mutual_info_classif\n",
    "\n",
    "def make_mi_scores(X, Y, discrete_features):\n",
    "    mi_scores = mutual_info_classif(X, Y, discrete_features=discrete_features)\n",
    "    mi_scores = pd.Series(mi_scores, name=\"MI Scores\", index=X.columns)\n",
    "    mi_scores = mi_scores.sort_values(ascending=False)\n",
    "    return mi_scores\n",
    "\n",
    "mi_scores = make_mi_scores(X, y, discrete_features)\n",
    "mi_scores[1:12]"
   ]
  },
  {
   "cell_type": "code",
   "execution_count": 7,
   "metadata": {},
   "outputs": [
    {
     "data": {
      "image/png": "[encoded data removed]",
      "text/plain": [
       "<Figure size 700x400 with 1 Axes>"
      ]
     },
     "metadata": {
      "needs_background": "light"
     },
     "output_type": "display_data"
    }
   ],
   "source": [
    "def plot_mi_scores(scores):\n",
    "    scores = scores.sort_values(ascending=True)\n",
    "    width = np.arange(len(scores))\n",
    "    ticks = list(scores.index)\n",
    "    plt.barh(width, scores)\n",
    "    plt.yticks(width, ticks)\n",
    "    plt.title(\"Mutual Information Scores\")\n",
    "\n",
    "plt.figure(dpi=100, figsize=(7, 4))\n",
    "plot_mi_scores(mi_scores)"
   ]
  },
  {
   "cell_type": "markdown",
   "metadata": {},
   "source": [
    "The results suggest perhaps four of the 10 features as being important to prediction.\n",
    "MonthlyRunTime\t\n",
    "FlowRate\t\n",
    "MaxOutputRate\t\n",
    "Sensor2\t\n",
    "Sensor3\t\n",
    "Sensor5\t\n",
    "Sensor5.1"
   ]
  },
  {
   "cell_type": "code",
   "execution_count": 8,
   "metadata": {},
   "outputs": [
    {
     "data": {
      "image/png": "[encoded data removed]",
      "text/plain": [
       "<Figure size 360x360 with 1 Axes>"
      ]
     },
     "metadata": {
      "needs_background": "light"
     },
     "output_type": "display_data"
    }
   ],
   "source": [
    "sns.relplot(x=\"MonthlyRunTime\",y=\"FlowRate\", data=data);"
   ]
  },
  {
   "cell_type": "code",
   "execution_count": 9,
   "metadata": {},
   "outputs": [
    {
     "data": {
      "image/png": "[encoded data removed]",
      "text/plain": [
       "<Figure size 420.125x360 with 1 Axes>"
      ]
     },
     "metadata": {
      "needs_background": "light"
     },
     "output_type": "display_data"
    }
   ],
   "source": [
    "sns.lmplot(x=\"MonthlyRunTime\", y=\"FlowRate\", hue=\"Location A\", data=data);"
   ]
  },
  {
   "cell_type": "code",
   "execution_count": 10,
   "metadata": {},
   "outputs": [
    {
     "data": {
      "image/png": "[encoded data removed]",
      "text/plain": [
       "<Figure size 420.125x360 with 1 Axes>"
      ]
     },
     "metadata": {
      "needs_background": "light"
     },
     "output_type": "display_data"
    }
   ],
   "source": [
    "sns.lmplot(x=\"MonthlyRunTime\", y=\"Sensor5.1\", hue=\"Location A\", data=data);"
   ]
  },
  {
   "cell_type": "code",
   "execution_count": 11,
   "metadata": {},
   "outputs": [
    {
     "data": {
      "text/plain": [
       "<mpl_toolkits.mplot3d.art3d.Path3DCollection at 0x2002e60bd90>"
      ]
     },
     "execution_count": 11,
     "metadata": {},
     "output_type": "execute_result"
    },
    {
     "data": {
      "image/png": "[encoded data removed]",
      "text/plain": [
       "<Figure size 432x288 with 1 Axes>"
      ]
     },
     "metadata": {
      "needs_background": "light"
     },
     "output_type": "display_data"
    }
   ],
   "source": [
    "from mpl_toolkits.mplot3d import Axes3D\n",
    "fig = plt.figure()\n",
    "ax = fig.add_subplot(111, projection='3d')\n",
    "ax.scatter(data['MonthlyRunTime'], data['Target'], data['ComponentAge'])"
   ]
  },
  {
   "cell_type": "code",
   "execution_count": 12,
   "metadata": {},
   "outputs": [
    {
     "data": {
      "image/png": "[encoded data removed]",
      "text/plain": [
       "<Figure size 360x360 with 1 Axes>"
      ]
     },
     "metadata": {
      "needs_background": "light"
     },
     "output_type": "display_data"
    }
   ],
   "source": [
    "sns.relplot(x=\"MonthlyRunTime\",y=\"Location A\", data=data);"
   ]
  },
  {
   "cell_type": "code",
   "execution_count": 13,
   "metadata": {},
   "outputs": [
    {
     "name": "stdout",
     "output_type": "stream",
     "text": [
      "(5170, 12)\n",
      "(1293, 12)\n",
      "(5170,)\n",
      "(1293,)\n"
     ]
    }
   ],
   "source": [
    "#Splitting the dataset for training(80%) and testing(20%)\n",
    "\n",
    "from sklearn.model_selection import train_test_split\n",
    "X_train, X_test, y_train, y_test = train_test_split(X, y, test_size=0.2, random_state=1)\n",
    "print(X_train.shape)\n",
    "print(X_test.shape)\n",
    "print(y_train.shape)\n",
    "print(y_test.shape)"
   ]
  },
  {
   "cell_type": "code",
   "execution_count": 14,
   "metadata": {},
   "outputs": [
    {
     "name": "stdout",
     "output_type": "stream",
     "text": [
      "              precision    recall  f1-score   support\n",
      "\n",
      "           0       0.90      0.89      0.90      1037\n",
      "           1       0.58      0.60      0.59       256\n",
      "\n",
      "    accuracy                           0.84      1293\n",
      "   macro avg       0.74      0.75      0.74      1293\n",
      "weighted avg       0.84      0.84      0.84      1293\n",
      "\n",
      "0.16473317865429235\n"
     ]
    }
   ],
   "source": [
    "from sklearn.tree import DecisionTreeClassifier\n",
    "from sklearn.metrics import mean_absolute_error\n",
    "model = DecisionTreeClassifier()\n",
    "model.fit(X_train,y_train)\n",
    "base_preds = model.predict(X_test)\n",
    "from sklearn.metrics import classification_report,plot_confusion_matrix\n",
    "print(classification_report(y_test,base_preds))\n",
    "#Calculate Feature Importance\n",
    "pd.DataFrame(index=X.columns,data=model.feature_importances_,columns=['Feature Importance']).sort_values('Feature Importance',ascending=False)\n",
    "# get predicted prices on validation data using training data\n",
    "print(mean_absolute_error(y_test, base_preds))"
   ]
  },
  {
   "cell_type": "code",
   "execution_count": 15,
   "metadata": {},
   "outputs": [
    {
     "data": {
      "text/plain": [
       "<sklearn.metrics._plot.roc_curve.RocCurveDisplay at 0x2002f6e24f0>"
      ]
     },
     "execution_count": 15,
     "metadata": {},
     "output_type": "execute_result"
    },
    {
     "data": {
      "image/png": "[encoded data removed]",
      "text/plain": [
       "<Figure size 432x288 with 1 Axes>"
      ]
     },
     "metadata": {
      "needs_background": "light"
     },
     "output_type": "display_data"
    }
   ],
   "source": [
    "from sklearn.metrics import plot_precision_recall_curve,plot_roc_curve\n",
    "plot_roc_curve(model, X_test,y_test)"
   ]
  },
  {
   "cell_type": "markdown",
   "metadata": {},
   "source": [
    "UnderSample Method"
   ]
  },
  {
   "cell_type": "code",
   "execution_count": 16,
   "metadata": {},
   "outputs": [
    {
     "data": {
      "text/plain": [
       "0    5192\n",
       "1    1271\n",
       "Name: Target, dtype: int64"
      ]
     },
     "execution_count": 16,
     "metadata": {},
     "output_type": "execute_result"
    }
   ],
   "source": [
    "data['Target'].value_counts()"
   ]
  },
  {
   "cell_type": "code",
   "execution_count": 17,
   "metadata": {},
   "outputs": [],
   "source": [
    "#class count\n",
    "count_class_0, count_class_1 = data.Target.value_counts()\n",
    "\n",
    "#divide by class\n",
    "data_class_0 = data[data['Target']==0]\n",
    "data_class_1 = data[data['Target']==1]"
   ]
  },
  {
   "cell_type": "code",
   "execution_count": 18,
   "metadata": {},
   "outputs": [
    {
     "data": {
      "text/plain": [
       "(5192, 13)"
      ]
     },
     "execution_count": 18,
     "metadata": {},
     "output_type": "execute_result"
    }
   ],
   "source": [
    "data_class_0.shape"
   ]
  },
  {
   "cell_type": "code",
   "execution_count": 19,
   "metadata": {},
   "outputs": [
    {
     "data": {
      "text/plain": [
       "(1271, 13)"
      ]
     },
     "execution_count": 19,
     "metadata": {},
     "output_type": "execute_result"
    }
   ],
   "source": [
    "data_class_1.shape"
   ]
  },
  {
   "cell_type": "code",
   "execution_count": 20,
   "metadata": {},
   "outputs": [
    {
     "data": {
      "text/html": [
       "<div>\n",
       "<style scoped>\n",
       "    .dataframe tbody tr th:only-of-type {\n",
       "        vertical-align: middle;\n",
       "    }\n",
       "\n",
       "    .dataframe tbody tr th {\n",
       "        vertical-align: top;\n",
       "    }\n",
       "\n",
       "    .dataframe thead th {\n",
       "        text-align: right;\n",
       "    }\n",
       "</style>\n",
       "<table border=\"1\" class=\"dataframe\">\n",
       "  <thead>\n",
       "    <tr style=\"text-align: right;\">\n",
       "      <th></th>\n",
       "      <th>ComponentAge</th>\n",
       "      <th>MonthlyRunTime</th>\n",
       "      <th>FlowRate</th>\n",
       "      <th>MaxOutputRate</th>\n",
       "      <th>Sensor1</th>\n",
       "      <th>Sensor2</th>\n",
       "      <th>Sensor3</th>\n",
       "      <th>Sensor4</th>\n",
       "      <th>Sensor5</th>\n",
       "      <th>Sensor5.1</th>\n",
       "      <th>DaysSinceMaintenance</th>\n",
       "      <th>Target</th>\n",
       "      <th>Location A</th>\n",
       "    </tr>\n",
       "  </thead>\n",
       "  <tbody>\n",
       "    <tr>\n",
       "      <th>5084</th>\n",
       "      <td>0.57</td>\n",
       "      <td>10.0</td>\n",
       "      <td>0.99520</td>\n",
       "      <td>180.0</td>\n",
       "      <td>6.4</td>\n",
       "      <td>2.0</td>\n",
       "      <td>0.440</td>\n",
       "      <td>3.58</td>\n",
       "      <td>0.26</td>\n",
       "      <td>0.054</td>\n",
       "      <td>20.0</td>\n",
       "      <td>0</td>\n",
       "      <td>1</td>\n",
       "    </tr>\n",
       "    <tr>\n",
       "      <th>6008</th>\n",
       "      <td>0.76</td>\n",
       "      <td>11.3</td>\n",
       "      <td>0.99238</td>\n",
       "      <td>153.0</td>\n",
       "      <td>5.0</td>\n",
       "      <td>2.7</td>\n",
       "      <td>0.255</td>\n",
       "      <td>3.75</td>\n",
       "      <td>0.22</td>\n",
       "      <td>0.043</td>\n",
       "      <td>46.0</td>\n",
       "      <td>0</td>\n",
       "      <td>1</td>\n",
       "    </tr>\n",
       "    <tr>\n",
       "      <th>360</th>\n",
       "      <td>0.63</td>\n",
       "      <td>10.2</td>\n",
       "      <td>0.99940</td>\n",
       "      <td>62.0</td>\n",
       "      <td>10.0</td>\n",
       "      <td>2.2</td>\n",
       "      <td>0.590</td>\n",
       "      <td>3.18</td>\n",
       "      <td>0.31</td>\n",
       "      <td>0.090</td>\n",
       "      <td>26.0</td>\n",
       "      <td>0</td>\n",
       "      <td>0</td>\n",
       "    </tr>\n",
       "    <tr>\n",
       "      <th>1804</th>\n",
       "      <td>0.51</td>\n",
       "      <td>9.5</td>\n",
       "      <td>0.99592</td>\n",
       "      <td>183.0</td>\n",
       "      <td>6.3</td>\n",
       "      <td>11.2</td>\n",
       "      <td>0.280</td>\n",
       "      <td>3.12</td>\n",
       "      <td>0.47</td>\n",
       "      <td>0.040</td>\n",
       "      <td>61.0</td>\n",
       "      <td>0</td>\n",
       "      <td>1</td>\n",
       "    </tr>\n",
       "    <tr>\n",
       "      <th>5449</th>\n",
       "      <td>0.43</td>\n",
       "      <td>9.3</td>\n",
       "      <td>0.99610</td>\n",
       "      <td>202.0</td>\n",
       "      <td>6.7</td>\n",
       "      <td>8.0</td>\n",
       "      <td>0.270</td>\n",
       "      <td>3.22</td>\n",
       "      <td>0.25</td>\n",
       "      <td>0.053</td>\n",
       "      <td>54.0</td>\n",
       "      <td>0</td>\n",
       "      <td>1</td>\n",
       "    </tr>\n",
       "  </tbody>\n",
       "</table>\n",
       "</div>"
      ],
      "text/plain": [
       "      ComponentAge  MonthlyRunTime  FlowRate  MaxOutputRate  Sensor1  Sensor2  \\\n",
       "5084          0.57            10.0   0.99520          180.0      6.4      2.0   \n",
       "6008          0.76            11.3   0.99238          153.0      5.0      2.7   \n",
       "360           0.63            10.2   0.99940           62.0     10.0      2.2   \n",
       "1804          0.51             9.5   0.99592          183.0      6.3     11.2   \n",
       "5449          0.43             9.3   0.99610          202.0      6.7      8.0   \n",
       "\n",
       "      Sensor3  Sensor4  Sensor5  Sensor5.1  DaysSinceMaintenance  Target  \\\n",
       "5084    0.440     3.58     0.26      0.054                  20.0       0   \n",
       "6008    0.255     3.75     0.22      0.043                  46.0       0   \n",
       "360     0.590     3.18     0.31      0.090                  26.0       0   \n",
       "1804    0.280     3.12     0.47      0.040                  61.0       0   \n",
       "5449    0.270     3.22     0.25      0.053                  54.0       0   \n",
       "\n",
       "      Location A  \n",
       "5084           1  \n",
       "6008           1  \n",
       "360            0  \n",
       "1804           1  \n",
       "5449           1  "
      ]
     },
     "execution_count": 20,
     "metadata": {},
     "output_type": "execute_result"
    }
   ],
   "source": [
    "data_class_0_under = data_class_0.sample(count_class_1)\n",
    "\n",
    "data_concate_under = pd.concat([data_class_0_under, data_class_1], axis=0)\n",
    "\n",
    "data_concate_under['Target'].value_counts()\n",
    "\n",
    "data_concate_under.head()"
   ]
  },
  {
   "cell_type": "code",
   "execution_count": 21,
   "metadata": {},
   "outputs": [
    {
     "data": {
      "text/html": [
       "<div>\n",
       "<style scoped>\n",
       "    .dataframe tbody tr th:only-of-type {\n",
       "        vertical-align: middle;\n",
       "    }\n",
       "\n",
       "    .dataframe tbody tr th {\n",
       "        vertical-align: top;\n",
       "    }\n",
       "\n",
       "    .dataframe thead th {\n",
       "        text-align: right;\n",
       "    }\n",
       "</style>\n",
       "<table border=\"1\" class=\"dataframe\">\n",
       "  <thead>\n",
       "    <tr style=\"text-align: right;\">\n",
       "      <th></th>\n",
       "      <th>ComponentAge</th>\n",
       "      <th>MonthlyRunTime</th>\n",
       "      <th>FlowRate</th>\n",
       "      <th>MaxOutputRate</th>\n",
       "      <th>Sensor1</th>\n",
       "      <th>Sensor2</th>\n",
       "      <th>Sensor3</th>\n",
       "      <th>Sensor4</th>\n",
       "      <th>Sensor5</th>\n",
       "      <th>Sensor5.1</th>\n",
       "      <th>DaysSinceMaintenance</th>\n",
       "      <th>Target</th>\n",
       "      <th>Location A</th>\n",
       "    </tr>\n",
       "  </thead>\n",
       "  <tbody>\n",
       "    <tr>\n",
       "      <th>count</th>\n",
       "      <td>2542.000000</td>\n",
       "      <td>2542.000000</td>\n",
       "      <td>2542.000000</td>\n",
       "      <td>2542.000000</td>\n",
       "      <td>2542.000000</td>\n",
       "      <td>2542.000000</td>\n",
       "      <td>2542.000000</td>\n",
       "      <td>2542.000000</td>\n",
       "      <td>2542.000000</td>\n",
       "      <td>2542.000000</td>\n",
       "      <td>2542.000000</td>\n",
       "      <td>2542.000000</td>\n",
       "      <td>2542.000000</td>\n",
       "    </tr>\n",
       "    <tr>\n",
       "      <th>mean</th>\n",
       "      <td>0.534949</td>\n",
       "      <td>10.842709</td>\n",
       "      <td>0.994050</td>\n",
       "      <td>112.882966</td>\n",
       "      <td>7.150393</td>\n",
       "      <td>5.195909</td>\n",
       "      <td>0.318269</td>\n",
       "      <td>3.222935</td>\n",
       "      <td>0.320519</td>\n",
       "      <td>0.051723</td>\n",
       "      <td>30.790519</td>\n",
       "      <td>0.500000</td>\n",
       "      <td>0.782455</td>\n",
       "    </tr>\n",
       "    <tr>\n",
       "      <th>std</th>\n",
       "      <td>0.153664</td>\n",
       "      <td>1.286099</td>\n",
       "      <td>0.003097</td>\n",
       "      <td>52.690958</td>\n",
       "      <td>1.311635</td>\n",
       "      <td>4.472148</td>\n",
       "      <td>0.146780</td>\n",
       "      <td>0.160363</td>\n",
       "      <td>0.134197</td>\n",
       "      <td>0.030159</td>\n",
       "      <td>16.710380</td>\n",
       "      <td>0.500098</td>\n",
       "      <td>0.412658</td>\n",
       "    </tr>\n",
       "    <tr>\n",
       "      <th>min</th>\n",
       "      <td>0.220000</td>\n",
       "      <td>8.400000</td>\n",
       "      <td>0.987110</td>\n",
       "      <td>6.000000</td>\n",
       "      <td>3.800000</td>\n",
       "      <td>0.600000</td>\n",
       "      <td>0.080000</td>\n",
       "      <td>2.790000</td>\n",
       "      <td>0.000000</td>\n",
       "      <td>0.012000</td>\n",
       "      <td>1.000000</td>\n",
       "      <td>0.000000</td>\n",
       "      <td>0.000000</td>\n",
       "    </tr>\n",
       "    <tr>\n",
       "      <th>25%</th>\n",
       "      <td>0.430000</td>\n",
       "      <td>9.700000</td>\n",
       "      <td>0.991465</td>\n",
       "      <td>83.000000</td>\n",
       "      <td>6.400000</td>\n",
       "      <td>1.800000</td>\n",
       "      <td>0.220000</td>\n",
       "      <td>3.120000</td>\n",
       "      <td>0.260000</td>\n",
       "      <td>0.035000</td>\n",
       "      <td>18.000000</td>\n",
       "      <td>0.000000</td>\n",
       "      <td>1.000000</td>\n",
       "    </tr>\n",
       "    <tr>\n",
       "      <th>50%</th>\n",
       "      <td>0.510000</td>\n",
       "      <td>10.800000</td>\n",
       "      <td>0.993820</td>\n",
       "      <td>116.000000</td>\n",
       "      <td>6.900000</td>\n",
       "      <td>3.050000</td>\n",
       "      <td>0.280000</td>\n",
       "      <td>3.210000</td>\n",
       "      <td>0.310000</td>\n",
       "      <td>0.044000</td>\n",
       "      <td>29.000000</td>\n",
       "      <td>0.500000</td>\n",
       "      <td>1.000000</td>\n",
       "    </tr>\n",
       "    <tr>\n",
       "      <th>75%</th>\n",
       "      <td>0.610000</td>\n",
       "      <td>11.900000</td>\n",
       "      <td>0.996500</td>\n",
       "      <td>149.000000</td>\n",
       "      <td>7.600000</td>\n",
       "      <td>7.600000</td>\n",
       "      <td>0.370000</td>\n",
       "      <td>3.330000</td>\n",
       "      <td>0.390000</td>\n",
       "      <td>0.058000</td>\n",
       "      <td>41.000000</td>\n",
       "      <td>1.000000</td>\n",
       "      <td>1.000000</td>\n",
       "    </tr>\n",
       "    <tr>\n",
       "      <th>max</th>\n",
       "      <td>1.360000</td>\n",
       "      <td>14.200000</td>\n",
       "      <td>1.010300</td>\n",
       "      <td>303.000000</td>\n",
       "      <td>15.600000</td>\n",
       "      <td>31.600000</td>\n",
       "      <td>1.240000</td>\n",
       "      <td>3.900000</td>\n",
       "      <td>1.660000</td>\n",
       "      <td>0.415000</td>\n",
       "      <td>138.500000</td>\n",
       "      <td>1.000000</td>\n",
       "      <td>1.000000</td>\n",
       "    </tr>\n",
       "  </tbody>\n",
       "</table>\n",
       "</div>"
      ],
      "text/plain": [
       "       ComponentAge  MonthlyRunTime     FlowRate  MaxOutputRate      Sensor1  \\\n",
       "count   2542.000000     2542.000000  2542.000000    2542.000000  2542.000000   \n",
       "mean       0.534949       10.842709     0.994050     112.882966     7.150393   \n",
       "std        0.153664        1.286099     0.003097      52.690958     1.311635   \n",
       "min        0.220000        8.400000     0.987110       6.000000     3.800000   \n",
       "25%        0.430000        9.700000     0.991465      83.000000     6.400000   \n",
       "50%        0.510000       10.800000     0.993820     116.000000     6.900000   \n",
       "75%        0.610000       11.900000     0.996500     149.000000     7.600000   \n",
       "max        1.360000       14.200000     1.010300     303.000000    15.600000   \n",
       "\n",
       "           Sensor2      Sensor3      Sensor4      Sensor5    Sensor5.1  \\\n",
       "count  2542.000000  2542.000000  2542.000000  2542.000000  2542.000000   \n",
       "mean      5.195909     0.318269     3.222935     0.320519     0.051723   \n",
       "std       4.472148     0.146780     0.160363     0.134197     0.030159   \n",
       "min       0.600000     0.080000     2.790000     0.000000     0.012000   \n",
       "25%       1.800000     0.220000     3.120000     0.260000     0.035000   \n",
       "50%       3.050000     0.280000     3.210000     0.310000     0.044000   \n",
       "75%       7.600000     0.370000     3.330000     0.390000     0.058000   \n",
       "max      31.600000     1.240000     3.900000     1.660000     0.415000   \n",
       "\n",
       "       DaysSinceMaintenance       Target   Location A  \n",
       "count           2542.000000  2542.000000  2542.000000  \n",
       "mean              30.790519     0.500000     0.782455  \n",
       "std               16.710380     0.500098     0.412658  \n",
       "min                1.000000     0.000000     0.000000  \n",
       "25%               18.000000     0.000000     1.000000  \n",
       "50%               29.000000     0.500000     1.000000  \n",
       "75%               41.000000     1.000000     1.000000  \n",
       "max              138.500000     1.000000     1.000000  "
      ]
     },
     "execution_count": 21,
     "metadata": {},
     "output_type": "execute_result"
    }
   ],
   "source": [
    "data_concate_under.describe()"
   ]
  },
  {
   "cell_type": "code",
   "execution_count": 22,
   "metadata": {},
   "outputs": [
    {
     "name": "stdout",
     "output_type": "stream",
     "text": [
      "(2033, 12)\n",
      "(509, 12)\n",
      "(2033,)\n",
      "(509,)\n"
     ]
    }
   ],
   "source": [
    "X = data_concate_under.drop('Target', axis=1)\n",
    "y = data_concate_under['Target']\n",
    "\n",
    "from sklearn.model_selection import train_test_split\n",
    "\n",
    "X_train, X_test, y_train, y_test = train_test_split(X, y, test_size=0.2, random_state=1)\n",
    "print(X_train.shape)\n",
    "print(X_test.shape)\n",
    "print(y_train.shape)\n",
    "print(y_test.shape)"
   ]
  },
  {
   "cell_type": "code",
   "execution_count": 23,
   "metadata": {},
   "outputs": [
    {
     "name": "stdout",
     "output_type": "stream",
     "text": [
      "              precision    recall  f1-score   support\n",
      "\n",
      "           0       0.77      0.71      0.74       258\n",
      "           1       0.72      0.79      0.75       251\n",
      "\n",
      "    accuracy                           0.75       509\n",
      "   macro avg       0.75      0.75      0.75       509\n",
      "weighted avg       0.75      0.75      0.75       509\n",
      "\n",
      "0.25343811394891946\n"
     ]
    }
   ],
   "source": [
    "from sklearn.tree import DecisionTreeClassifier\n",
    "model = DecisionTreeClassifier()\n",
    "model.fit(X_train,y_train)\n",
    "base_preds = model.predict(X_test)\n",
    "from sklearn.metrics import classification_report,plot_confusion_matrix\n",
    "print(classification_report(y_test,base_preds))\n",
    "# get predicted prices on validation data using training data\n",
    "print(mean_absolute_error(y_test, base_preds))"
   ]
  },
  {
   "cell_type": "code",
   "execution_count": 24,
   "metadata": {},
   "outputs": [
    {
     "data": {
      "text/html": [
       "<div>\n",
       "<style scoped>\n",
       "    .dataframe tbody tr th:only-of-type {\n",
       "        vertical-align: middle;\n",
       "    }\n",
       "\n",
       "    .dataframe tbody tr th {\n",
       "        vertical-align: top;\n",
       "    }\n",
       "\n",
       "    .dataframe thead th {\n",
       "        text-align: right;\n",
       "    }\n",
       "</style>\n",
       "<table border=\"1\" class=\"dataframe\">\n",
       "  <thead>\n",
       "    <tr style=\"text-align: right;\">\n",
       "      <th></th>\n",
       "      <th>Feature Importance</th>\n",
       "    </tr>\n",
       "  </thead>\n",
       "  <tbody>\n",
       "    <tr>\n",
       "      <th>MonthlyRunTime</th>\n",
       "      <td>0.281912</td>\n",
       "    </tr>\n",
       "    <tr>\n",
       "      <th>Sensor3</th>\n",
       "      <td>0.107583</td>\n",
       "    </tr>\n",
       "    <tr>\n",
       "      <th>Sensor2</th>\n",
       "      <td>0.097346</td>\n",
       "    </tr>\n",
       "    <tr>\n",
       "      <th>MaxOutputRate</th>\n",
       "      <td>0.074591</td>\n",
       "    </tr>\n",
       "    <tr>\n",
       "      <th>FlowRate</th>\n",
       "      <td>0.073835</td>\n",
       "    </tr>\n",
       "    <tr>\n",
       "      <th>Sensor5.1</th>\n",
       "      <td>0.071399</td>\n",
       "    </tr>\n",
       "    <tr>\n",
       "      <th>Sensor4</th>\n",
       "      <td>0.069556</td>\n",
       "    </tr>\n",
       "    <tr>\n",
       "      <th>Sensor1</th>\n",
       "      <td>0.066501</td>\n",
       "    </tr>\n",
       "    <tr>\n",
       "      <th>Sensor5</th>\n",
       "      <td>0.059959</td>\n",
       "    </tr>\n",
       "    <tr>\n",
       "      <th>ComponentAge</th>\n",
       "      <td>0.051140</td>\n",
       "    </tr>\n",
       "    <tr>\n",
       "      <th>DaysSinceMaintenance</th>\n",
       "      <td>0.046177</td>\n",
       "    </tr>\n",
       "    <tr>\n",
       "      <th>Location A</th>\n",
       "      <td>0.000000</td>\n",
       "    </tr>\n",
       "  </tbody>\n",
       "</table>\n",
       "</div>"
      ],
      "text/plain": [
       "                      Feature Importance\n",
       "MonthlyRunTime                  0.281912\n",
       "Sensor3                         0.107583\n",
       "Sensor2                         0.097346\n",
       "MaxOutputRate                   0.074591\n",
       "FlowRate                        0.073835\n",
       "Sensor5.1                       0.071399\n",
       "Sensor4                         0.069556\n",
       "Sensor1                         0.066501\n",
       "Sensor5                         0.059959\n",
       "ComponentAge                    0.051140\n",
       "DaysSinceMaintenance            0.046177\n",
       "Location A                      0.000000"
      ]
     },
     "execution_count": 24,
     "metadata": {},
     "output_type": "execute_result"
    }
   ],
   "source": [
    "#Calculate Feature Importance\n",
    "pd.DataFrame(index=X.columns,data=model.feature_importances_,columns=['Feature Importance']).sort_values('Feature Importance',ascending=False)"
   ]
  },
  {
   "cell_type": "code",
   "execution_count": 25,
   "metadata": {},
   "outputs": [
    {
     "data": {
      "text/plain": [
       "<sklearn.metrics._plot.roc_curve.RocCurveDisplay at 0x2002f763d60>"
      ]
     },
     "execution_count": 25,
     "metadata": {},
     "output_type": "execute_result"
    },
    {
     "data": {
      "image/png": "[encoded data removed]",
      "text/plain": [
       "<Figure size 432x288 with 1 Axes>"
      ]
     },
     "metadata": {
      "needs_background": "light"
     },
     "output_type": "display_data"
    }
   ],
   "source": [
    "from sklearn.metrics import plot_precision_recall_curve,plot_roc_curve\n",
    "plot_roc_curve(model, X_test,y_test)"
   ]
  },
  {
   "cell_type": "markdown",
   "metadata": {},
   "source": [
    "Method 2: Oversample"
   ]
  },
  {
   "cell_type": "code",
   "execution_count": 26,
   "metadata": {},
   "outputs": [
    {
     "data": {
      "text/plain": [
       "(5192, 1271)"
      ]
     },
     "execution_count": 26,
     "metadata": {},
     "output_type": "execute_result"
    }
   ],
   "source": [
    "count_class_0, count_class_1"
   ]
  },
  {
   "cell_type": "code",
   "execution_count": 27,
   "metadata": {},
   "outputs": [],
   "source": [
    "data_class_1_over = data_class_1.sample(count_class_0, replace=True)\n",
    "\n",
    "data_class_over = pd.concat([data_class_1_over, data_class_0],axis=0)"
   ]
  },
  {
   "cell_type": "code",
   "execution_count": 28,
   "metadata": {},
   "outputs": [
    {
     "name": "stdout",
     "output_type": "stream",
     "text": [
      "(8307, 12)\n",
      "(2077, 12)\n",
      "(8307,)\n",
      "(2077,)\n"
     ]
    }
   ],
   "source": [
    "X = data_class_over.drop('Target', axis=1)\n",
    "y = data_class_over['Target']\n",
    "\n",
    "from sklearn.model_selection import train_test_split\n",
    "\n",
    "X_train, X_test, y_train, y_test = train_test_split(X, y, test_size=0.2, random_state=1)\n",
    "print(X_train.shape)\n",
    "print(X_test.shape)\n",
    "print(y_train.shape)\n",
    "print(y_test.shape)"
   ]
  },
  {
   "cell_type": "code",
   "execution_count": 29,
   "metadata": {},
   "outputs": [
    {
     "data": {
      "text/html": [
       "<div>\n",
       "<style scoped>\n",
       "    .dataframe tbody tr th:only-of-type {\n",
       "        vertical-align: middle;\n",
       "    }\n",
       "\n",
       "    .dataframe tbody tr th {\n",
       "        vertical-align: top;\n",
       "    }\n",
       "\n",
       "    .dataframe thead th {\n",
       "        text-align: right;\n",
       "    }\n",
       "</style>\n",
       "<table border=\"1\" class=\"dataframe\">\n",
       "  <thead>\n",
       "    <tr style=\"text-align: right;\">\n",
       "      <th></th>\n",
       "      <th>ComponentAge</th>\n",
       "      <th>MonthlyRunTime</th>\n",
       "      <th>FlowRate</th>\n",
       "      <th>MaxOutputRate</th>\n",
       "      <th>Sensor1</th>\n",
       "      <th>Sensor2</th>\n",
       "      <th>Sensor3</th>\n",
       "      <th>Sensor4</th>\n",
       "      <th>Sensor5</th>\n",
       "      <th>Sensor5.1</th>\n",
       "      <th>DaysSinceMaintenance</th>\n",
       "      <th>Target</th>\n",
       "      <th>Location A</th>\n",
       "    </tr>\n",
       "  </thead>\n",
       "  <tbody>\n",
       "    <tr>\n",
       "      <th>count</th>\n",
       "      <td>10384.000000</td>\n",
       "      <td>10384.000000</td>\n",
       "      <td>10384.000000</td>\n",
       "      <td>10384.000000</td>\n",
       "      <td>10384.000000</td>\n",
       "      <td>10384.000000</td>\n",
       "      <td>10384.000000</td>\n",
       "      <td>10384.000000</td>\n",
       "      <td>10384.000000</td>\n",
       "      <td>10384.000000</td>\n",
       "      <td>10384.000000</td>\n",
       "      <td>10384.000000</td>\n",
       "      <td>10384.000000</td>\n",
       "    </tr>\n",
       "    <tr>\n",
       "      <th>mean</th>\n",
       "      <td>0.534567</td>\n",
       "      <td>10.852546</td>\n",
       "      <td>0.994053</td>\n",
       "      <td>113.560767</td>\n",
       "      <td>7.160598</td>\n",
       "      <td>5.215413</td>\n",
       "      <td>0.320167</td>\n",
       "      <td>3.222261</td>\n",
       "      <td>0.324336</td>\n",
       "      <td>0.051616</td>\n",
       "      <td>30.640071</td>\n",
       "      <td>0.500000</td>\n",
       "      <td>0.784958</td>\n",
       "    </tr>\n",
       "    <tr>\n",
       "      <th>std</th>\n",
       "      <td>0.153401</td>\n",
       "      <td>1.286784</td>\n",
       "      <td>0.003110</td>\n",
       "      <td>52.852894</td>\n",
       "      <td>1.304258</td>\n",
       "      <td>4.527865</td>\n",
       "      <td>0.150539</td>\n",
       "      <td>0.160453</td>\n",
       "      <td>0.132650</td>\n",
       "      <td>0.030960</td>\n",
       "      <td>16.696778</td>\n",
       "      <td>0.500024</td>\n",
       "      <td>0.410872</td>\n",
       "    </tr>\n",
       "    <tr>\n",
       "      <th>min</th>\n",
       "      <td>0.220000</td>\n",
       "      <td>8.000000</td>\n",
       "      <td>0.987110</td>\n",
       "      <td>6.000000</td>\n",
       "      <td>3.800000</td>\n",
       "      <td>0.600000</td>\n",
       "      <td>0.080000</td>\n",
       "      <td>2.720000</td>\n",
       "      <td>0.000000</td>\n",
       "      <td>0.009000</td>\n",
       "      <td>1.000000</td>\n",
       "      <td>0.000000</td>\n",
       "      <td>0.000000</td>\n",
       "    </tr>\n",
       "    <tr>\n",
       "      <th>25%</th>\n",
       "      <td>0.430000</td>\n",
       "      <td>9.700000</td>\n",
       "      <td>0.991455</td>\n",
       "      <td>83.000000</td>\n",
       "      <td>6.400000</td>\n",
       "      <td>1.800000</td>\n",
       "      <td>0.220000</td>\n",
       "      <td>3.110000</td>\n",
       "      <td>0.260000</td>\n",
       "      <td>0.035000</td>\n",
       "      <td>18.000000</td>\n",
       "      <td>0.000000</td>\n",
       "      <td>1.000000</td>\n",
       "    </tr>\n",
       "    <tr>\n",
       "      <th>50%</th>\n",
       "      <td>0.510000</td>\n",
       "      <td>10.800000</td>\n",
       "      <td>0.993820</td>\n",
       "      <td>116.000000</td>\n",
       "      <td>6.900000</td>\n",
       "      <td>2.950000</td>\n",
       "      <td>0.280000</td>\n",
       "      <td>3.210000</td>\n",
       "      <td>0.320000</td>\n",
       "      <td>0.044000</td>\n",
       "      <td>29.000000</td>\n",
       "      <td>0.500000</td>\n",
       "      <td>1.000000</td>\n",
       "    </tr>\n",
       "    <tr>\n",
       "      <th>75%</th>\n",
       "      <td>0.610000</td>\n",
       "      <td>11.900000</td>\n",
       "      <td>0.996500</td>\n",
       "      <td>149.000000</td>\n",
       "      <td>7.600000</td>\n",
       "      <td>7.600000</td>\n",
       "      <td>0.380000</td>\n",
       "      <td>3.330000</td>\n",
       "      <td>0.390000</td>\n",
       "      <td>0.058000</td>\n",
       "      <td>41.000000</td>\n",
       "      <td>1.000000</td>\n",
       "      <td>1.000000</td>\n",
       "    </tr>\n",
       "    <tr>\n",
       "      <th>max</th>\n",
       "      <td>2.000000</td>\n",
       "      <td>14.900000</td>\n",
       "      <td>1.038980</td>\n",
       "      <td>440.000000</td>\n",
       "      <td>15.900000</td>\n",
       "      <td>65.800000</td>\n",
       "      <td>1.580000</td>\n",
       "      <td>4.010000</td>\n",
       "      <td>1.660000</td>\n",
       "      <td>0.611000</td>\n",
       "      <td>289.000000</td>\n",
       "      <td>1.000000</td>\n",
       "      <td>1.000000</td>\n",
       "    </tr>\n",
       "  </tbody>\n",
       "</table>\n",
       "</div>"
      ],
      "text/plain": [
       "       ComponentAge  MonthlyRunTime      FlowRate  MaxOutputRate  \\\n",
       "count  10384.000000    10384.000000  10384.000000   10384.000000   \n",
       "mean       0.534567       10.852546      0.994053     113.560767   \n",
       "std        0.153401        1.286784      0.003110      52.852894   \n",
       "min        0.220000        8.000000      0.987110       6.000000   \n",
       "25%        0.430000        9.700000      0.991455      83.000000   \n",
       "50%        0.510000       10.800000      0.993820     116.000000   \n",
       "75%        0.610000       11.900000      0.996500     149.000000   \n",
       "max        2.000000       14.900000      1.038980     440.000000   \n",
       "\n",
       "            Sensor1       Sensor2       Sensor3       Sensor4       Sensor5  \\\n",
       "count  10384.000000  10384.000000  10384.000000  10384.000000  10384.000000   \n",
       "mean       7.160598      5.215413      0.320167      3.222261      0.324336   \n",
       "std        1.304258      4.527865      0.150539      0.160453      0.132650   \n",
       "min        3.800000      0.600000      0.080000      2.720000      0.000000   \n",
       "25%        6.400000      1.800000      0.220000      3.110000      0.260000   \n",
       "50%        6.900000      2.950000      0.280000      3.210000      0.320000   \n",
       "75%        7.600000      7.600000      0.380000      3.330000      0.390000   \n",
       "max       15.900000     65.800000      1.580000      4.010000      1.660000   \n",
       "\n",
       "          Sensor5.1  DaysSinceMaintenance        Target    Location A  \n",
       "count  10384.000000          10384.000000  10384.000000  10384.000000  \n",
       "mean       0.051616             30.640071      0.500000      0.784958  \n",
       "std        0.030960             16.696778      0.500024      0.410872  \n",
       "min        0.009000              1.000000      0.000000      0.000000  \n",
       "25%        0.035000             18.000000      0.000000      1.000000  \n",
       "50%        0.044000             29.000000      0.500000      1.000000  \n",
       "75%        0.058000             41.000000      1.000000      1.000000  \n",
       "max        0.611000            289.000000      1.000000      1.000000  "
      ]
     },
     "execution_count": 29,
     "metadata": {},
     "output_type": "execute_result"
    }
   ],
   "source": [
    "data_class_over.describe()"
   ]
  },
  {
   "cell_type": "code",
   "execution_count": 30,
   "metadata": {},
   "outputs": [
    {
     "name": "stdout",
     "output_type": "stream",
     "text": [
      "              precision    recall  f1-score   support\n",
      "\n",
      "           0       0.99      0.89      0.94      1010\n",
      "           1       0.90      0.99      0.95      1067\n",
      "\n",
      "    accuracy                           0.94      2077\n",
      "   macro avg       0.95      0.94      0.94      2077\n",
      "weighted avg       0.95      0.94      0.94      2077\n",
      "\n",
      "0.058738565238324505\n"
     ]
    }
   ],
   "source": [
    "from sklearn.tree import DecisionTreeClassifier\n",
    "model = DecisionTreeClassifier()\n",
    "model.fit(X_train,y_train)\n",
    "base_preds = model.predict(X_test)\n",
    "from sklearn.metrics import classification_report,plot_confusion_matrix\n",
    "print(classification_report(y_test,base_preds))\n",
    "# get predicted prices on validation data using training data\n",
    "print(mean_absolute_error(y_test, base_preds))"
   ]
  },
  {
   "cell_type": "code",
   "execution_count": 31,
   "metadata": {},
   "outputs": [
    {
     "data": {
      "text/html": [
       "<div>\n",
       "<style scoped>\n",
       "    .dataframe tbody tr th:only-of-type {\n",
       "        vertical-align: middle;\n",
       "    }\n",
       "\n",
       "    .dataframe tbody tr th {\n",
       "        vertical-align: top;\n",
       "    }\n",
       "\n",
       "    .dataframe thead th {\n",
       "        text-align: right;\n",
       "    }\n",
       "</style>\n",
       "<table border=\"1\" class=\"dataframe\">\n",
       "  <thead>\n",
       "    <tr style=\"text-align: right;\">\n",
       "      <th></th>\n",
       "      <th>Feature Importance</th>\n",
       "    </tr>\n",
       "  </thead>\n",
       "  <tbody>\n",
       "    <tr>\n",
       "      <th>MonthlyRunTime</th>\n",
       "      <td>0.286168</td>\n",
       "    </tr>\n",
       "    <tr>\n",
       "      <th>Sensor3</th>\n",
       "      <td>0.096381</td>\n",
       "    </tr>\n",
       "    <tr>\n",
       "      <th>Sensor2</th>\n",
       "      <td>0.093630</td>\n",
       "    </tr>\n",
       "    <tr>\n",
       "      <th>MaxOutputRate</th>\n",
       "      <td>0.081679</td>\n",
       "    </tr>\n",
       "    <tr>\n",
       "      <th>Sensor4</th>\n",
       "      <td>0.071168</td>\n",
       "    </tr>\n",
       "    <tr>\n",
       "      <th>Sensor5</th>\n",
       "      <td>0.066839</td>\n",
       "    </tr>\n",
       "    <tr>\n",
       "      <th>FlowRate</th>\n",
       "      <td>0.063828</td>\n",
       "    </tr>\n",
       "    <tr>\n",
       "      <th>DaysSinceMaintenance</th>\n",
       "      <td>0.063125</td>\n",
       "    </tr>\n",
       "    <tr>\n",
       "      <th>ComponentAge</th>\n",
       "      <td>0.060915</td>\n",
       "    </tr>\n",
       "    <tr>\n",
       "      <th>Sensor1</th>\n",
       "      <td>0.058370</td>\n",
       "    </tr>\n",
       "    <tr>\n",
       "      <th>Sensor5.1</th>\n",
       "      <td>0.057898</td>\n",
       "    </tr>\n",
       "    <tr>\n",
       "      <th>Location A</th>\n",
       "      <td>0.000000</td>\n",
       "    </tr>\n",
       "  </tbody>\n",
       "</table>\n",
       "</div>"
      ],
      "text/plain": [
       "                      Feature Importance\n",
       "MonthlyRunTime                  0.286168\n",
       "Sensor3                         0.096381\n",
       "Sensor2                         0.093630\n",
       "MaxOutputRate                   0.081679\n",
       "Sensor4                         0.071168\n",
       "Sensor5                         0.066839\n",
       "FlowRate                        0.063828\n",
       "DaysSinceMaintenance            0.063125\n",
       "ComponentAge                    0.060915\n",
       "Sensor1                         0.058370\n",
       "Sensor5.1                       0.057898\n",
       "Location A                      0.000000"
      ]
     },
     "execution_count": 31,
     "metadata": {},
     "output_type": "execute_result"
    }
   ],
   "source": [
    "#Calculate Feature Importance\n",
    "pd.DataFrame(index=X.columns,data=model.feature_importances_,columns=['Feature Importance']).sort_values('Feature Importance',ascending=False)"
   ]
  },
  {
   "cell_type": "code",
   "execution_count": 32,
   "metadata": {},
   "outputs": [
    {
     "data": {
      "text/plain": [
       "<sklearn.metrics._plot.roc_curve.RocCurveDisplay at 0x20028a08ee0>"
      ]
     },
     "execution_count": 32,
     "metadata": {},
     "output_type": "execute_result"
    },
    {
     "data": {
      "image/png": "[encoded data removed]",
      "text/plain": [
       "<Figure size 432x288 with 1 Axes>"
      ]
     },
     "metadata": {
      "needs_background": "light"
     },
     "output_type": "display_data"
    }
   ],
   "source": [
    "from sklearn.metrics import plot_precision_recall_curve,plot_roc_curve\n",
    "plot_roc_curve(model, X_test,y_test)"
   ]
  },
  {
   "cell_type": "code",
   "execution_count": 52,
   "metadata": {},
   "outputs": [
    {
     "name": "stdout",
     "output_type": "stream",
     "text": [
      "Random Forest score :  0.9619643716899374\n",
      "Mean Square Error:  0.03803562831006259\n"
     ]
    }
   ],
   "source": [
    "from sklearn.ensemble import RandomForestClassifier\n",
    "from sklearn.metrics import mean_absolute_error, accuracy_score\n",
    "\n",
    "model_rf = RandomForestClassifier(n_estimators=10)\n",
    "model_rf.fit(X_train,y_train)\n",
    "base_preds = model_rf.predict(X_test)\n",
    "\n",
    "# get predicted prices on validation data using training data\n",
    "print(\"Random Forest score : \", model_rf.score(X_test, y_test))\n",
    "print(\"Mean Square Error: \", mean_absolute_error(y_test, base_preds))"
   ]
  },
  {
   "cell_type": "code",
   "execution_count": 53,
   "metadata": {},
   "outputs": [
    {
     "name": "stdout",
     "output_type": "stream",
     "text": [
      "              precision    recall  f1-score   support\n",
      "\n",
      "           0       0.98      0.94      0.96      1010\n",
      "           1       0.94      0.98      0.96      1067\n",
      "\n",
      "    accuracy                           0.96      2077\n",
      "   macro avg       0.96      0.96      0.96      2077\n",
      "weighted avg       0.96      0.96      0.96      2077\n",
      "\n"
     ]
    },
    {
     "data": {
      "text/plain": [
       "<sklearn.metrics._plot.roc_curve.RocCurveDisplay at 0x2002e55da30>"
      ]
     },
     "execution_count": 53,
     "metadata": {},
     "output_type": "execute_result"
    },
    {
     "data": {
      "image/png": "[encoded data removed]",
      "text/plain": [
       "<Figure size 432x288 with 1 Axes>"
      ]
     },
     "metadata": {
      "needs_background": "light"
     },
     "output_type": "display_data"
    }
   ],
   "source": [
    "print(classification_report(y_test,base_preds))\n",
    "\n",
    "from sklearn.metrics import plot_precision_recall_curve,plot_roc_curve\n",
    "plot_roc_curve(model_rf, X_test,y_test)"
   ]
  },
  {
   "cell_type": "code",
   "execution_count": 60,
   "metadata": {},
   "outputs": [
    {
     "name": "stdout",
     "output_type": "stream",
     "text": [
      "Logistic Regression score :  0.7188252286952335\n",
      "Mean Square Error:  0.2811747713047665\n"
     ]
    },
    {
     "name": "stderr",
     "output_type": "stream",
     "text": [
      "C:\\Users\\olowe_m\\Anaconda3\\lib\\site-packages\\sklearn\\linear_model\\_logistic.py:763: ConvergenceWarning: lbfgs failed to converge (status=1):\n",
      "STOP: TOTAL NO. of ITERATIONS REACHED LIMIT.\n",
      "\n",
      "Increase the number of iterations (max_iter) or scale the data as shown in:\n",
      "    https://scikit-learn.org/stable/modules/preprocessing.html\n",
      "Please also refer to the documentation for alternative solver options:\n",
      "    https://scikit-learn.org/stable/modules/linear_model.html#logistic-regression\n",
      "  n_iter_i = _check_optimize_result(\n"
     ]
    }
   ],
   "source": [
    "from sklearn.linear_model import LogisticRegression\n",
    "from sklearn.metrics import mean_absolute_error, accuracy_score\n",
    "\n",
    "model_lr = LogisticRegression()\n",
    "model_lr.fit(X_train,y_train)\n",
    "base_preds = model_lr.predict(X_test)\n",
    "\n",
    "# get predicted prices on validation data using training data\n",
    "print(\"Logistic Regression score : \", model_lr.score(X_test, y_test))\n",
    "print(\"Mean Square Error: \", mean_absolute_error(y_test, base_preds))"
   ]
  },
  {
   "cell_type": "code",
   "execution_count": 55,
   "metadata": {},
   "outputs": [
    {
     "name": "stdout",
     "output_type": "stream",
     "text": [
      "              precision    recall  f1-score   support\n",
      "\n",
      "           0       0.72      0.69      0.71      1010\n",
      "           1       0.72      0.75      0.73      1067\n",
      "\n",
      "    accuracy                           0.72      2077\n",
      "   macro avg       0.72      0.72      0.72      2077\n",
      "weighted avg       0.72      0.72      0.72      2077\n",
      "\n"
     ]
    },
    {
     "data": {
      "text/plain": [
       "<sklearn.metrics._plot.roc_curve.RocCurveDisplay at 0x2002f6d2d30>"
      ]
     },
     "execution_count": 55,
     "metadata": {},
     "output_type": "execute_result"
    },
    {
     "data": {
      "image/png": "[encoded data removed]",
      "text/plain": [
       "<Figure size 432x288 with 1 Axes>"
      ]
     },
     "metadata": {
      "needs_background": "light"
     },
     "output_type": "display_data"
    }
   ],
   "source": [
    "print(classification_report(y_test,base_preds))\n",
    "\n",
    "from sklearn.metrics import plot_precision_recall_curve,plot_roc_curve\n",
    "plot_roc_curve(model_lr, X_test,y_test)"
   ]
  },
  {
   "cell_type": "code",
   "execution_count": 56,
   "metadata": {},
   "outputs": [
    {
     "name": "stdout",
     "output_type": "stream",
     "text": [
      "Naive Bayes score :  0.6104959075589793\n",
      "Mean Square Error:  0.3895040924410207\n"
     ]
    }
   ],
   "source": [
    "from sklearn.naive_bayes import MultinomialNB\n",
    "\n",
    "from sklearn.metrics import mean_absolute_error, accuracy_score\n",
    "\n",
    "model_nb = MultinomialNB()\n",
    "model_nb.fit(X_train,y_train)\n",
    "base_preds = model_nb.predict(X_test)\n",
    "\n",
    "# get predicted prices on validation data using training data\n",
    "print(\"Naive Bayes score : \", model_nb.score(X_test, y_test))\n",
    "print(\"Mean Square Error: \", mean_absolute_error(y_test, base_preds))"
   ]
  },
  {
   "cell_type": "code",
   "execution_count": 57,
   "metadata": {},
   "outputs": [
    {
     "name": "stdout",
     "output_type": "stream",
     "text": [
      "              precision    recall  f1-score   support\n",
      "\n",
      "           0       0.60      0.57      0.59      1010\n",
      "           1       0.62      0.64      0.63      1067\n",
      "\n",
      "    accuracy                           0.61      2077\n",
      "   macro avg       0.61      0.61      0.61      2077\n",
      "weighted avg       0.61      0.61      0.61      2077\n",
      "\n"
     ]
    },
    {
     "data": {
      "text/plain": [
       "<sklearn.metrics._plot.roc_curve.RocCurveDisplay at 0x2002e36da30>"
      ]
     },
     "execution_count": 57,
     "metadata": {},
     "output_type": "execute_result"
    },
    {
     "data": {
      "image/png": "[encoded data removed]",
      "text/plain": [
       "<Figure size 432x288 with 1 Axes>"
      ]
     },
     "metadata": {
      "needs_background": "light"
     },
     "output_type": "display_data"
    }
   ],
   "source": [
    "print(classification_report(y_test,base_preds))\n",
    "\n",
    "from sklearn.metrics import plot_precision_recall_curve,plot_roc_curve\n",
    "plot_roc_curve(model_nb, X_test,y_test)"
   ]
  },
  {
   "cell_type": "code",
   "execution_count": 58,
   "metadata": {},
   "outputs": [
    {
     "name": "stdout",
     "output_type": "stream",
     "text": [
      "0.7390467019740009\n",
      "Mean Square Error:  0.26095329802599904\n"
     ]
    }
   ],
   "source": [
    "from sklearn.svm import SVC\n",
    "from sklearn.metrics import accuracy_score\n",
    "\n",
    "clf = SVC(kernel='linear')\n",
    "clf.fit(X_train,y_train)\n",
    "y_pred = clf.predict(X_test)\n",
    "print(accuracy_score(y_test,y_pred))\n",
    "print(\"Mean Square Error: \", mean_absolute_error(y_test, y_pred))"
   ]
  },
  {
   "cell_type": "code",
   "execution_count": 59,
   "metadata": {},
   "outputs": [
    {
     "name": "stdout",
     "output_type": "stream",
     "text": [
      "              precision    recall  f1-score   support\n",
      "\n",
      "           0       0.76      0.68      0.72      1010\n",
      "           1       0.73      0.79      0.76      1067\n",
      "\n",
      "    accuracy                           0.74      2077\n",
      "   macro avg       0.74      0.74      0.74      2077\n",
      "weighted avg       0.74      0.74      0.74      2077\n",
      "\n"
     ]
    },
    {
     "data": {
      "text/plain": [
       "<sklearn.metrics._plot.roc_curve.RocCurveDisplay at 0x2002e42fc10>"
      ]
     },
     "execution_count": 59,
     "metadata": {},
     "output_type": "execute_result"
    },
    {
     "data": {
      "image/png": "[encoded data removed]",
      "text/plain": [
       "<Figure size 432x288 with 1 Axes>"
      ]
     },
     "metadata": {
      "needs_background": "light"
     },
     "output_type": "display_data"
    }
   ],
   "source": [
    "print(classification_report(y_test,y_pred))\n",
    "\n",
    "from sklearn.metrics import plot_precision_recall_curve,plot_roc_curve\n",
    "plot_roc_curve(clf, X_test,y_test)"
   ]
  },
  {
   "cell_type": "code",
   "execution_count": 63,
   "metadata": {},
   "outputs": [
    {
     "data": {
      "text/plain": [
       "MonthlyRunTime          0.148316\n",
       "Sensor2                 0.085724\n",
       "MaxOutputRate           0.084883\n",
       "Sensor5.1               0.079850\n",
       "Sensor3                 0.047329\n",
       "Sensor5                 0.043021\n",
       "DaysSinceMaintenance    0.040555\n",
       "Sensor1                 0.029772\n",
       "ComponentAge            0.022371\n",
       "Sensor4                 0.016706\n",
       "Location A              0.005312\n",
       "Name: MI Scores, dtype: float64"
      ]
     },
     "execution_count": 63,
     "metadata": {},
     "output_type": "execute_result"
    }
   ],
   "source": [
    "from sklearn.feature_selection import mutual_info_classif\n",
    "\n",
    "def make_mi_scores(X, y, discrete_features):\n",
    "    mi_scores = mutual_info_classif(X, y, discrete_features=discrete_features)\n",
    "    mi_scores = pd.Series(mi_scores, name=\"MI Scores\", index=X.columns)\n",
    "    mi_scores = mi_scores.sort_values(ascending=False)\n",
    "    return mi_scores\n",
    "\n",
    "mi_scores = make_mi_scores(X, y, discrete_features)\n",
    "mi_scores[1:12]"
   ]
  },
  {
   "cell_type": "code",
   "execution_count": 64,
   "metadata": {},
   "outputs": [
    {
     "data": {
      "image/png": "[encoded data removed]",
      "text/plain": [
       "<Figure size 700x400 with 1 Axes>"
      ]
     },
     "metadata": {
      "needs_background": "light"
     },
     "output_type": "display_data"
    }
   ],
   "source": [
    "def plot_mi_scores(scores):\n",
    "    scores = scores.sort_values(ascending=True)\n",
    "    width = np.arange(len(scores))\n",
    "    ticks = list(scores.index)\n",
    "    plt.barh(width, scores)\n",
    "    plt.yticks(width, ticks)\n",
    "    plt.title(\"Mutual Information Scores\")\n",
    "\n",
    "plt.figure(dpi=100, figsize=(7, 4))\n",
    "plot_mi_scores(mi_scores)"
   ]
  },
  {
   "cell_type": "markdown",
   "metadata": {},
   "source": [
    "method3: SMOTE"
   ]
  },
  {
   "cell_type": "code",
   "execution_count": 32,
   "metadata": {},
   "outputs": [],
   "source": [
    "X = data.drop('Target', axis=1)\n",
    "y = data['Target']"
   ]
  },
  {
   "cell_type": "code",
   "execution_count": 33,
   "metadata": {},
   "outputs": [],
   "source": [
    "from imblearn.over_sampling import SMOTE\n",
    "\n",
    "smote = SMOTE(sampling_strategy = 'minority')\n",
    "X_sm, y_sm = smote.fit_resample(X,y)"
   ]
  },
  {
   "cell_type": "code",
   "execution_count": 34,
   "metadata": {},
   "outputs": [
    {
     "name": "stdout",
     "output_type": "stream",
     "text": [
      "(8307, 12)\n",
      "(2077, 12)\n",
      "(8307,)\n",
      "(2077,)\n"
     ]
    }
   ],
   "source": [
    "from sklearn.model_selection import train_test_split\n",
    "\n",
    "X_train, X_test, y_train, y_test = train_test_split(X_sm, y_sm, test_size=0.2, random_state=1)\n",
    "print(X_train.shape)\n",
    "print(X_test.shape)\n",
    "print(y_train.shape)\n",
    "print(y_test.shape)"
   ]
  },
  {
   "cell_type": "code",
   "execution_count": 35,
   "metadata": {},
   "outputs": [
    {
     "name": "stdout",
     "output_type": "stream",
     "text": [
      "              precision    recall  f1-score   support\n",
      "\n",
      "           0       0.86      0.86      0.86      1046\n",
      "           1       0.86      0.85      0.86      1031\n",
      "\n",
      "    accuracy                           0.86      2077\n",
      "   macro avg       0.86      0.86      0.86      2077\n",
      "weighted avg       0.86      0.86      0.86      2077\n",
      "\n",
      "0.14347616754935003\n"
     ]
    }
   ],
   "source": [
    "from sklearn.tree import DecisionTreeClassifier\n",
    "model = DecisionTreeClassifier()\n",
    "model.fit(X_train,y_train)\n",
    "base_preds = model.predict(X_test)\n",
    "from sklearn.metrics import classification_report,plot_confusion_matrix\n",
    "print(classification_report(y_test,base_preds))\n",
    "# get predicted prices on validation data using training data\n",
    "print(mean_absolute_error(y_test, base_preds))"
   ]
  },
  {
   "cell_type": "code",
   "execution_count": 36,
   "metadata": {},
   "outputs": [
    {
     "data": {
      "text/html": [
       "<div>\n",
       "<style scoped>\n",
       "    .dataframe tbody tr th:only-of-type {\n",
       "        vertical-align: middle;\n",
       "    }\n",
       "\n",
       "    .dataframe tbody tr th {\n",
       "        vertical-align: top;\n",
       "    }\n",
       "\n",
       "    .dataframe thead th {\n",
       "        text-align: right;\n",
       "    }\n",
       "</style>\n",
       "<table border=\"1\" class=\"dataframe\">\n",
       "  <thead>\n",
       "    <tr style=\"text-align: right;\">\n",
       "      <th></th>\n",
       "      <th>Feature Importance</th>\n",
       "    </tr>\n",
       "  </thead>\n",
       "  <tbody>\n",
       "    <tr>\n",
       "      <th>MonthlyRunTime</th>\n",
       "      <td>0.312132</td>\n",
       "    </tr>\n",
       "    <tr>\n",
       "      <th>Sensor3</th>\n",
       "      <td>0.121033</td>\n",
       "    </tr>\n",
       "    <tr>\n",
       "      <th>Sensor2</th>\n",
       "      <td>0.077593</td>\n",
       "    </tr>\n",
       "    <tr>\n",
       "      <th>Sensor1</th>\n",
       "      <td>0.071319</td>\n",
       "    </tr>\n",
       "    <tr>\n",
       "      <th>ComponentAge</th>\n",
       "      <td>0.069299</td>\n",
       "    </tr>\n",
       "    <tr>\n",
       "      <th>DaysSinceMaintenance</th>\n",
       "      <td>0.067593</td>\n",
       "    </tr>\n",
       "    <tr>\n",
       "      <th>MaxOutputRate</th>\n",
       "      <td>0.065415</td>\n",
       "    </tr>\n",
       "    <tr>\n",
       "      <th>Sensor4</th>\n",
       "      <td>0.062777</td>\n",
       "    </tr>\n",
       "    <tr>\n",
       "      <th>Sensor5.1</th>\n",
       "      <td>0.053360</td>\n",
       "    </tr>\n",
       "    <tr>\n",
       "      <th>FlowRate</th>\n",
       "      <td>0.050687</td>\n",
       "    </tr>\n",
       "    <tr>\n",
       "      <th>Sensor5</th>\n",
       "      <td>0.046728</td>\n",
       "    </tr>\n",
       "    <tr>\n",
       "      <th>Location A</th>\n",
       "      <td>0.002064</td>\n",
       "    </tr>\n",
       "  </tbody>\n",
       "</table>\n",
       "</div>"
      ],
      "text/plain": [
       "                      Feature Importance\n",
       "MonthlyRunTime                  0.312132\n",
       "Sensor3                         0.121033\n",
       "Sensor2                         0.077593\n",
       "Sensor1                         0.071319\n",
       "ComponentAge                    0.069299\n",
       "DaysSinceMaintenance            0.067593\n",
       "MaxOutputRate                   0.065415\n",
       "Sensor4                         0.062777\n",
       "Sensor5.1                       0.053360\n",
       "FlowRate                        0.050687\n",
       "Sensor5                         0.046728\n",
       "Location A                      0.002064"
      ]
     },
     "execution_count": 36,
     "metadata": {},
     "output_type": "execute_result"
    }
   ],
   "source": [
    "#Calculate Feature Importance\n",
    "pd.DataFrame(index=X_sm.columns,data=model.feature_importances_,columns=['Feature Importance']).sort_values('Feature Importance',ascending=False)"
   ]
  },
  {
   "cell_type": "code",
   "execution_count": 37,
   "metadata": {},
   "outputs": [
    {
     "name": "stderr",
     "output_type": "stream",
     "text": [
      "C:\\Users\\olowe_m\\Anaconda3\\lib\\site-packages\\sklearn\\utils\\deprecation.py:87: FutureWarning: Function plot_roc_curve is deprecated; Function :func:`plot_roc_curve` is deprecated in 1.0 and will be removed in 1.2. Use one of the class methods: :meth:`sklearn.metric.RocCurveDisplay.from_predictions` or :meth:`sklearn.metric.RocCurveDisplay.from_estimator`.\n",
      "  warnings.warn(msg, category=FutureWarning)\n"
     ]
    },
    {
     "data": {
      "text/plain": [
       "<sklearn.metrics._plot.roc_curve.RocCurveDisplay at 0x1f4df298850>"
      ]
     },
     "execution_count": 37,
     "metadata": {},
     "output_type": "execute_result"
    },
    {
     "data": {
      "image/png": "[encoded data removed]",
      "text/plain": [
       "<Figure size 432x288 with 1 Axes>"
      ]
     },
     "metadata": {
      "needs_background": "light"
     },
     "output_type": "display_data"
    }
   ],
   "source": [
    "from sklearn.metrics import plot_precision_recall_curve,plot_roc_curve\n",
    "plot_roc_curve(model, X_test,y_test)"
   ]
  }
 ],
 "metadata": {
  "interpreter": {
   "hash": "6a22721d4c9fa5e000d4c0747d20bdcc2c031421878bc0f8ab9597cef4e6fcc9"
  },
  "kernelspec": {
   "display_name": "Python 3.8.8 64-bit ('base': conda)",
   "language": "python",
   "name": "python3"
  },
  "language_info": {
   "codemirror_mode": {
    "name": "ipython",
    "version": 3
   },
   "file_extension": ".py",
   "mimetype": "text/x-python",
   "name": "python",
   "nbconvert_exporter": "python",
   "pygments_lexer": "ipython3",
   "version": "3.9.7"
  },
  "orig_nbformat": 4
 },
 "nbformat": 4,
 "nbformat_minor": 2
}
