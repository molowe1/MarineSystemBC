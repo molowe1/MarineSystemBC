{
 "cells": [
  {
   "cell_type": "markdown",
   "metadata": {},
   "source": [
    "Deep Learning"
   ]
  },
  {
   "cell_type": "code",
   "execution_count": 23,
   "metadata": {},
   "outputs": [],
   "source": [
    "import csv\n",
    "import pandas as pd\n",
    "import numpy as np\n",
    "import matplotlib.pyplot as plt\n",
    "import plotly.express as px\n",
    "import seaborn as sns\n",
    "from collections import Counter"
   ]
  },
  {
   "cell_type": "code",
   "execution_count": 24,
   "metadata": {},
   "outputs": [
    {
     "name": "stdout",
     "output_type": "stream",
     "text": [
      "2.7.0\n"
     ]
    },
    {
     "data": {
      "text/html": [
       "<div>\n",
       "<style scoped>\n",
       "    .dataframe tbody tr th:only-of-type {\n",
       "        vertical-align: middle;\n",
       "    }\n",
       "\n",
       "    .dataframe tbody tr th {\n",
       "        vertical-align: top;\n",
       "    }\n",
       "\n",
       "    .dataframe thead th {\n",
       "        text-align: right;\n",
       "    }\n",
       "</style>\n",
       "<table border=\"1\" class=\"dataframe\">\n",
       "  <thead>\n",
       "    <tr style=\"text-align: right;\">\n",
       "      <th></th>\n",
       "      <th>Unnamed: 0</th>\n",
       "      <th>ComponentAge</th>\n",
       "      <th>MonthlyRunTime</th>\n",
       "      <th>Location</th>\n",
       "      <th>FlowRate</th>\n",
       "      <th>MaxOutputRate</th>\n",
       "      <th>Sensor1</th>\n",
       "      <th>Sensor2</th>\n",
       "      <th>Sensor3</th>\n",
       "      <th>Sensor4</th>\n",
       "      <th>Sensor5</th>\n",
       "      <th>Sensor5.1</th>\n",
       "      <th>DaysSinceMaintenance</th>\n",
       "      <th>Target</th>\n",
       "      <th>A</th>\n",
       "      <th>Location A</th>\n",
       "    </tr>\n",
       "  </thead>\n",
       "  <tbody>\n",
       "    <tr>\n",
       "      <th>0</th>\n",
       "      <td>0</td>\n",
       "      <td>0.55</td>\n",
       "      <td>9.5</td>\n",
       "      <td>B</td>\n",
       "      <td>0.99740</td>\n",
       "      <td>32.0</td>\n",
       "      <td>10.0</td>\n",
       "      <td>1.90</td>\n",
       "      <td>0.580</td>\n",
       "      <td>3.13</td>\n",
       "      <td>0.22</td>\n",
       "      <td>0.080</td>\n",
       "      <td>9.0</td>\n",
       "      <td>0</td>\n",
       "      <td>0</td>\n",
       "      <td>0</td>\n",
       "    </tr>\n",
       "    <tr>\n",
       "      <th>1</th>\n",
       "      <td>1</td>\n",
       "      <td>0.32</td>\n",
       "      <td>12.7</td>\n",
       "      <td>A</td>\n",
       "      <td>0.99184</td>\n",
       "      <td>28.0</td>\n",
       "      <td>6.9</td>\n",
       "      <td>10.55</td>\n",
       "      <td>0.300</td>\n",
       "      <td>3.07</td>\n",
       "      <td>0.30</td>\n",
       "      <td>0.037</td>\n",
       "      <td>4.0</td>\n",
       "      <td>0</td>\n",
       "      <td>1</td>\n",
       "      <td>1</td>\n",
       "    </tr>\n",
       "    <tr>\n",
       "      <th>2</th>\n",
       "      <td>2</td>\n",
       "      <td>0.57</td>\n",
       "      <td>9.7</td>\n",
       "      <td>B</td>\n",
       "      <td>0.99743</td>\n",
       "      <td>86.0</td>\n",
       "      <td>7.2</td>\n",
       "      <td>2.30</td>\n",
       "      <td>0.660</td>\n",
       "      <td>3.53</td>\n",
       "      <td>0.03</td>\n",
       "      <td>0.078</td>\n",
       "      <td>16.0</td>\n",
       "      <td>0</td>\n",
       "      <td>0</td>\n",
       "      <td>0</td>\n",
       "    </tr>\n",
       "    <tr>\n",
       "      <th>3</th>\n",
       "      <td>3</td>\n",
       "      <td>0.50</td>\n",
       "      <td>9.5</td>\n",
       "      <td>B</td>\n",
       "      <td>0.99593</td>\n",
       "      <td>84.0</td>\n",
       "      <td>7.1</td>\n",
       "      <td>1.80</td>\n",
       "      <td>0.755</td>\n",
       "      <td>3.19</td>\n",
       "      <td>0.15</td>\n",
       "      <td>0.107</td>\n",
       "      <td>20.0</td>\n",
       "      <td>0</td>\n",
       "      <td>0</td>\n",
       "      <td>0</td>\n",
       "    </tr>\n",
       "    <tr>\n",
       "      <th>4</th>\n",
       "      <td>4</td>\n",
       "      <td>0.44</td>\n",
       "      <td>10.8</td>\n",
       "      <td>A</td>\n",
       "      <td>0.99280</td>\n",
       "      <td>127.0</td>\n",
       "      <td>7.0</td>\n",
       "      <td>4.90</td>\n",
       "      <td>0.290</td>\n",
       "      <td>3.17</td>\n",
       "      <td>0.37</td>\n",
       "      <td>0.034</td>\n",
       "      <td>26.0</td>\n",
       "      <td>0</td>\n",
       "      <td>1</td>\n",
       "      <td>1</td>\n",
       "    </tr>\n",
       "  </tbody>\n",
       "</table>\n",
       "</div>"
      ],
      "text/plain": [
       "   Unnamed: 0  ComponentAge  MonthlyRunTime Location  FlowRate  MaxOutputRate  \\\n",
       "0           0          0.55             9.5        B   0.99740           32.0   \n",
       "1           1          0.32            12.7        A   0.99184           28.0   \n",
       "2           2          0.57             9.7        B   0.99743           86.0   \n",
       "3           3          0.50             9.5        B   0.99593           84.0   \n",
       "4           4          0.44            10.8        A   0.99280          127.0   \n",
       "\n",
       "   Sensor1  Sensor2  Sensor3  Sensor4  Sensor5  Sensor5.1  \\\n",
       "0     10.0     1.90    0.580     3.13     0.22      0.080   \n",
       "1      6.9    10.55    0.300     3.07     0.30      0.037   \n",
       "2      7.2     2.30    0.660     3.53     0.03      0.078   \n",
       "3      7.1     1.80    0.755     3.19     0.15      0.107   \n",
       "4      7.0     4.90    0.290     3.17     0.37      0.034   \n",
       "\n",
       "   DaysSinceMaintenance  Target  A  Location A  \n",
       "0                   9.0       0  0           0  \n",
       "1                   4.0       0  1           1  \n",
       "2                  16.0       0  0           0  \n",
       "3                  20.0       0  0           0  \n",
       "4                  26.0       0  1           1  "
      ]
     },
     "execution_count": 24,
     "metadata": {},
     "output_type": "execute_result"
    }
   ],
   "source": [
    "import os\n",
    "import tensorflow as tf\n",
    "from tensorflow import keras\n",
    "from tensorflow.keras import layers, callbacks\n",
    "from tensorflow.keras import optimizers\n",
    "from sklearn.model_selection import train_test_split\n",
    "import tensorflow_addons as tfa\n",
    "print(tf.__version__)\n",
    "\n",
    "#Load data set\n",
    "data = pd.read_csv(\"C:/Users/olowe_m/OneDrive/DA Material/DS Exercise 3/MPS_cleanv1.csv\")\n",
    "data.head(5)\n"
   ]
  },
  {
   "cell_type": "code",
   "execution_count": 25,
   "metadata": {},
   "outputs": [
    {
     "data": {
      "text/html": [
       "<div>\n",
       "<style scoped>\n",
       "    .dataframe tbody tr th:only-of-type {\n",
       "        vertical-align: middle;\n",
       "    }\n",
       "\n",
       "    .dataframe tbody tr th {\n",
       "        vertical-align: top;\n",
       "    }\n",
       "\n",
       "    .dataframe thead th {\n",
       "        text-align: right;\n",
       "    }\n",
       "</style>\n",
       "<table border=\"1\" class=\"dataframe\">\n",
       "  <thead>\n",
       "    <tr style=\"text-align: right;\">\n",
       "      <th></th>\n",
       "      <th>ComponentAge</th>\n",
       "      <th>MonthlyRunTime</th>\n",
       "      <th>FlowRate</th>\n",
       "      <th>MaxOutputRate</th>\n",
       "      <th>Sensor1</th>\n",
       "      <th>Sensor2</th>\n",
       "      <th>Sensor3</th>\n",
       "      <th>Sensor4</th>\n",
       "      <th>Sensor5</th>\n",
       "      <th>Sensor5.1</th>\n",
       "      <th>DaysSinceMaintenance</th>\n",
       "      <th>Target</th>\n",
       "      <th>Location A</th>\n",
       "    </tr>\n",
       "  </thead>\n",
       "  <tbody>\n",
       "    <tr>\n",
       "      <th>0</th>\n",
       "      <td>0.55</td>\n",
       "      <td>9.5</td>\n",
       "      <td>0.99740</td>\n",
       "      <td>32.0</td>\n",
       "      <td>10.0</td>\n",
       "      <td>1.90</td>\n",
       "      <td>0.580</td>\n",
       "      <td>3.13</td>\n",
       "      <td>0.22</td>\n",
       "      <td>0.080</td>\n",
       "      <td>9.0</td>\n",
       "      <td>0</td>\n",
       "      <td>0</td>\n",
       "    </tr>\n",
       "    <tr>\n",
       "      <th>1</th>\n",
       "      <td>0.32</td>\n",
       "      <td>12.7</td>\n",
       "      <td>0.99184</td>\n",
       "      <td>28.0</td>\n",
       "      <td>6.9</td>\n",
       "      <td>10.55</td>\n",
       "      <td>0.300</td>\n",
       "      <td>3.07</td>\n",
       "      <td>0.30</td>\n",
       "      <td>0.037</td>\n",
       "      <td>4.0</td>\n",
       "      <td>0</td>\n",
       "      <td>1</td>\n",
       "    </tr>\n",
       "    <tr>\n",
       "      <th>2</th>\n",
       "      <td>0.57</td>\n",
       "      <td>9.7</td>\n",
       "      <td>0.99743</td>\n",
       "      <td>86.0</td>\n",
       "      <td>7.2</td>\n",
       "      <td>2.30</td>\n",
       "      <td>0.660</td>\n",
       "      <td>3.53</td>\n",
       "      <td>0.03</td>\n",
       "      <td>0.078</td>\n",
       "      <td>16.0</td>\n",
       "      <td>0</td>\n",
       "      <td>0</td>\n",
       "    </tr>\n",
       "    <tr>\n",
       "      <th>3</th>\n",
       "      <td>0.50</td>\n",
       "      <td>9.5</td>\n",
       "      <td>0.99593</td>\n",
       "      <td>84.0</td>\n",
       "      <td>7.1</td>\n",
       "      <td>1.80</td>\n",
       "      <td>0.755</td>\n",
       "      <td>3.19</td>\n",
       "      <td>0.15</td>\n",
       "      <td>0.107</td>\n",
       "      <td>20.0</td>\n",
       "      <td>0</td>\n",
       "      <td>0</td>\n",
       "    </tr>\n",
       "    <tr>\n",
       "      <th>4</th>\n",
       "      <td>0.44</td>\n",
       "      <td>10.8</td>\n",
       "      <td>0.99280</td>\n",
       "      <td>127.0</td>\n",
       "      <td>7.0</td>\n",
       "      <td>4.90</td>\n",
       "      <td>0.290</td>\n",
       "      <td>3.17</td>\n",
       "      <td>0.37</td>\n",
       "      <td>0.034</td>\n",
       "      <td>26.0</td>\n",
       "      <td>0</td>\n",
       "      <td>1</td>\n",
       "    </tr>\n",
       "  </tbody>\n",
       "</table>\n",
       "</div>"
      ],
      "text/plain": [
       "   ComponentAge  MonthlyRunTime  FlowRate  MaxOutputRate  Sensor1  Sensor2  \\\n",
       "0          0.55             9.5   0.99740           32.0     10.0     1.90   \n",
       "1          0.32            12.7   0.99184           28.0      6.9    10.55   \n",
       "2          0.57             9.7   0.99743           86.0      7.2     2.30   \n",
       "3          0.50             9.5   0.99593           84.0      7.1     1.80   \n",
       "4          0.44            10.8   0.99280          127.0      7.0     4.90   \n",
       "\n",
       "   Sensor3  Sensor4  Sensor5  Sensor5.1  DaysSinceMaintenance  Target  \\\n",
       "0    0.580     3.13     0.22      0.080                   9.0       0   \n",
       "1    0.300     3.07     0.30      0.037                   4.0       0   \n",
       "2    0.660     3.53     0.03      0.078                  16.0       0   \n",
       "3    0.755     3.19     0.15      0.107                  20.0       0   \n",
       "4    0.290     3.17     0.37      0.034                  26.0       0   \n",
       "\n",
       "   Location A  \n",
       "0           0  \n",
       "1           1  \n",
       "2           0  \n",
       "3           0  \n",
       "4           1  "
      ]
     },
     "execution_count": 25,
     "metadata": {},
     "output_type": "execute_result"
    }
   ],
   "source": [
    "#Remove unused columns\n",
    "data = data.loc[:, ~data.columns.str.contains('^Unnamed')]\n",
    "data.drop(columns=['Location', 'A'], axis = 1, inplace = True)\n",
    "data.head(5)"
   ]
  },
  {
   "cell_type": "code",
   "execution_count": 26,
   "metadata": {},
   "outputs": [],
   "source": [
    "#We've chosen a three-layer network with over 1500 neurons. \n",
    "#This network should be capable of learning fairly complex relationships in the data.\n",
    "#model = keras.Sequential([\n",
    "#    layers.Dense(512, activation='relu', input_shape=[12]),\n",
    "#    layers.Dense(512, activation='relu'),\n",
    "#    layers.Dense(512, activation='relu'),\n",
    "#    layers.Dense(512, activation='relu'),\n",
    "#    layers.Dense(1),\n",
    "#])"
   ]
  },
  {
   "cell_type": "code",
   "execution_count": 27,
   "metadata": {},
   "outputs": [],
   "source": [
    "#Oversampling\n",
    "\n",
    "#class count\n",
    "#count_class_0, count_class_1 = data.Target.value_counts()\n",
    "\n",
    "#divide by class\n",
    "#data_class_0 = data[data['Target']==0]\n",
    "#data_class_1 = data[data['Target']==1]\n",
    "\n",
    "#data_class_1_over = data_class_1.sample(count_class_0, replace=True)\n",
    "\n",
    "#data = pd.concat([data_class_1_over, data_class_0],axis=0)"
   ]
  },
  {
   "cell_type": "code",
   "execution_count": 28,
   "metadata": {},
   "outputs": [
    {
     "data": {
      "text/html": [
       "<div>\n",
       "<style scoped>\n",
       "    .dataframe tbody tr th:only-of-type {\n",
       "        vertical-align: middle;\n",
       "    }\n",
       "\n",
       "    .dataframe tbody tr th {\n",
       "        vertical-align: top;\n",
       "    }\n",
       "\n",
       "    .dataframe thead th {\n",
       "        text-align: right;\n",
       "    }\n",
       "</style>\n",
       "<table border=\"1\" class=\"dataframe\">\n",
       "  <thead>\n",
       "    <tr style=\"text-align: right;\">\n",
       "      <th></th>\n",
       "      <th>ComponentAge</th>\n",
       "      <th>MonthlyRunTime</th>\n",
       "      <th>FlowRate</th>\n",
       "      <th>MaxOutputRate</th>\n",
       "      <th>Sensor1</th>\n",
       "      <th>Sensor2</th>\n",
       "      <th>Sensor3</th>\n",
       "      <th>Sensor4</th>\n",
       "      <th>Sensor5</th>\n",
       "      <th>Sensor5.1</th>\n",
       "      <th>DaysSinceMaintenance</th>\n",
       "      <th>Target</th>\n",
       "      <th>Location A</th>\n",
       "    </tr>\n",
       "  </thead>\n",
       "  <tbody>\n",
       "    <tr>\n",
       "      <th>3833</th>\n",
       "      <td>0.67</td>\n",
       "      <td>10.6</td>\n",
       "      <td>0.99686</td>\n",
       "      <td>32.0</td>\n",
       "      <td>11.7</td>\n",
       "      <td>1.7</td>\n",
       "      <td>0.28</td>\n",
       "      <td>3.15</td>\n",
       "      <td>0.47</td>\n",
       "      <td>0.054</td>\n",
       "      <td>17.0</td>\n",
       "      <td>1</td>\n",
       "      <td>0</td>\n",
       "    </tr>\n",
       "    <tr>\n",
       "      <th>4649</th>\n",
       "      <td>0.55</td>\n",
       "      <td>9.4</td>\n",
       "      <td>0.99878</td>\n",
       "      <td>76.0</td>\n",
       "      <td>9.9</td>\n",
       "      <td>5.8</td>\n",
       "      <td>0.74</td>\n",
       "      <td>3.14</td>\n",
       "      <td>0.19</td>\n",
       "      <td>0.111</td>\n",
       "      <td>33.0</td>\n",
       "      <td>0</td>\n",
       "      <td>0</td>\n",
       "    </tr>\n",
       "    <tr>\n",
       "      <th>499</th>\n",
       "      <td>0.74</td>\n",
       "      <td>9.9</td>\n",
       "      <td>0.99260</td>\n",
       "      <td>71.0</td>\n",
       "      <td>7.1</td>\n",
       "      <td>1.3</td>\n",
       "      <td>0.18</td>\n",
       "      <td>3.04</td>\n",
       "      <td>0.26</td>\n",
       "      <td>0.041</td>\n",
       "      <td>20.0</td>\n",
       "      <td>0</td>\n",
       "      <td>1</td>\n",
       "    </tr>\n",
       "    <tr>\n",
       "      <th>5462</th>\n",
       "      <td>0.46</td>\n",
       "      <td>8.9</td>\n",
       "      <td>0.99862</td>\n",
       "      <td>113.0</td>\n",
       "      <td>5.7</td>\n",
       "      <td>16.0</td>\n",
       "      <td>0.22</td>\n",
       "      <td>3.22</td>\n",
       "      <td>0.20</td>\n",
       "      <td>0.044</td>\n",
       "      <td>41.0</td>\n",
       "      <td>0</td>\n",
       "      <td>1</td>\n",
       "    </tr>\n",
       "  </tbody>\n",
       "</table>\n",
       "</div>"
      ],
      "text/plain": [
       "      ComponentAge  MonthlyRunTime  FlowRate  MaxOutputRate  Sensor1  Sensor2  \\\n",
       "3833          0.67            10.6   0.99686           32.0     11.7      1.7   \n",
       "4649          0.55             9.4   0.99878           76.0      9.9      5.8   \n",
       "499           0.74             9.9   0.99260           71.0      7.1      1.3   \n",
       "5462          0.46             8.9   0.99862          113.0      5.7     16.0   \n",
       "\n",
       "      Sensor3  Sensor4  Sensor5  Sensor5.1  DaysSinceMaintenance  Target  \\\n",
       "3833     0.28     3.15     0.47      0.054                  17.0       1   \n",
       "4649     0.74     3.14     0.19      0.111                  33.0       0   \n",
       "499      0.18     3.04     0.26      0.041                  20.0       0   \n",
       "5462     0.22     3.22     0.20      0.044                  41.0       0   \n",
       "\n",
       "      Location A  \n",
       "3833           0  \n",
       "4649           0  \n",
       "499            1  \n",
       "5462           1  "
      ]
     },
     "metadata": {},
     "output_type": "display_data"
    },
    {
     "name": "stdout",
     "output_type": "stream",
     "text": [
      "(4524, 12)\n"
     ]
    }
   ],
   "source": [
    "from IPython.display import display\n",
    "\n",
    "# Create training and validation splits\n",
    "data_train = data.sample(frac=0.7,random_state=0)\n",
    "data_valid = data.drop(data_train.index)\n",
    "display(data_train.head(4))\n",
    "\n",
    "# Scale to [0, 1]\n",
    "max_ = data_train.max(axis=0)\n",
    "min_ = data_train.min(axis=0)\n",
    "data_train = (data_train - min_) / (max_ - min_)\n",
    "data_valid = (data_valid - min_) / (max_ - min_)\n",
    "\n",
    "# Split features and target\n",
    "X_train = data_train.drop(['Target'], axis=1)\n",
    "X_valid = data_valid.drop(['Target'], axis=1)\n",
    "y_train = data_train['Target']\n",
    "y_valid = data_valid['Target']\n",
    "\n",
    "print(X_train.shape)"
   ]
  },
  {
   "cell_type": "code",
   "execution_count": 29,
   "metadata": {},
   "outputs": [],
   "source": [
    "early_stopping = callbacks.EarlyStopping(\n",
    "    min_delta=0.0001, # minimium amount of change to count as an improvement\n",
    "    patience=50, # how many epochs to wait before stopping\n",
    "    restore_best_weights=True,\n",
    ")\n",
    "\n",
    "# Create a network with 1 linear unit\n",
    "#model = keras.Sequential([\n",
    "    #layers.Dense(units=1, input_shape=[12])\n",
    "#])\n",
    "\n",
    "model = keras.Sequential([\n",
    "    #the hidden ReLU layers\n",
    "    layers.Dense(units=50, activation='relu', input_shape=[12]),\n",
    "    layers.Dense(units=12, activation='relu'),\n",
    "    #the linear output layer \n",
    "    layers.Dense(units=1, activation='sigmoid')\n",
    "])"
   ]
  },
  {
   "cell_type": "code",
   "execution_count": 30,
   "metadata": {},
   "outputs": [],
   "source": [
    "#Adding the Loss and Optimizer\n",
    "model.compile(\n",
    "    optimizer='adam',\n",
    "    loss='binary_crossentropy',\n",
    "    metrics=['binary_accuracy']\n",
    ")"
   ]
  },
  {
   "cell_type": "code",
   "execution_count": 31,
   "metadata": {},
   "outputs": [],
   "source": [
    "#Train the model\n",
    "history = model.fit(\n",
    "    X_train, y_train,\n",
    "    validation_data=(X_valid, y_valid),\n",
    "    batch_size=512,\n",
    "    epochs=200,\n",
    "    callbacks=[early_stopping], # put your callbacks in a list\n",
    "    verbose=0,  # turn off training log and suppress output since we'll plot the curves\n",
    ")"
   ]
  },
  {
   "cell_type": "code",
   "execution_count": 32,
   "metadata": {},
   "outputs": [
    {
     "name": "stdout",
     "output_type": "stream",
     "text": [
      "Summary of results after each epoch: \n"
     ]
    },
    {
     "data": {
      "text/html": [
       "<div>\n",
       "<style scoped>\n",
       "    .dataframe tbody tr th:only-of-type {\n",
       "        vertical-align: middle;\n",
       "    }\n",
       "\n",
       "    .dataframe tbody tr th {\n",
       "        vertical-align: top;\n",
       "    }\n",
       "\n",
       "    .dataframe thead th {\n",
       "        text-align: right;\n",
       "    }\n",
       "</style>\n",
       "<table border=\"1\" class=\"dataframe\">\n",
       "  <thead>\n",
       "    <tr style=\"text-align: right;\">\n",
       "      <th></th>\n",
       "      <th>loss</th>\n",
       "      <th>binary_accuracy</th>\n",
       "      <th>val_loss</th>\n",
       "      <th>val_binary_accuracy</th>\n",
       "      <th>epoch</th>\n",
       "    </tr>\n",
       "  </thead>\n",
       "  <tbody>\n",
       "    <tr>\n",
       "      <th>195</th>\n",
       "      <td>0.363821</td>\n",
       "      <td>0.834660</td>\n",
       "      <td>0.367468</td>\n",
       "      <td>0.820526</td>\n",
       "      <td>195</td>\n",
       "    </tr>\n",
       "    <tr>\n",
       "      <th>196</th>\n",
       "      <td>0.363779</td>\n",
       "      <td>0.834217</td>\n",
       "      <td>0.367912</td>\n",
       "      <td>0.816916</td>\n",
       "      <td>196</td>\n",
       "    </tr>\n",
       "    <tr>\n",
       "      <th>197</th>\n",
       "      <td>0.363455</td>\n",
       "      <td>0.833554</td>\n",
       "      <td>0.367026</td>\n",
       "      <td>0.820526</td>\n",
       "      <td>197</td>\n",
       "    </tr>\n",
       "    <tr>\n",
       "      <th>198</th>\n",
       "      <td>0.363103</td>\n",
       "      <td>0.834217</td>\n",
       "      <td>0.366487</td>\n",
       "      <td>0.817432</td>\n",
       "      <td>198</td>\n",
       "    </tr>\n",
       "    <tr>\n",
       "      <th>199</th>\n",
       "      <td>0.362753</td>\n",
       "      <td>0.834660</td>\n",
       "      <td>0.366427</td>\n",
       "      <td>0.816916</td>\n",
       "      <td>199</td>\n",
       "    </tr>\n",
       "  </tbody>\n",
       "</table>\n",
       "</div>"
      ],
      "text/plain": [
       "         loss  binary_accuracy  val_loss  val_binary_accuracy  epoch\n",
       "195  0.363821         0.834660  0.367468             0.820526    195\n",
       "196  0.363779         0.834217  0.367912             0.816916    196\n",
       "197  0.363455         0.833554  0.367026             0.820526    197\n",
       "198  0.363103         0.834217  0.366487             0.817432    198\n",
       "199  0.362753         0.834660  0.366427             0.816916    199"
      ]
     },
     "execution_count": 32,
     "metadata": {},
     "output_type": "execute_result"
    }
   ],
   "source": [
    "# convert the training history to a dataframe\n",
    "history_df = pd.DataFrame(history.history)\n",
    "#Summary of results after each epoch\n",
    "print('Summary of results after each epoch: ')\n",
    "history_df['epoch'] = history.epoch\n",
    "history_df.tail()"
   ]
  },
  {
   "cell_type": "code",
   "execution_count": 33,
   "metadata": {},
   "outputs": [
    {
     "name": "stdout",
     "output_type": "stream",
     "text": [
      "Best Validation Loss: 0.3664\n",
      "Best Validation Accuracy: 0.8247\n"
     ]
    },
    {
     "data": {
      "text/plain": [
       "<matplotlib.legend.Legend at 0x16dccb9cca0>"
      ]
     },
     "execution_count": 33,
     "metadata": {},
     "output_type": "execute_result"
    },
    {
     "data": {
      "image/png": "[encoded data removed]",
      "text/plain": [
       "<Figure size 432x288 with 1 Axes>"
      ]
     },
     "metadata": {
      "needs_background": "light"
     },
     "output_type": "display_data"
    },
    {
     "data": {
      "image/png": "[encoded data removed]",
      "text/plain": [
       "<Figure size 432x288 with 1 Axes>"
      ]
     },
     "metadata": {
      "needs_background": "light"
     },
     "output_type": "display_data"
    },
    {
     "data": {
      "image/png": "[encoded data removed]",
      "text/plain": [
       "<Figure size 432x288 with 1 Axes>"
      ]
     },
     "metadata": {
      "needs_background": "light"
     },
     "output_type": "display_data"
    }
   ],
   "source": [
    "# Start the plot at epoch 5\n",
    "history_df.loc[:, ['loss', 'val_loss']].plot()\n",
    "plt.ylabel('Loss')\n",
    "plt.xlabel('epoch')\n",
    "\n",
    "#Plot model\n",
    "history_df.loc[5:, ['binary_accuracy', 'val_binary_accuracy']].plot()\n",
    "plt.ylabel('Accuracy')\n",
    "plt.xlabel('epoch')\n",
    "plt.title('Binary Accuracy')\n",
    "\n",
    "print((\"Best Validation Loss: {:0.4f}\" +\\\n",
    "      \"\\nBest Validation Accuracy: {:0.4f}\")\\\n",
    "      .format(history_df['val_loss'].min(), \n",
    "              history_df['val_binary_accuracy'].max()))\n",
    "\n",
    "# use Pandas native plot method\n",
    "history_df.loc[:, ['loss', 'val_loss']].plot();\n",
    "plt.title('Model Loss')\n",
    "plt.ylabel('loss')\n",
    "plt.xlabel('epoch')\n",
    "plt.legend(['Train', 'Cross-Validation'])\n"
   ]
  },
  {
   "cell_type": "code",
   "execution_count": 34,
   "metadata": {},
   "outputs": [
    {
     "data": {
      "image/png": "[encoded data removed]",
      "text/plain": [
       "<Figure size 432x288 with 2 Axes>"
      ]
     },
     "metadata": {
      "needs_background": "light"
     },
     "output_type": "display_data"
    }
   ],
   "source": [
    "from sklearn.metrics import confusion_matrix\n",
    "\n",
    "ax= plt.subplot()\n",
    "predict_results = model.predict(X_valid)\n",
    "\n",
    "predict_results = (predict_results > 0.5)\n",
    "\n",
    "cm = confusion_matrix(y_valid, predict_results, normalize = 'true')\n",
    "\n",
    "sns.heatmap(cm, annot=True, ax = ax); #annot=True to annotate cells\n",
    "\n",
    "# labels, title and ticks\n",
    "ax.set_xlabel('Predicted labels');ax.set_ylabel('True labels'); \n",
    "ax.set_title('Confusion Matrix'); \n",
    "ax.xaxis.set_ticklabels(['Positive', 'Negative']); ax.yaxis.set_ticklabels(['Positive', 'Negative']);"
   ]
  },
  {
   "cell_type": "code",
   "execution_count": 35,
   "metadata": {},
   "outputs": [
    {
     "name": "stdout",
     "output_type": "stream",
     "text": [
      "ROC AUC : 0.6375\n"
     ]
    },
    {
     "data": {
      "image/png": "[encoded data removed]",
      "text/plain": [
       "<Figure size 432x288 with 1 Axes>"
      ]
     },
     "metadata": {
      "needs_background": "light"
     },
     "output_type": "display_data"
    }
   ],
   "source": [
    "from sklearn.metrics import roc_curve, auc, roc_auc_score\n",
    "from sklearn.model_selection import cross_val_score\n",
    "\n",
    "\n",
    "nn_fpr_keras, nn_tpr_keras, nn_thresholds_keras = roc_curve(y_valid, predict_results)\n",
    "auc_keras = auc(nn_fpr_keras, nn_tpr_keras)\n",
    "plt.plot(nn_fpr_keras, nn_tpr_keras, marker='.', label='Neural Network (auc = %0.3f)' % auc_keras)\n",
    "plt.title('ROC curve for Predicting a Binary classifier')\n",
    "plt.xlabel('False Positive Rate (1 - Specificity)')\n",
    "plt.ylabel('True Positive Rate (Sensitivity)')\n",
    "\n",
    "# compute ROC AUC\n",
    "ROC_AUC = roc_auc_score(y_valid, predict_results)\n",
    "print('ROC AUC : {:.4f}'.format(ROC_AUC))"
   ]
  },
  {
   "cell_type": "code",
   "execution_count": 36,
   "metadata": {},
   "outputs": [
    {
     "name": "stdout",
     "output_type": "stream",
     "text": [
      "              precision    recall  f1-score   support\n",
      "\n",
      "         0.0       0.85      0.94      0.89      1553\n",
      "         1.0       0.57      0.34      0.42       386\n",
      "\n",
      "    accuracy                           0.82      1939\n",
      "   macro avg       0.71      0.64      0.66      1939\n",
      "weighted avg       0.79      0.82      0.80      1939\n",
      "\n"
     ]
    }
   ],
   "source": [
    "from sklearn.metrics import classification_report\n",
    "print(classification_report(y_valid, predict_results))\n"
   ]
  },
  {
   "cell_type": "markdown",
   "metadata": {},
   "source": [
    "Building Binary Classifier using SVM"
   ]
  },
  {
   "cell_type": "code",
   "execution_count": 37,
   "metadata": {},
   "outputs": [
    {
     "name": "stdout",
     "output_type": "stream",
     "text": [
      "(5170, 12)\n",
      "(1293, 12)\n",
      "(5170,)\n",
      "(1293,)\n"
     ]
    }
   ],
   "source": [
    "from sklearn import svm\n",
    "# for Box-Cox Transformation\n",
    "from scipy import stats\n",
    "# for min_max scaling\n",
    "from mlxtend.preprocessing import minmax_scaling\n",
    "\n",
    "X = data.drop('Target', axis=1)\n",
    "y = data['Target']\n",
    "\n",
    "# mix-max scale the data between 0 and 1\n",
    "scaled_data = minmax_scaling(data, X.columns, min_val=0, max_val=1)\n",
    "\n",
    "X_train, X_test, y_train, y_test = train_test_split(scaled_data, y, test_size=0.2, random_state=1)\n",
    "print(X_train.shape)\n",
    "print(X_test.shape)\n",
    "print(y_train.shape)\n",
    "print(y_test.shape)"
   ]
  },
  {
   "cell_type": "code",
   "execution_count": 38,
   "metadata": {},
   "outputs": [
    {
     "data": {
      "text/plain": [
       "0    5192\n",
       "1    1271\n",
       "Name: Target, dtype: int64"
      ]
     },
     "execution_count": 38,
     "metadata": {},
     "output_type": "execute_result"
    }
   ],
   "source": [
    "data['Target'].value_counts()"
   ]
  },
  {
   "cell_type": "markdown",
   "metadata": {},
   "source": [
    "Train the model"
   ]
  },
  {
   "cell_type": "code",
   "execution_count": 39,
   "metadata": {},
   "outputs": [],
   "source": [
    "model = svm.SVC(C=100, kernel='poly')\n",
    "model.fit(X_train,y_train)\n",
    "y_preds = model.predict(X_test)"
   ]
  },
  {
   "cell_type": "markdown",
   "metadata": {},
   "source": [
    "Plot loss/mse across epochs"
   ]
  },
  {
   "cell_type": "code",
   "execution_count": 40,
   "metadata": {},
   "outputs": [
    {
     "name": "stdout",
     "output_type": "stream",
     "text": [
      "Accuracy: 0.8470019342359768\n",
      "Accuracy: 0.8283062645011601\n"
     ]
    }
   ],
   "source": [
    "from sklearn import metrics\n",
    "y_preds = model.predict(X_train)\n",
    "yt_preds = model.predict(X_test)\n",
    "\n",
    "print(\"Accuracy:\", metrics.accuracy_score(y_train, y_preds))\n",
    "print(\"Accuracy:\", metrics.accuracy_score(y_test, yt_preds))\n"
   ]
  },
  {
   "cell_type": "code",
   "execution_count": 41,
   "metadata": {},
   "outputs": [
    {
     "data": {
      "image/png": "[encoded data removed]",
      "text/plain": [
       "<Figure size 432x288 with 2 Axes>"
      ]
     },
     "metadata": {
      "needs_background": "light"
     },
     "output_type": "display_data"
    }
   ],
   "source": [
    "ax= plt.subplot()\n",
    "\n",
    "cm = confusion_matrix(y_test, yt_preds, normalize = 'true')\n",
    "\n",
    "sns.heatmap(cm, annot=True, ax = ax); #annot=True to annotate cells\n",
    "\n",
    "# labels, title and ticks\n",
    "ax.set_xlabel('Predicted labels');ax.set_ylabel('True labels'); \n",
    "ax.set_title('Confusion Matrix'); \n",
    "ax.xaxis.set_ticklabels(['Positive', 'Negative']); ax.yaxis.set_ticklabels(['Positive', 'Negative']);"
   ]
  },
  {
   "cell_type": "code",
   "execution_count": 42,
   "metadata": {},
   "outputs": [
    {
     "name": "stderr",
     "output_type": "stream",
     "text": [
      "C:\\Users\\olowe_m\\Anaconda3\\lib\\site-packages\\sklearn\\utils\\deprecation.py:87: FutureWarning: Function plot_roc_curve is deprecated; Function :func:`plot_roc_curve` is deprecated in 1.0 and will be removed in 1.2. Use one of the class methods: :meth:`sklearn.metric.RocCurveDisplay.from_predictions` or :meth:`sklearn.metric.RocCurveDisplay.from_estimator`.\n",
      "  warnings.warn(msg, category=FutureWarning)\n"
     ]
    },
    {
     "data": {
      "text/plain": [
       "<sklearn.metrics._plot.roc_curve.RocCurveDisplay at 0x16dcce8ac70>"
      ]
     },
     "execution_count": 42,
     "metadata": {},
     "output_type": "execute_result"
    },
    {
     "data": {
      "image/png": "[encoded data removed]",
      "text/plain": [
       "<Figure size 432x288 with 1 Axes>"
      ]
     },
     "metadata": {
      "needs_background": "light"
     },
     "output_type": "display_data"
    }
   ],
   "source": [
    "from sklearn.metrics import plot_precision_recall_curve,plot_roc_curve\n",
    "plot_roc_curve(model, X_test,y_test)"
   ]
  },
  {
   "cell_type": "code",
   "execution_count": 43,
   "metadata": {},
   "outputs": [
    {
     "name": "stdout",
     "output_type": "stream",
     "text": [
      "Cross validated ROC AUC : 0.8377\n"
     ]
    }
   ],
   "source": [
    "# calculate cross-validated ROC AUC \n",
    "Cross_validated_ROC_AUC = cross_val_score(model, X_train, y_train, cv=10, scoring='roc_auc').mean()\n",
    "print('Cross validated ROC AUC : {:.4f}'.format(Cross_validated_ROC_AUC))"
   ]
  },
  {
   "cell_type": "code",
   "execution_count": 44,
   "metadata": {},
   "outputs": [
    {
     "name": "stdout",
     "output_type": "stream",
     "text": [
      "              precision    recall  f1-score   support\n",
      "\n",
      "           0       0.85      0.95      0.90      1037\n",
      "           1       0.63      0.32      0.42       256\n",
      "\n",
      "    accuracy                           0.83      1293\n",
      "   macro avg       0.74      0.64      0.66      1293\n",
      "weighted avg       0.81      0.83      0.81      1293\n",
      "\n",
      "Model accuracy score with polynomial kernel and C=1.0 : 0.8283\n"
     ]
    }
   ],
   "source": [
    "from sklearn.metrics import classification_report, accuracy_score\n",
    "print(classification_report(y_test, yt_preds))\n",
    "\n",
    "# compute and print accuracy score\n",
    "print('Model accuracy score with polynomial kernel and C=1.0 : {0:0.4f}'. format(accuracy_score(y_test, yt_preds)))"
   ]
  }
 ],
 "metadata": {
  "interpreter": {
   "hash": "6a22721d4c9fa5e000d4c0747d20bdcc2c031421878bc0f8ab9597cef4e6fcc9"
  },
  "kernelspec": {
   "display_name": "Python 3.8.8 64-bit ('base': conda)",
   "language": "python",
   "name": "python3"
  },
  "language_info": {
   "codemirror_mode": {
    "name": "ipython",
    "version": 3
   },
   "file_extension": ".py",
   "mimetype": "text/x-python",
   "name": "python",
   "nbconvert_exporter": "python",
   "pygments_lexer": "ipython3",
   "version": "3.8.8"
  },
  "orig_nbformat": 4
 },
 "nbformat": 4,
 "nbformat_minor": 2
}
